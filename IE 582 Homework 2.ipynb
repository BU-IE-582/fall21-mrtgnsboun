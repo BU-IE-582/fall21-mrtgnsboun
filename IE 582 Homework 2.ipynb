{
 "cells": [
  {
   "cell_type": "markdown",
   "metadata": {},
   "source": [
    "MERT GÜNEŞ\n",
    "\n",
    "2021702093\n",
    "\n",
    "IE 582 - HOMEWORK 2"
   ]
  },
  {
   "cell_type": "code",
   "execution_count": 86,
   "metadata": {},
   "outputs": [],
   "source": [
    "import pandas as pd\n",
    "import matplotlib.pyplot as plt"
   ]
  },
  {
   "cell_type": "markdown",
   "metadata": {},
   "source": [
    "QUESTION 1"
   ]
  },
  {
   "cell_type": "code",
   "execution_count": 87,
   "metadata": {},
   "outputs": [],
   "source": [
    "data = pd.read_csv(\"IE582_Fall21_HW2_q1_data.csv\")"
   ]
  },
  {
   "cell_type": "code",
   "execution_count": 88,
   "metadata": {},
   "outputs": [
    {
     "data": {
      "text/html": [
       "<div>\n",
       "<style scoped>\n",
       "    .dataframe tbody tr th:only-of-type {\n",
       "        vertical-align: middle;\n",
       "    }\n",
       "\n",
       "    .dataframe tbody tr th {\n",
       "        vertical-align: top;\n",
       "    }\n",
       "\n",
       "    .dataframe thead th {\n",
       "        text-align: right;\n",
       "    }\n",
       "</style>\n",
       "<table border=\"1\" class=\"dataframe\">\n",
       "  <thead>\n",
       "    <tr style=\"text-align: right;\">\n",
       "      <th></th>\n",
       "      <th>X1</th>\n",
       "      <th>X2</th>\n",
       "      <th>class</th>\n",
       "    </tr>\n",
       "  </thead>\n",
       "  <tbody>\n",
       "    <tr>\n",
       "      <th>0</th>\n",
       "      <td>0.569483</td>\n",
       "      <td>0.822003</td>\n",
       "      <td>a</td>\n",
       "    </tr>\n",
       "    <tr>\n",
       "      <th>1</th>\n",
       "      <td>0.411469</td>\n",
       "      <td>0.911424</td>\n",
       "      <td>a</td>\n",
       "    </tr>\n",
       "    <tr>\n",
       "      <th>2</th>\n",
       "      <td>0.417385</td>\n",
       "      <td>-0.908730</td>\n",
       "      <td>a</td>\n",
       "    </tr>\n",
       "    <tr>\n",
       "      <th>3</th>\n",
       "      <td>-0.791828</td>\n",
       "      <td>0.610745</td>\n",
       "      <td>a</td>\n",
       "    </tr>\n",
       "    <tr>\n",
       "      <th>4</th>\n",
       "      <td>-0.806777</td>\n",
       "      <td>-0.590857</td>\n",
       "      <td>a</td>\n",
       "    </tr>\n",
       "    <tr>\n",
       "      <th>...</th>\n",
       "      <td>...</td>\n",
       "      <td>...</td>\n",
       "      <td>...</td>\n",
       "    </tr>\n",
       "    <tr>\n",
       "      <th>193</th>\n",
       "      <td>-0.662932</td>\n",
       "      <td>1.886934</td>\n",
       "      <td>b</td>\n",
       "    </tr>\n",
       "    <tr>\n",
       "      <th>194</th>\n",
       "      <td>0.316428</td>\n",
       "      <td>1.974810</td>\n",
       "      <td>b</td>\n",
       "    </tr>\n",
       "    <tr>\n",
       "      <th>195</th>\n",
       "      <td>-1.625464</td>\n",
       "      <td>-1.165275</td>\n",
       "      <td>b</td>\n",
       "    </tr>\n",
       "    <tr>\n",
       "      <th>196</th>\n",
       "      <td>-1.378755</td>\n",
       "      <td>-1.448804</td>\n",
       "      <td>b</td>\n",
       "    </tr>\n",
       "    <tr>\n",
       "      <th>197</th>\n",
       "      <td>-1.005258</td>\n",
       "      <td>-1.729005</td>\n",
       "      <td>b</td>\n",
       "    </tr>\n",
       "  </tbody>\n",
       "</table>\n",
       "<p>198 rows × 3 columns</p>\n",
       "</div>"
      ],
      "text/plain": [
       "           X1        X2 class\n",
       "0    0.569483  0.822003     a\n",
       "1    0.411469  0.911424     a\n",
       "2    0.417385 -0.908730     a\n",
       "3   -0.791828  0.610745     a\n",
       "4   -0.806777 -0.590857     a\n",
       "..        ...       ...   ...\n",
       "193 -0.662932  1.886934     b\n",
       "194  0.316428  1.974810     b\n",
       "195 -1.625464 -1.165275     b\n",
       "196 -1.378755 -1.448804     b\n",
       "197 -1.005258 -1.729005     b\n",
       "\n",
       "[198 rows x 3 columns]"
      ]
     },
     "execution_count": 88,
     "metadata": {},
     "output_type": "execute_result"
    }
   ],
   "source": [
    "data"
   ]
  },
  {
   "cell_type": "markdown",
   "metadata": {},
   "source": [
    "PCA"
   ]
  },
  {
   "cell_type": "code",
   "execution_count": 89,
   "metadata": {},
   "outputs": [
    {
     "data": {
      "text/plain": [
       "<matplotlib.legend.Legend at 0x18304eb4b70>"
      ]
     },
     "execution_count": 89,
     "metadata": {},
     "output_type": "execute_result"
    },
    {
     "data": {
      "image/png": "[encoded data removed]",
      "text/plain": [
       "<Figure size 432x288 with 1 Axes>"
      ]
     },
     "metadata": {
      "needs_background": "light"
     },
     "output_type": "display_data"
    }
   ],
   "source": [
    "plt.scatter(data[data[\"class\"]==\"a\"][\"X1\"], data[data[\"class\"]==\"a\"][\"X2\"], marker='o', c=\"k\")\n",
    "plt.scatter(data[data[\"class\"]==\"b\"][\"X1\"], data[data[\"class\"]==\"b\"][\"X2\"], marker='^', c=\"r\")\n",
    "plt.xlabel(\"X1\")\n",
    "plt.ylabel(\"X2\")\n",
    "plt.legend(labels=[\"Class a\",\"Class b\"],loc=\"upper left\")"
   ]
  },
  {
   "cell_type": "code",
   "execution_count": 90,
   "metadata": {},
   "outputs": [],
   "source": [
    "data.loc[data[\"class\"] == \"a\",\"class\"] = 1\n",
    "data.loc[data[\"class\"] == \"b\",\"class\"] = 2"
   ]
  },
  {
   "cell_type": "code",
   "execution_count": 91,
   "metadata": {},
   "outputs": [],
   "source": [
    "X = data.drop([\"class\"],axis=1)\n",
    "y = data[\"class\"]"
   ]
  },
  {
   "cell_type": "code",
   "execution_count": 92,
   "metadata": {},
   "outputs": [],
   "source": [
    "from sklearn.decomposition import PCA\n",
    "mdl = PCA(n_components=1)\n",
    "principalComponents = mdl.fit_transform(X)\n",
    "principalDf = pd.DataFrame(data = principalComponents,columns = [\"PCA\"])"
   ]
  },
  {
   "cell_type": "code",
   "execution_count": 93,
   "metadata": {},
   "outputs": [],
   "source": [
    "principalDf= principalDf.reset_index()"
   ]
  },
  {
   "cell_type": "code",
   "execution_count": 94,
   "metadata": {},
   "outputs": [
    {
     "data": {
      "text/plain": [
       "<matplotlib.collections.PathCollection at 0x18304f51518>"
      ]
     },
     "execution_count": 94,
     "metadata": {},
     "output_type": "execute_result"
    },
    {
     "data": {
      "image/png": "[encoded data removed]",
      "text/plain": [
       "<Figure size 432x288 with 1 Axes>"
      ]
     },
     "metadata": {
      "needs_background": "light"
     },
     "output_type": "display_data"
    }
   ],
   "source": [
    "plt.scatter(principalDf[\"PCA\"],principalDf[\"index\"],c=y)"
   ]
  },
  {
   "cell_type": "code",
   "execution_count": 95,
   "metadata": {},
   "outputs": [
    {
     "data": {
      "text/plain": [
       "array([1.79089975])"
      ]
     },
     "execution_count": 95,
     "metadata": {},
     "output_type": "execute_result"
    }
   ],
   "source": [
    "eigenvalues = mdl.explained_variance_\n",
    "eigenvalues"
   ]
  },
  {
   "cell_type": "markdown",
   "metadata": {},
   "source": [
    "MDS"
   ]
  },
  {
   "cell_type": "code",
   "execution_count": 96,
   "metadata": {},
   "outputs": [],
   "source": [
    "from sklearn.manifold import MDS\n",
    "mdl = MDS(n_components=1)\n",
    "MDSComponents = mdl.fit_transform(X)\n",
    "MDSDf = pd.DataFrame(data = MDSComponents,columns = [\"MDS\"])"
   ]
  },
  {
   "cell_type": "code",
   "execution_count": 97,
   "metadata": {},
   "outputs": [],
   "source": [
    "MDSDf= MDSDf.reset_index()"
   ]
  },
  {
   "cell_type": "code",
   "execution_count": 98,
   "metadata": {
    "scrolled": true
   },
   "outputs": [
    {
     "data": {
      "text/plain": [
       "<matplotlib.collections.PathCollection at 0x18304fc5278>"
      ]
     },
     "execution_count": 98,
     "metadata": {},
     "output_type": "execute_result"
    },
    {
     "data": {
      "image/png": "[encoded data removed]",
      "text/plain": [
       "<Figure size 432x288 with 1 Axes>"
      ]
     },
     "metadata": {
      "needs_background": "light"
     },
     "output_type": "display_data"
    }
   ],
   "source": [
    "plt.scatter(MDSDf[\"MDS\"],MDSDf[\"index\"],c=y)"
   ]
  },
  {
   "cell_type": "markdown",
   "metadata": {},
   "source": [
    "MDS with Different Similarity Measure"
   ]
  },
  {
   "cell_type": "code",
   "execution_count": 65,
   "metadata": {},
   "outputs": [],
   "source": [
    "mdl2 = MDS(n_components=1,dissimilarity=\"precomputed\")\n",
    "MDSComponents = mdl.fit_transform(X)\n",
    "MDSDf = pd.DataFrame(data = MDSComponents,columns = [\"MDS\"])"
   ]
  },
  {
   "cell_type": "code",
   "execution_count": 66,
   "metadata": {},
   "outputs": [],
   "source": [
    "MDSDf= MDSDf.reset_index()"
   ]
  },
  {
   "cell_type": "code",
   "execution_count": 67,
   "metadata": {
    "scrolled": true
   },
   "outputs": [
    {
     "data": {
      "text/plain": [
       "<matplotlib.collections.PathCollection at 0x18303c370b8>"
      ]
     },
     "execution_count": 67,
     "metadata": {},
     "output_type": "execute_result"
    },
    {
     "data": {
      "image/png": "[encoded data removed]",
      "text/plain": [
       "<Figure size 432x288 with 1 Axes>"
      ]
     },
     "metadata": {
      "needs_background": "light"
     },
     "output_type": "display_data"
    }
   ],
   "source": [
    "plt.scatter(MDSDf[\"MDS\"],MDSDf[\"index\"],c=y)"
   ]
  },
  {
   "cell_type": "markdown",
   "metadata": {},
   "source": [
    "Part C\n",
    "\n",
    "1. In general terms, the distribution is again formed by one cluster taking over the other, but it is in a much different situation than the original. It doesn't look like you can use it directly. \n",
    "\n",
    "2. A more dispersed data appears in MDS compared to PCA. Again, there is a dataset far from the original. When using Precomputed, the data is even more dispersed, according to Euclidian. \n",
    "\n",
    "3. I think neither of them can be used as a substitute for two-dimensional data. If one has to be chosen, PCA looks more like the original as it is less dispersed data. "
   ]
  },
  {
   "cell_type": "markdown",
   "metadata": {},
   "source": [
    "PCA with Different Features"
   ]
  },
  {
   "cell_type": "code",
   "execution_count": 99,
   "metadata": {},
   "outputs": [],
   "source": [
    "data[\"squaredX1\"] = data[\"X1\"]**2\n",
    "data[\"squaredX2\"] = data[\"X2\"]**2\n",
    "data[\"product\"] = data[\"X1\"]*data[\"X2\"]"
   ]
  },
  {
   "cell_type": "code",
   "execution_count": 100,
   "metadata": {},
   "outputs": [
    {
     "data": {
      "text/html": [
       "<div>\n",
       "<style scoped>\n",
       "    .dataframe tbody tr th:only-of-type {\n",
       "        vertical-align: middle;\n",
       "    }\n",
       "\n",
       "    .dataframe tbody tr th {\n",
       "        vertical-align: top;\n",
       "    }\n",
       "\n",
       "    .dataframe thead th {\n",
       "        text-align: right;\n",
       "    }\n",
       "</style>\n",
       "<table border=\"1\" class=\"dataframe\">\n",
       "  <thead>\n",
       "    <tr style=\"text-align: right;\">\n",
       "      <th></th>\n",
       "      <th>X1</th>\n",
       "      <th>X2</th>\n",
       "      <th>class</th>\n",
       "      <th>squaredX1</th>\n",
       "      <th>squaredX2</th>\n",
       "      <th>product</th>\n",
       "    </tr>\n",
       "  </thead>\n",
       "  <tbody>\n",
       "    <tr>\n",
       "      <th>0</th>\n",
       "      <td>0.569483</td>\n",
       "      <td>0.822003</td>\n",
       "      <td>1</td>\n",
       "      <td>0.324311</td>\n",
       "      <td>0.675689</td>\n",
       "      <td>0.468117</td>\n",
       "    </tr>\n",
       "    <tr>\n",
       "      <th>1</th>\n",
       "      <td>0.411469</td>\n",
       "      <td>0.911424</td>\n",
       "      <td>1</td>\n",
       "      <td>0.169307</td>\n",
       "      <td>0.830693</td>\n",
       "      <td>0.375023</td>\n",
       "    </tr>\n",
       "    <tr>\n",
       "      <th>2</th>\n",
       "      <td>0.417385</td>\n",
       "      <td>-0.908730</td>\n",
       "      <td>1</td>\n",
       "      <td>0.174210</td>\n",
       "      <td>0.825790</td>\n",
       "      <td>-0.379290</td>\n",
       "    </tr>\n",
       "    <tr>\n",
       "      <th>3</th>\n",
       "      <td>-0.791828</td>\n",
       "      <td>0.610745</td>\n",
       "      <td>1</td>\n",
       "      <td>0.626991</td>\n",
       "      <td>0.373009</td>\n",
       "      <td>-0.483604</td>\n",
       "    </tr>\n",
       "    <tr>\n",
       "      <th>4</th>\n",
       "      <td>-0.806777</td>\n",
       "      <td>-0.590857</td>\n",
       "      <td>1</td>\n",
       "      <td>0.650889</td>\n",
       "      <td>0.349111</td>\n",
       "      <td>0.476689</td>\n",
       "    </tr>\n",
       "    <tr>\n",
       "      <th>...</th>\n",
       "      <td>...</td>\n",
       "      <td>...</td>\n",
       "      <td>...</td>\n",
       "      <td>...</td>\n",
       "      <td>...</td>\n",
       "      <td>...</td>\n",
       "    </tr>\n",
       "    <tr>\n",
       "      <th>193</th>\n",
       "      <td>-0.662932</td>\n",
       "      <td>1.886934</td>\n",
       "      <td>2</td>\n",
       "      <td>0.439479</td>\n",
       "      <td>3.560521</td>\n",
       "      <td>-1.250910</td>\n",
       "    </tr>\n",
       "    <tr>\n",
       "      <th>194</th>\n",
       "      <td>0.316428</td>\n",
       "      <td>1.974810</td>\n",
       "      <td>2</td>\n",
       "      <td>0.100127</td>\n",
       "      <td>3.899873</td>\n",
       "      <td>0.624885</td>\n",
       "    </tr>\n",
       "    <tr>\n",
       "      <th>195</th>\n",
       "      <td>-1.625464</td>\n",
       "      <td>-1.165275</td>\n",
       "      <td>2</td>\n",
       "      <td>2.642134</td>\n",
       "      <td>1.357866</td>\n",
       "      <td>1.894113</td>\n",
       "    </tr>\n",
       "    <tr>\n",
       "      <th>196</th>\n",
       "      <td>-1.378755</td>\n",
       "      <td>-1.448804</td>\n",
       "      <td>2</td>\n",
       "      <td>1.900966</td>\n",
       "      <td>2.099034</td>\n",
       "      <td>1.997547</td>\n",
       "    </tr>\n",
       "    <tr>\n",
       "      <th>197</th>\n",
       "      <td>-1.005258</td>\n",
       "      <td>-1.729005</td>\n",
       "      <td>2</td>\n",
       "      <td>1.010543</td>\n",
       "      <td>2.989457</td>\n",
       "      <td>1.738095</td>\n",
       "    </tr>\n",
       "  </tbody>\n",
       "</table>\n",
       "<p>198 rows × 6 columns</p>\n",
       "</div>"
      ],
      "text/plain": [
       "           X1        X2 class  squaredX1  squaredX2   product\n",
       "0    0.569483  0.822003     1   0.324311   0.675689  0.468117\n",
       "1    0.411469  0.911424     1   0.169307   0.830693  0.375023\n",
       "2    0.417385 -0.908730     1   0.174210   0.825790 -0.379290\n",
       "3   -0.791828  0.610745     1   0.626991   0.373009 -0.483604\n",
       "4   -0.806777 -0.590857     1   0.650889   0.349111  0.476689\n",
       "..        ...       ...   ...        ...        ...       ...\n",
       "193 -0.662932  1.886934     2   0.439479   3.560521 -1.250910\n",
       "194  0.316428  1.974810     2   0.100127   3.899873  0.624885\n",
       "195 -1.625464 -1.165275     2   2.642134   1.357866  1.894113\n",
       "196 -1.378755 -1.448804     2   1.900966   2.099034  1.997547\n",
       "197 -1.005258 -1.729005     2   1.010543   2.989457  1.738095\n",
       "\n",
       "[198 rows x 6 columns]"
      ]
     },
     "execution_count": 100,
     "metadata": {},
     "output_type": "execute_result"
    }
   ],
   "source": [
    "data"
   ]
  },
  {
   "cell_type": "code",
   "execution_count": 101,
   "metadata": {},
   "outputs": [],
   "source": [
    "X = data.drop([\"class\"],axis=1)\n",
    "y = data[\"class\"]"
   ]
  },
  {
   "cell_type": "code",
   "execution_count": 103,
   "metadata": {
    "scrolled": true
   },
   "outputs": [],
   "source": [
    "from sklearn.decomposition import PCA\n",
    "mdl = PCA(n_components=1)\n",
    "principalComponents = mdl.fit_transform(X)\n",
    "principalDf = pd.DataFrame(data = principalComponents,columns = [\"PCA\"])"
   ]
  },
  {
   "cell_type": "code",
   "execution_count": 104,
   "metadata": {},
   "outputs": [],
   "source": [
    "principalDf= principalDf.reset_index()"
   ]
  },
  {
   "cell_type": "code",
   "execution_count": 105,
   "metadata": {},
   "outputs": [
    {
     "data": {
      "text/plain": [
       "<matplotlib.collections.PathCollection at 0x18304ea45f8>"
      ]
     },
     "execution_count": 105,
     "metadata": {},
     "output_type": "execute_result"
    },
    {
     "data": {
      "image/png": "[encoded data removed]",
      "text/plain": [
       "<Figure size 432x288 with 1 Axes>"
      ]
     },
     "metadata": {
      "needs_background": "light"
     },
     "output_type": "display_data"
    }
   ],
   "source": [
    "plt.scatter(principalDf[\"PCA\"],principalDf[\"index\"],c=y)"
   ]
  },
  {
   "cell_type": "code",
   "execution_count": 106,
   "metadata": {},
   "outputs": [
    {
     "data": {
      "text/plain": [
       "array([2.49086525])"
      ]
     },
     "execution_count": 106,
     "metadata": {},
     "output_type": "execute_result"
    }
   ],
   "source": [
    "eigenvalues = mdl.explained_variance_\n",
    "eigenvalues"
   ]
  },
  {
   "cell_type": "markdown",
   "metadata": {},
   "source": [
    "The eigenvalue indicates how much of the variance of the data is represented by PCA. We can say that the eigenvalue of this state of the data is higher than the 2-dimensional one and more variance is explained from here. "
   ]
  },
  {
   "cell_type": "markdown",
   "metadata": {},
   "source": [
    "QUESTION 2"
   ]
  },
  {
   "cell_type": "code",
   "execution_count": 107,
   "metadata": {},
   "outputs": [],
   "source": [
    "map = pd.read_csv(\"ilmesafe.csv\",encoding=\"latin-1\",sep=\";\")"
   ]
  },
  {
   "cell_type": "code",
   "execution_count": 108,
   "metadata": {},
   "outputs": [
    {
     "data": {
      "text/html": [
       "<div>\n",
       "<style scoped>\n",
       "    .dataframe tbody tr th:only-of-type {\n",
       "        vertical-align: middle;\n",
       "    }\n",
       "\n",
       "    .dataframe tbody tr th {\n",
       "        vertical-align: top;\n",
       "    }\n",
       "\n",
       "    .dataframe thead th {\n",
       "        text-align: right;\n",
       "    }\n",
       "</style>\n",
       "<table border=\"1\" class=\"dataframe\">\n",
       "  <thead>\n",
       "    <tr style=\"text-align: right;\">\n",
       "      <th></th>\n",
       "      <th>ÝL ADI</th>\n",
       "      <th>ADANA</th>\n",
       "      <th>ADIYAMAN</th>\n",
       "      <th>AFYONKARAHÝSAR</th>\n",
       "      <th>AÐRI</th>\n",
       "      <th>AMASYA</th>\n",
       "      <th>ANKARA</th>\n",
       "      <th>ANTALYA</th>\n",
       "      <th>ARTVÝN</th>\n",
       "      <th>AYDIN</th>\n",
       "      <th>...</th>\n",
       "      <th>BATMAN</th>\n",
       "      <th>ÞIRNAK</th>\n",
       "      <th>BARTIN</th>\n",
       "      <th>ARDAHAN</th>\n",
       "      <th>IÐDIR</th>\n",
       "      <th>YALOVA</th>\n",
       "      <th>KARABÜK</th>\n",
       "      <th>KÝLÝS</th>\n",
       "      <th>OSMANÝYE</th>\n",
       "      <th>DÜZCE</th>\n",
       "    </tr>\n",
       "  </thead>\n",
       "  <tbody>\n",
       "    <tr>\n",
       "      <th>0</th>\n",
       "      <td>ADANA</td>\n",
       "      <td>NaN</td>\n",
       "      <td>335.0</td>\n",
       "      <td>575.0</td>\n",
       "      <td>966.0</td>\n",
       "      <td>603.0</td>\n",
       "      <td>567.0</td>\n",
       "      <td>535.0</td>\n",
       "      <td>1035.0</td>\n",
       "      <td>874.0</td>\n",
       "      <td>...</td>\n",
       "      <td>621.0</td>\n",
       "      <td>709.0</td>\n",
       "      <td>782.0</td>\n",
       "      <td>1042.0</td>\n",
       "      <td>1066.0</td>\n",
       "      <td>899.0</td>\n",
       "      <td>714.0</td>\n",
       "      <td>246.0</td>\n",
       "      <td>87.0</td>\n",
       "      <td>735.0</td>\n",
       "    </tr>\n",
       "    <tr>\n",
       "      <th>1</th>\n",
       "      <td>ADIYAMAN</td>\n",
       "      <td>335.0</td>\n",
       "      <td>NaN</td>\n",
       "      <td>910.0</td>\n",
       "      <td>648.0</td>\n",
       "      <td>632.0</td>\n",
       "      <td>814.0</td>\n",
       "      <td>870.0</td>\n",
       "      <td>751.0</td>\n",
       "      <td>1209.0</td>\n",
       "      <td>...</td>\n",
       "      <td>303.0</td>\n",
       "      <td>471.0</td>\n",
       "      <td>1023.0</td>\n",
       "      <td>758.0</td>\n",
       "      <td>748.0</td>\n",
       "      <td>1147.0</td>\n",
       "      <td>955.0</td>\n",
       "      <td>210.0</td>\n",
       "      <td>248.0</td>\n",
       "      <td>976.0</td>\n",
       "    </tr>\n",
       "    <tr>\n",
       "      <th>2</th>\n",
       "      <td>AFYONKARAHÝSAR</td>\n",
       "      <td>575.0</td>\n",
       "      <td>910.0</td>\n",
       "      <td>NaN</td>\n",
       "      <td>1318.0</td>\n",
       "      <td>597.0</td>\n",
       "      <td>300.0</td>\n",
       "      <td>290.0</td>\n",
       "      <td>1243.0</td>\n",
       "      <td>345.0</td>\n",
       "      <td>...</td>\n",
       "      <td>1196.0</td>\n",
       "      <td>1284.0</td>\n",
       "      <td>515.0</td>\n",
       "      <td>1351.0</td>\n",
       "      <td>1461.0</td>\n",
       "      <td>338.0</td>\n",
       "      <td>447.0</td>\n",
       "      <td>821.0</td>\n",
       "      <td>662.0</td>\n",
       "      <td>375.0</td>\n",
       "    </tr>\n",
       "    <tr>\n",
       "      <th>3</th>\n",
       "      <td>AÐRI</td>\n",
       "      <td>966.0</td>\n",
       "      <td>648.0</td>\n",
       "      <td>1318.0</td>\n",
       "      <td>NaN</td>\n",
       "      <td>738.0</td>\n",
       "      <td>1141.0</td>\n",
       "      <td>1428.0</td>\n",
       "      <td>396.0</td>\n",
       "      <td>1640.0</td>\n",
       "      <td>...</td>\n",
       "      <td>369.0</td>\n",
       "      <td>430.0</td>\n",
       "      <td>1175.0</td>\n",
       "      <td>310.0</td>\n",
       "      <td>143.0</td>\n",
       "      <td>1363.0</td>\n",
       "      <td>1106.0</td>\n",
       "      <td>814.0</td>\n",
       "      <td>879.0</td>\n",
       "      <td>1192.0</td>\n",
       "    </tr>\n",
       "    <tr>\n",
       "      <th>4</th>\n",
       "      <td>AMASYA</td>\n",
       "      <td>603.0</td>\n",
       "      <td>632.0</td>\n",
       "      <td>597.0</td>\n",
       "      <td>736.0</td>\n",
       "      <td>NaN</td>\n",
       "      <td>413.0</td>\n",
       "      <td>825.0</td>\n",
       "      <td>695.0</td>\n",
       "      <td>938.0</td>\n",
       "      <td>...</td>\n",
       "      <td>796.0</td>\n",
       "      <td>982.0</td>\n",
       "      <td>437.0</td>\n",
       "      <td>783.0</td>\n",
       "      <td>881.0</td>\n",
       "      <td>625.0</td>\n",
       "      <td>368.0</td>\n",
       "      <td>639.0</td>\n",
       "      <td>608.0</td>\n",
       "      <td>454.0</td>\n",
       "    </tr>\n",
       "    <tr>\n",
       "      <th>...</th>\n",
       "      <td>...</td>\n",
       "      <td>...</td>\n",
       "      <td>...</td>\n",
       "      <td>...</td>\n",
       "      <td>...</td>\n",
       "      <td>...</td>\n",
       "      <td>...</td>\n",
       "      <td>...</td>\n",
       "      <td>...</td>\n",
       "      <td>...</td>\n",
       "      <td>...</td>\n",
       "      <td>...</td>\n",
       "      <td>...</td>\n",
       "      <td>...</td>\n",
       "      <td>...</td>\n",
       "      <td>...</td>\n",
       "      <td>...</td>\n",
       "      <td>...</td>\n",
       "      <td>...</td>\n",
       "      <td>...</td>\n",
       "      <td>...</td>\n",
       "    </tr>\n",
       "    <tr>\n",
       "      <th>76</th>\n",
       "      <td>YALOVA</td>\n",
       "      <td>899.0</td>\n",
       "      <td>1152.0</td>\n",
       "      <td>338.0</td>\n",
       "      <td>1361.0</td>\n",
       "      <td>625.0</td>\n",
       "      <td>407.0</td>\n",
       "      <td>601.0</td>\n",
       "      <td>1254.0</td>\n",
       "      <td>510.0</td>\n",
       "      <td>...</td>\n",
       "      <td>1411.0</td>\n",
       "      <td>1562.0</td>\n",
       "      <td>371.0</td>\n",
       "      <td>1362.0</td>\n",
       "      <td>1472.0</td>\n",
       "      <td>NaN</td>\n",
       "      <td>350.0</td>\n",
       "      <td>1120.0</td>\n",
       "      <td>987.0</td>\n",
       "      <td>171.0</td>\n",
       "    </tr>\n",
       "    <tr>\n",
       "      <th>77</th>\n",
       "      <td>KARABÜK</td>\n",
       "      <td>714.0</td>\n",
       "      <td>960.0</td>\n",
       "      <td>447.0</td>\n",
       "      <td>1104.0</td>\n",
       "      <td>368.0</td>\n",
       "      <td>215.0</td>\n",
       "      <td>734.0</td>\n",
       "      <td>970.0</td>\n",
       "      <td>788.0</td>\n",
       "      <td>...</td>\n",
       "      <td>1164.0</td>\n",
       "      <td>1350.0</td>\n",
       "      <td>89.0</td>\n",
       "      <td>1078.0</td>\n",
       "      <td>1215.0</td>\n",
       "      <td>350.0</td>\n",
       "      <td>NaN</td>\n",
       "      <td>928.0</td>\n",
       "      <td>801.0</td>\n",
       "      <td>179.0</td>\n",
       "    </tr>\n",
       "    <tr>\n",
       "      <th>78</th>\n",
       "      <td>KÝLÝS</td>\n",
       "      <td>246.0</td>\n",
       "      <td>210.0</td>\n",
       "      <td>821.0</td>\n",
       "      <td>814.0</td>\n",
       "      <td>644.0</td>\n",
       "      <td>715.0</td>\n",
       "      <td>781.0</td>\n",
       "      <td>917.0</td>\n",
       "      <td>1120.0</td>\n",
       "      <td>...</td>\n",
       "      <td>469.0</td>\n",
       "      <td>557.0</td>\n",
       "      <td>1001.0</td>\n",
       "      <td>924.0</td>\n",
       "      <td>917.0</td>\n",
       "      <td>1125.0</td>\n",
       "      <td>933.0</td>\n",
       "      <td>NaN</td>\n",
       "      <td>159.0</td>\n",
       "      <td>949.0</td>\n",
       "    </tr>\n",
       "    <tr>\n",
       "      <th>79</th>\n",
       "      <td>OSMANÝYE</td>\n",
       "      <td>87.0</td>\n",
       "      <td>248.0</td>\n",
       "      <td>662.0</td>\n",
       "      <td>879.0</td>\n",
       "      <td>613.0</td>\n",
       "      <td>579.0</td>\n",
       "      <td>622.0</td>\n",
       "      <td>948.0</td>\n",
       "      <td>961.0</td>\n",
       "      <td>...</td>\n",
       "      <td>534.0</td>\n",
       "      <td>622.0</td>\n",
       "      <td>869.0</td>\n",
       "      <td>955.0</td>\n",
       "      <td>982.0</td>\n",
       "      <td>986.0</td>\n",
       "      <td>801.0</td>\n",
       "      <td>159.0</td>\n",
       "      <td>NaN</td>\n",
       "      <td>822.0</td>\n",
       "    </tr>\n",
       "    <tr>\n",
       "      <th>80</th>\n",
       "      <td>DÜZCE</td>\n",
       "      <td>735.0</td>\n",
       "      <td>981.0</td>\n",
       "      <td>375.0</td>\n",
       "      <td>1190.0</td>\n",
       "      <td>454.0</td>\n",
       "      <td>236.0</td>\n",
       "      <td>638.0</td>\n",
       "      <td>1083.0</td>\n",
       "      <td>671.0</td>\n",
       "      <td>...</td>\n",
       "      <td>1240.0</td>\n",
       "      <td>1391.0</td>\n",
       "      <td>200.0</td>\n",
       "      <td>1191.0</td>\n",
       "      <td>1301.0</td>\n",
       "      <td>171.0</td>\n",
       "      <td>179.0</td>\n",
       "      <td>954.0</td>\n",
       "      <td>822.0</td>\n",
       "      <td>NaN</td>\n",
       "    </tr>\n",
       "  </tbody>\n",
       "</table>\n",
       "<p>81 rows × 82 columns</p>\n",
       "</div>"
      ],
      "text/plain": [
       "            ÝL ADI  ADANA  ADIYAMAN  AFYONKARAHÝSAR    AÐRI  AMASYA  ANKARA  \\\n",
       "0            ADANA    NaN     335.0           575.0   966.0   603.0   567.0   \n",
       "1         ADIYAMAN  335.0       NaN           910.0   648.0   632.0   814.0   \n",
       "2   AFYONKARAHÝSAR  575.0     910.0             NaN  1318.0   597.0   300.0   \n",
       "3             AÐRI  966.0     648.0          1318.0     NaN   738.0  1141.0   \n",
       "4           AMASYA  603.0     632.0           597.0   736.0     NaN   413.0   \n",
       "..             ...    ...       ...             ...     ...     ...     ...   \n",
       "76          YALOVA  899.0    1152.0           338.0  1361.0   625.0   407.0   \n",
       "77         KARABÜK  714.0     960.0           447.0  1104.0   368.0   215.0   \n",
       "78           KÝLÝS  246.0     210.0           821.0   814.0   644.0   715.0   \n",
       "79        OSMANÝYE   87.0     248.0           662.0   879.0   613.0   579.0   \n",
       "80           DÜZCE  735.0     981.0           375.0  1190.0   454.0   236.0   \n",
       "\n",
       "    ANTALYA  ARTVÝN   AYDIN  ...  BATMAN  ÞIRNAK  BARTIN  ARDAHAN   IÐDIR  \\\n",
       "0     535.0  1035.0   874.0  ...   621.0   709.0   782.0   1042.0  1066.0   \n",
       "1     870.0   751.0  1209.0  ...   303.0   471.0  1023.0    758.0   748.0   \n",
       "2     290.0  1243.0   345.0  ...  1196.0  1284.0   515.0   1351.0  1461.0   \n",
       "3    1428.0   396.0  1640.0  ...   369.0   430.0  1175.0    310.0   143.0   \n",
       "4     825.0   695.0   938.0  ...   796.0   982.0   437.0    783.0   881.0   \n",
       "..      ...     ...     ...  ...     ...     ...     ...      ...     ...   \n",
       "76    601.0  1254.0   510.0  ...  1411.0  1562.0   371.0   1362.0  1472.0   \n",
       "77    734.0   970.0   788.0  ...  1164.0  1350.0    89.0   1078.0  1215.0   \n",
       "78    781.0   917.0  1120.0  ...   469.0   557.0  1001.0    924.0   917.0   \n",
       "79    622.0   948.0   961.0  ...   534.0   622.0   869.0    955.0   982.0   \n",
       "80    638.0  1083.0   671.0  ...  1240.0  1391.0   200.0   1191.0  1301.0   \n",
       "\n",
       "    YALOVA  KARABÜK   KÝLÝS  OSMANÝYE   DÜZCE  \n",
       "0    899.0    714.0   246.0      87.0   735.0  \n",
       "1   1147.0    955.0   210.0     248.0   976.0  \n",
       "2    338.0    447.0   821.0     662.0   375.0  \n",
       "3   1363.0   1106.0   814.0     879.0  1192.0  \n",
       "4    625.0    368.0   639.0     608.0   454.0  \n",
       "..     ...      ...     ...       ...     ...  \n",
       "76     NaN    350.0  1120.0     987.0   171.0  \n",
       "77   350.0      NaN   928.0     801.0   179.0  \n",
       "78  1125.0    933.0     NaN     159.0   949.0  \n",
       "79   986.0    801.0   159.0       NaN   822.0  \n",
       "80   171.0    179.0   954.0     822.0     NaN  \n",
       "\n",
       "[81 rows x 82 columns]"
      ]
     },
     "execution_count": 108,
     "metadata": {},
     "output_type": "execute_result"
    }
   ],
   "source": [
    "map"
   ]
  },
  {
   "cell_type": "code",
   "execution_count": 109,
   "metadata": {},
   "outputs": [],
   "source": [
    "map = map.set_index(\"ÝL ADI\")\n",
    "map = map.fillna(0)"
   ]
  },
  {
   "cell_type": "code",
   "execution_count": 110,
   "metadata": {
    "collapsed": true
   },
   "outputs": [
    {
     "name": "stderr",
     "output_type": "stream",
     "text": [
      "C:\\Users\\mertg\\Anaconda3\\lib\\site-packages\\sklearn\\manifold\\_mds.py:441: UserWarning: The MDS API has changed. ``fit`` now constructs an dissimilarity matrix from data. To use a custom dissimilarity matrix, set ``dissimilarity='precomputed'``.\n",
      "  warnings.warn(\"The MDS API has changed. ``fit`` now constructs an\"\n"
     ]
    }
   ],
   "source": [
    "from sklearn.manifold import MDS\n",
    "mdl = MDS(n_components=1)\n",
    "MDSComponents = mdl.fit_transform(map)\n",
    "MDSDf = pd.DataFrame(data = MDSComponents,columns = [\"MDS\"])"
   ]
  },
  {
   "cell_type": "code",
   "execution_count": 112,
   "metadata": {},
   "outputs": [
    {
     "data": {
      "text/html": [
       "<div>\n",
       "<style scoped>\n",
       "    .dataframe tbody tr th:only-of-type {\n",
       "        vertical-align: middle;\n",
       "    }\n",
       "\n",
       "    .dataframe tbody tr th {\n",
       "        vertical-align: top;\n",
       "    }\n",
       "\n",
       "    .dataframe thead th {\n",
       "        text-align: right;\n",
       "    }\n",
       "</style>\n",
       "<table border=\"1\" class=\"dataframe\">\n",
       "  <thead>\n",
       "    <tr style=\"text-align: right;\">\n",
       "      <th></th>\n",
       "      <th>MDS</th>\n",
       "    </tr>\n",
       "  </thead>\n",
       "  <tbody>\n",
       "    <tr>\n",
       "      <th>0</th>\n",
       "      <td>574.984828</td>\n",
       "    </tr>\n",
       "    <tr>\n",
       "      <th>1</th>\n",
       "      <td>2462.498160</td>\n",
       "    </tr>\n",
       "    <tr>\n",
       "      <th>2</th>\n",
       "      <td>-3005.374007</td>\n",
       "    </tr>\n",
       "    <tr>\n",
       "      <th>3</th>\n",
       "      <td>4775.439825</td>\n",
       "    </tr>\n",
       "    <tr>\n",
       "      <th>4</th>\n",
       "      <td>3.397972</td>\n",
       "    </tr>\n",
       "    <tr>\n",
       "      <th>...</th>\n",
       "      <td>...</td>\n",
       "    </tr>\n",
       "    <tr>\n",
       "      <th>76</th>\n",
       "      <td>-3861.193039</td>\n",
       "    </tr>\n",
       "    <tr>\n",
       "      <th>77</th>\n",
       "      <td>-2074.502223</td>\n",
       "    </tr>\n",
       "    <tr>\n",
       "      <th>78</th>\n",
       "      <td>1941.931463</td>\n",
       "    </tr>\n",
       "    <tr>\n",
       "      <th>79</th>\n",
       "      <td>1161.344336</td>\n",
       "    </tr>\n",
       "    <tr>\n",
       "      <th>80</th>\n",
       "      <td>-2722.117300</td>\n",
       "    </tr>\n",
       "  </tbody>\n",
       "</table>\n",
       "<p>81 rows × 1 columns</p>\n",
       "</div>"
      ],
      "text/plain": [
       "            MDS\n",
       "0    574.984828\n",
       "1   2462.498160\n",
       "2  -3005.374007\n",
       "3   4775.439825\n",
       "4      3.397972\n",
       "..          ...\n",
       "76 -3861.193039\n",
       "77 -2074.502223\n",
       "78  1941.931463\n",
       "79  1161.344336\n",
       "80 -2722.117300\n",
       "\n",
       "[81 rows x 1 columns]"
      ]
     },
     "execution_count": 112,
     "metadata": {},
     "output_type": "execute_result"
    }
   ],
   "source": [
    "MDSDf"
   ]
  },
  {
   "cell_type": "code",
   "execution_count": 113,
   "metadata": {},
   "outputs": [],
   "source": [
    "MDSDf = MDSDf.reset_index()"
   ]
  },
  {
   "cell_type": "code",
   "execution_count": 114,
   "metadata": {},
   "outputs": [],
   "source": [
    "MDSDf = MDSDf.set_index(map.index)"
   ]
  },
  {
   "cell_type": "code",
   "execution_count": 115,
   "metadata": {},
   "outputs": [
    {
     "data": {
      "image/png": "[encoded data removed]",
      "text/plain": [
       "<Figure size 1440x720 with 1 Axes>"
      ]
     },
     "metadata": {
      "needs_background": "light"
     },
     "output_type": "display_data"
    }
   ],
   "source": [
    "plt.figure(figsize=(20,10))\n",
    "plt.scatter(MDSDf[\"MDS\"],MDSDf[\"index\"])\n",
    "iller=[\"Adana\", \"Adıyaman\", \"Afyonkarahisar\", \"Ağrı\", \"Aksaray\", \"Amasya\", \"Ankara\", \"Antalya\", \"Ardahan\", \"Artvin\", \"Aydın\", \"Balıkesir\", \"Bartın\", \"Batman\", \"Bayburt\", \"Bilecik\", \"Bingöl\", \"Bitlis\", \"Bolu\", \"Burdur\", \"Bursa\", \"Çanakkale\", \"Çankırı\", \"Çorum\", \"Denizli\", \"Diyarbakır\", \"Düzce\", \"Edirne\", \"Elazığ\", \"Erzincan\", \"Erzurum\", \"Eskişehir\", \"Gaziantep\", \"Giresun\", \"Gümüşhane\", \"Hakkâri\", \"Hatay\", \"Iğdır\", \"Isparta\", \"İstanbul\", \"İzmir\", \"Kahramanmaraş\", \"Karabük\", \"Karaman\", \"Kars\", \"Kastamonu\", \"Kayseri\", \"Kilis\", \"Kırıkkale\", \"Kırklareli\", \"Kırşehir\", \"Kocaeli\", \"Konya\", \"Kütahya\", \"Malatya\", \"Manisa\", \"Mardin\", \"Mersin\", \"Muğla\", \"Muş\", \"Nevşehir\", \"Niğde\", \"Ordu\", \"Osmaniye\", \"Rize\", \"Sakarya\", \"Samsun\", \"Şanlıurfa\", \"Siirt\", \"Sinop\", \"Sivas\", \"Şırnak\", \"Tekirdağ\", \"Tokat\", \"Trabzon\", \"Tunceli\", \"Uşak\", \"Van\", \"Yalova\", \"Yozgat\", \"Zonguldak\"]\n",
    "for a, b in enumerate(iller):\n",
    "    plt.text(MDSDf[\"MDS\"][a], MDSDf[\"index\"][a], b)"
   ]
  },
  {
   "cell_type": "markdown",
   "metadata": {},
   "source": [
    "Shape of 1 Dimensional MDS Data is very similar with Turkey Map, but because of 1 dimension generally places of cities are wrong with original places. For example, Adana's coordinates are very similar but İstanbul is in wrong place exactly."
   ]
  }
 ],
 "metadata": {
  "kernelspec": {
   "display_name": "Python 3",
   "language": "python",
   "name": "python3"
  },
  "language_info": {
   "codemirror_mode": {
    "name": "ipython",
    "version": 3
   },
   "file_extension": ".py",
   "mimetype": "text/x-python",
   "name": "python",
   "nbconvert_exporter": "python",
   "pygments_lexer": "ipython3",
   "version": "3.7.3"
  }
 },
 "nbformat": 4,
 "nbformat_minor": 4
}
