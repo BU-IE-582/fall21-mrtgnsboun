{
 "cells": [
  {
   "cell_type": "code",
   "execution_count": 14,
   "metadata": {},
   "outputs": [],
   "source": [
    "import pandas as pd\n",
    "import numpy as np\n",
    "import matplotlib.pyplot as plt\n",
    "from sklearn.model_selection import train_test_split\n",
    "from sklearn.metrics import accuracy_score\n",
    "from sklearn.metrics import roc_auc_score\n",
    "from sklearn.metrics import confusion_matrix\n",
    "from sklearn.linear_model import LogisticRegression\n",
    "from sklearn.ensemble import RandomForestClassifier\n",
    "from sklearn.model_selection import GridSearchCV\n",
    "from sklearn.preprocessing import StandardScaler,MinMaxScaler\n",
    "from sklearn.feature_selection import RFE,VarianceThreshold,SelectKBest\n",
    "from sklearn.ensemble import IsolationForest\n",
    "from sklearn.metrics import confusion_matrix\n",
    "import xgboost as xgb\n",
    "from sklearn.svm import SVC\n",
    "from sklearn.metrics import balanced_accuracy_score\n",
    "import seaborn as sns"
   ]
  },
  {
   "cell_type": "code",
   "execution_count": 2,
   "metadata": {},
   "outputs": [],
   "source": [
    "X_train = pd.read_csv(\"train.csv\")\n",
    "X_test = pd.read_csv(\"test.csv\")"
   ]
  },
  {
   "cell_type": "code",
   "execution_count": 3,
   "metadata": {},
   "outputs": [
    {
     "data": {
      "text/html": [
       "<div>\n",
       "<style scoped>\n",
       "    .dataframe tbody tr th:only-of-type {\n",
       "        vertical-align: middle;\n",
       "    }\n",
       "\n",
       "    .dataframe tbody tr th {\n",
       "        vertical-align: top;\n",
       "    }\n",
       "\n",
       "    .dataframe thead th {\n",
       "        text-align: right;\n",
       "    }\n",
       "</style>\n",
       "<table border=\"1\" class=\"dataframe\">\n",
       "  <thead>\n",
       "    <tr style=\"text-align: right;\">\n",
       "      <th></th>\n",
       "      <th>time_stamp</th>\n",
       "      <th>contentid</th>\n",
       "      <th>user_action</th>\n",
       "      <th>sellingprice</th>\n",
       "      <th>product_name</th>\n",
       "      <th>brand_id</th>\n",
       "      <th>brand_name</th>\n",
       "      <th>businessunit</th>\n",
       "      <th>product_gender</th>\n",
       "      <th>category_id</th>\n",
       "      <th>Level1_Category_Id</th>\n",
       "      <th>Level1_Category_Name</th>\n",
       "      <th>Level2_Category_Id</th>\n",
       "      <th>Level2_Category_Name</th>\n",
       "      <th>Level3_Category_Id</th>\n",
       "      <th>Level3_Category_Name</th>\n",
       "      <th>gender</th>\n",
       "      <th>unique_id</th>\n",
       "      <th>type</th>\n",
       "    </tr>\n",
       "  </thead>\n",
       "  <tbody>\n",
       "    <tr>\n",
       "      <th>0</th>\n",
       "      <td>2020-12-02T22:26:14.023Z</td>\n",
       "      <td>39918893.0</td>\n",
       "      <td>favorite</td>\n",
       "      <td>3099.00</td>\n",
       "      <td>PerfectCare 600 EW6F449ST A+++ 9 KG 1400 Devir...</td>\n",
       "      <td>8511.0</td>\n",
       "      <td>Electrolux</td>\n",
       "      <td>Beyaz Eşya</td>\n",
       "      <td>Unisex</td>\n",
       "      <td>1272.0</td>\n",
       "      <td>1071.0</td>\n",
       "      <td>Elektronik</td>\n",
       "      <td>1212.0</td>\n",
       "      <td>Beyaz Eşya</td>\n",
       "      <td>1272.0</td>\n",
       "      <td>Çamaşır Makinesi</td>\n",
       "      <td>F</td>\n",
       "      <td>425</td>\n",
       "      <td>train</td>\n",
       "    </tr>\n",
       "    <tr>\n",
       "      <th>1</th>\n",
       "      <td>2020-12-08T23:15:04.603Z</td>\n",
       "      <td>3558544.0</td>\n",
       "      <td>favorite</td>\n",
       "      <td>3079.00</td>\n",
       "      <td>WW90J5475FW A+++ 1400 Devir 9 kg Çamaşır Makinesi</td>\n",
       "      <td>3228.0</td>\n",
       "      <td>Samsung</td>\n",
       "      <td>Beyaz Eşya</td>\n",
       "      <td>NaN</td>\n",
       "      <td>1272.0</td>\n",
       "      <td>1071.0</td>\n",
       "      <td>Elektronik</td>\n",
       "      <td>1212.0</td>\n",
       "      <td>Beyaz Eşya</td>\n",
       "      <td>1272.0</td>\n",
       "      <td>Çamaşır Makinesi</td>\n",
       "      <td>F</td>\n",
       "      <td>425</td>\n",
       "      <td>train</td>\n",
       "    </tr>\n",
       "    <tr>\n",
       "      <th>2</th>\n",
       "      <td>2020-12-05T16:19:01.157Z</td>\n",
       "      <td>31292729.0</td>\n",
       "      <td>favorite</td>\n",
       "      <td>3999.00</td>\n",
       "      <td>KM 9711 A++ 9 kg Çamaşır Kurutma Makinesi</td>\n",
       "      <td>10989.0</td>\n",
       "      <td>Vestel</td>\n",
       "      <td>Beyaz Eşya</td>\n",
       "      <td>Unisex</td>\n",
       "      <td>1276.0</td>\n",
       "      <td>1071.0</td>\n",
       "      <td>Elektronik</td>\n",
       "      <td>1212.0</td>\n",
       "      <td>Beyaz Eşya</td>\n",
       "      <td>1276.0</td>\n",
       "      <td>Kurutma Makinesi</td>\n",
       "      <td>F</td>\n",
       "      <td>425</td>\n",
       "      <td>train</td>\n",
       "    </tr>\n",
       "    <tr>\n",
       "      <th>3</th>\n",
       "      <td>2020-12-05T16:28:00Z</td>\n",
       "      <td>6363103.0</td>\n",
       "      <td>visit</td>\n",
       "      <td>2544.00</td>\n",
       "      <td>CMI 9710 A+++ 1000 Devir 9 kg Çamaşır Makinesi</td>\n",
       "      <td>10989.0</td>\n",
       "      <td>Vestel</td>\n",
       "      <td>Beyaz Eşya</td>\n",
       "      <td>NaN</td>\n",
       "      <td>1272.0</td>\n",
       "      <td>1071.0</td>\n",
       "      <td>Elektronik</td>\n",
       "      <td>1212.0</td>\n",
       "      <td>Beyaz Eşya</td>\n",
       "      <td>1272.0</td>\n",
       "      <td>Çamaşır Makinesi</td>\n",
       "      <td>F</td>\n",
       "      <td>425</td>\n",
       "      <td>train</td>\n",
       "    </tr>\n",
       "    <tr>\n",
       "      <th>4</th>\n",
       "      <td>2020-12-02T22:26:59Z</td>\n",
       "      <td>39918893.0</td>\n",
       "      <td>visit</td>\n",
       "      <td>3099.00</td>\n",
       "      <td>PerfectCare 600 EW6F449ST A+++ 9 KG 1400 Devir...</td>\n",
       "      <td>8511.0</td>\n",
       "      <td>Electrolux</td>\n",
       "      <td>Beyaz Eşya</td>\n",
       "      <td>Unisex</td>\n",
       "      <td>1272.0</td>\n",
       "      <td>1071.0</td>\n",
       "      <td>Elektronik</td>\n",
       "      <td>1212.0</td>\n",
       "      <td>Beyaz Eşya</td>\n",
       "      <td>1272.0</td>\n",
       "      <td>Çamaşır Makinesi</td>\n",
       "      <td>F</td>\n",
       "      <td>425</td>\n",
       "      <td>train</td>\n",
       "    </tr>\n",
       "    <tr>\n",
       "      <th>...</th>\n",
       "      <td>...</td>\n",
       "      <td>...</td>\n",
       "      <td>...</td>\n",
       "      <td>...</td>\n",
       "      <td>...</td>\n",
       "      <td>...</td>\n",
       "      <td>...</td>\n",
       "      <td>...</td>\n",
       "      <td>...</td>\n",
       "      <td>...</td>\n",
       "      <td>...</td>\n",
       "      <td>...</td>\n",
       "      <td>...</td>\n",
       "      <td>...</td>\n",
       "      <td>...</td>\n",
       "      <td>...</td>\n",
       "      <td>...</td>\n",
       "      <td>...</td>\n",
       "      <td>...</td>\n",
       "    </tr>\n",
       "    <tr>\n",
       "      <th>5493263</th>\n",
       "      <td>2020-12-09T11:41:59Z</td>\n",
       "      <td>31440796.0</td>\n",
       "      <td>search</td>\n",
       "      <td>89.50</td>\n",
       "      <td>Turbo Profesyonel Saç Kurutma Makinesi</td>\n",
       "      <td>30457.0</td>\n",
       "      <td>Powertec</td>\n",
       "      <td>Kişisel Bakım Aletleri</td>\n",
       "      <td>Unisex</td>\n",
       "      <td>864.0</td>\n",
       "      <td>1071.0</td>\n",
       "      <td>Elektronik</td>\n",
       "      <td>2373.0</td>\n",
       "      <td>Kişisel Bakım Aletleri</td>\n",
       "      <td>864.0</td>\n",
       "      <td>Saç Kurutma Makinesi</td>\n",
       "      <td>M</td>\n",
       "      <td>7062</td>\n",
       "      <td>train</td>\n",
       "    </tr>\n",
       "    <tr>\n",
       "      <th>5493264</th>\n",
       "      <td>2020-12-09T00:10:16Z</td>\n",
       "      <td>54677237.0</td>\n",
       "      <td>search</td>\n",
       "      <td>99.99</td>\n",
       "      <td>Erkek Gri Kot Pantolon</td>\n",
       "      <td>978383.0</td>\n",
       "      <td>ukdwear</td>\n",
       "      <td>Erkek B</td>\n",
       "      <td>Erkek</td>\n",
       "      <td>1186.0</td>\n",
       "      <td>522.0</td>\n",
       "      <td>Giyim</td>\n",
       "      <td>2869.0</td>\n",
       "      <td>Alt Giyim</td>\n",
       "      <td>1186.0</td>\n",
       "      <td>Jeans</td>\n",
       "      <td>M</td>\n",
       "      <td>7062</td>\n",
       "      <td>train</td>\n",
       "    </tr>\n",
       "    <tr>\n",
       "      <th>5493265</th>\n",
       "      <td>2020-12-09T11:40:57Z</td>\n",
       "      <td>2699559.0</td>\n",
       "      <td>search</td>\n",
       "      <td>169.00</td>\n",
       "      <td>Hd 6480 2200 Watt Difüzör Başlıklı İyonik Saç ...</td>\n",
       "      <td>8171.0</td>\n",
       "      <td>Grundig</td>\n",
       "      <td>Kişisel Bakım Aletleri</td>\n",
       "      <td>Unisex</td>\n",
       "      <td>864.0</td>\n",
       "      <td>1071.0</td>\n",
       "      <td>Elektronik</td>\n",
       "      <td>2373.0</td>\n",
       "      <td>Kişisel Bakım Aletleri</td>\n",
       "      <td>864.0</td>\n",
       "      <td>Saç Kurutma Makinesi</td>\n",
       "      <td>M</td>\n",
       "      <td>7062</td>\n",
       "      <td>train</td>\n",
       "    </tr>\n",
       "    <tr>\n",
       "      <th>5493266</th>\n",
       "      <td>2020-12-09T00:08:49.379Z</td>\n",
       "      <td>34981546.0</td>\n",
       "      <td>favorite</td>\n",
       "      <td>248.48</td>\n",
       "      <td>Siyah Siyah Erkek Sneaker</td>\n",
       "      <td>93397.0</td>\n",
       "      <td>Riccon</td>\n",
       "      <td>Branded Shoes B</td>\n",
       "      <td>Erkek</td>\n",
       "      <td>975.0</td>\n",
       "      <td>403.0</td>\n",
       "      <td>Ayakkabı</td>\n",
       "      <td>420.0</td>\n",
       "      <td>Spor Ayakkabı</td>\n",
       "      <td>975.0</td>\n",
       "      <td>Sneaker</td>\n",
       "      <td>M</td>\n",
       "      <td>7062</td>\n",
       "      <td>train</td>\n",
       "    </tr>\n",
       "    <tr>\n",
       "      <th>5493267</th>\n",
       "      <td>2020-12-09T10:44:35Z</td>\n",
       "      <td>34981546.0</td>\n",
       "      <td>visit</td>\n",
       "      <td>248.48</td>\n",
       "      <td>Siyah Siyah Erkek Sneaker</td>\n",
       "      <td>93397.0</td>\n",
       "      <td>Riccon</td>\n",
       "      <td>Branded Shoes B</td>\n",
       "      <td>Erkek</td>\n",
       "      <td>975.0</td>\n",
       "      <td>403.0</td>\n",
       "      <td>Ayakkabı</td>\n",
       "      <td>420.0</td>\n",
       "      <td>Spor Ayakkabı</td>\n",
       "      <td>975.0</td>\n",
       "      <td>Sneaker</td>\n",
       "      <td>M</td>\n",
       "      <td>7062</td>\n",
       "      <td>train</td>\n",
       "    </tr>\n",
       "  </tbody>\n",
       "</table>\n",
       "<p>5493268 rows × 19 columns</p>\n",
       "</div>"
      ],
      "text/plain": [
       "                       time_stamp   contentid user_action  sellingprice  \\\n",
       "0        2020-12-02T22:26:14.023Z  39918893.0    favorite       3099.00   \n",
       "1        2020-12-08T23:15:04.603Z   3558544.0    favorite       3079.00   \n",
       "2        2020-12-05T16:19:01.157Z  31292729.0    favorite       3999.00   \n",
       "3            2020-12-05T16:28:00Z   6363103.0       visit       2544.00   \n",
       "4            2020-12-02T22:26:59Z  39918893.0       visit       3099.00   \n",
       "...                           ...         ...         ...           ...   \n",
       "5493263      2020-12-09T11:41:59Z  31440796.0      search         89.50   \n",
       "5493264      2020-12-09T00:10:16Z  54677237.0      search         99.99   \n",
       "5493265      2020-12-09T11:40:57Z   2699559.0      search        169.00   \n",
       "5493266  2020-12-09T00:08:49.379Z  34981546.0    favorite        248.48   \n",
       "5493267      2020-12-09T10:44:35Z  34981546.0       visit        248.48   \n",
       "\n",
       "                                              product_name  brand_id  \\\n",
       "0        PerfectCare 600 EW6F449ST A+++ 9 KG 1400 Devir...    8511.0   \n",
       "1        WW90J5475FW A+++ 1400 Devir 9 kg Çamaşır Makinesi    3228.0   \n",
       "2                KM 9711 A++ 9 kg Çamaşır Kurutma Makinesi   10989.0   \n",
       "3           CMI 9710 A+++ 1000 Devir 9 kg Çamaşır Makinesi   10989.0   \n",
       "4        PerfectCare 600 EW6F449ST A+++ 9 KG 1400 Devir...    8511.0   \n",
       "...                                                    ...       ...   \n",
       "5493263             Turbo Profesyonel Saç Kurutma Makinesi   30457.0   \n",
       "5493264                             Erkek Gri Kot Pantolon  978383.0   \n",
       "5493265  Hd 6480 2200 Watt Difüzör Başlıklı İyonik Saç ...    8171.0   \n",
       "5493266                          Siyah Siyah Erkek Sneaker   93397.0   \n",
       "5493267                          Siyah Siyah Erkek Sneaker   93397.0   \n",
       "\n",
       "         brand_name            businessunit product_gender  category_id  \\\n",
       "0        Electrolux              Beyaz Eşya         Unisex       1272.0   \n",
       "1           Samsung              Beyaz Eşya            NaN       1272.0   \n",
       "2            Vestel              Beyaz Eşya         Unisex       1276.0   \n",
       "3            Vestel              Beyaz Eşya            NaN       1272.0   \n",
       "4        Electrolux              Beyaz Eşya         Unisex       1272.0   \n",
       "...             ...                     ...            ...          ...   \n",
       "5493263    Powertec  Kişisel Bakım Aletleri         Unisex        864.0   \n",
       "5493264     ukdwear                 Erkek B          Erkek       1186.0   \n",
       "5493265     Grundig  Kişisel Bakım Aletleri         Unisex        864.0   \n",
       "5493266      Riccon         Branded Shoes B          Erkek        975.0   \n",
       "5493267      Riccon         Branded Shoes B          Erkek        975.0   \n",
       "\n",
       "         Level1_Category_Id Level1_Category_Name  Level2_Category_Id  \\\n",
       "0                    1071.0           Elektronik              1212.0   \n",
       "1                    1071.0           Elektronik              1212.0   \n",
       "2                    1071.0           Elektronik              1212.0   \n",
       "3                    1071.0           Elektronik              1212.0   \n",
       "4                    1071.0           Elektronik              1212.0   \n",
       "...                     ...                  ...                 ...   \n",
       "5493263              1071.0           Elektronik              2373.0   \n",
       "5493264               522.0                Giyim              2869.0   \n",
       "5493265              1071.0           Elektronik              2373.0   \n",
       "5493266               403.0             Ayakkabı               420.0   \n",
       "5493267               403.0             Ayakkabı               420.0   \n",
       "\n",
       "           Level2_Category_Name  Level3_Category_Id  Level3_Category_Name  \\\n",
       "0                    Beyaz Eşya              1272.0      Çamaşır Makinesi   \n",
       "1                    Beyaz Eşya              1272.0      Çamaşır Makinesi   \n",
       "2                    Beyaz Eşya              1276.0      Kurutma Makinesi   \n",
       "3                    Beyaz Eşya              1272.0      Çamaşır Makinesi   \n",
       "4                    Beyaz Eşya              1272.0      Çamaşır Makinesi   \n",
       "...                         ...                 ...                   ...   \n",
       "5493263  Kişisel Bakım Aletleri               864.0  Saç Kurutma Makinesi   \n",
       "5493264               Alt Giyim              1186.0                 Jeans   \n",
       "5493265  Kişisel Bakım Aletleri               864.0  Saç Kurutma Makinesi   \n",
       "5493266           Spor Ayakkabı               975.0               Sneaker   \n",
       "5493267           Spor Ayakkabı               975.0               Sneaker   \n",
       "\n",
       "        gender  unique_id   type  \n",
       "0            F        425  train  \n",
       "1            F        425  train  \n",
       "2            F        425  train  \n",
       "3            F        425  train  \n",
       "4            F        425  train  \n",
       "...        ...        ...    ...  \n",
       "5493263      M       7062  train  \n",
       "5493264      M       7062  train  \n",
       "5493265      M       7062  train  \n",
       "5493266      M       7062  train  \n",
       "5493267      M       7062  train  \n",
       "\n",
       "[5493268 rows x 19 columns]"
      ]
     },
     "execution_count": 3,
     "metadata": {},
     "output_type": "execute_result"
    }
   ],
   "source": [
    "X_train"
   ]
  },
  {
   "cell_type": "markdown",
   "metadata": {},
   "source": [
    "### FEATURE ENGINEERING"
   ]
  },
  {
   "cell_type": "code",
   "execution_count": 217,
   "metadata": {
    "scrolled": true
   },
   "outputs": [],
   "source": [
    "selling_price = X_train.groupby(\"unique_id\").mean()[\"sellingprice\"]\n",
    "basket=X_train.loc[X_train[\"user_action\"]==\"basket\"].groupby([\"unique_id\"]).count()[\"time_stamp\"]\n",
    "favorite=X_train.loc[X_train[\"user_action\"]==\"favorite\"].groupby([\"unique_id\"]).count()[\"time_stamp\"]\n",
    "order=X_train.loc[X_train[\"user_action\"]==\"order\"].groupby([\"unique_id\"]).count()[\"time_stamp\"]\n",
    "search=X_train.loc[X_train[\"user_action\"]==\"search\"].groupby([\"unique_id\"]).count()[\"time_stamp\"]\n",
    "visit=X_train.loc[X_train[\"user_action\"]==\"visit\"].groupby([\"unique_id\"]).count()[\"time_stamp\"]\n",
    "level1 = X_train.groupby(['unique_id','Level1_Category_Name']).size().reset_index(name='Count').sort_values(['unique_id','Count'],ascending=[1,0]).groupby('unique_id').head(1)\n",
    "level2 = X_train.groupby(['unique_id','Level2_Category_Name']).size().reset_index(name='Count').sort_values(['unique_id','Count'],ascending=[1,0]).groupby('unique_id').head(1)\n",
    "level3 = X_train.groupby(['unique_id','Level3_Category_Name']).size().reset_index(name='Count').sort_values(['unique_id','Count'],ascending=[1,0]).groupby('unique_id').head(1)\n",
    "product_gender = X_train.groupby(['unique_id','product_gender']).size().reset_index(name='Count').sort_values(['unique_id','Count'],ascending=[1,0]).groupby('unique_id').head(1)\n",
    "y = X_train.groupby(['unique_id','gender']).size().reset_index(name='Count').sort_values(['unique_id','Count'],ascending=[1,0]).groupby('unique_id').head(1)"
   ]
  },
  {
   "cell_type": "code",
   "execution_count": 218,
   "metadata": {},
   "outputs": [],
   "source": [
    "product_gender = product_gender.drop([\"Count\"],axis=1).reset_index().drop([\"index\"],axis=1)\n",
    "level3 = level3.drop([\"Count\"],axis=1).reset_index().drop([\"index\"],axis=1)\n",
    "level2 = level2.drop([\"Count\"],axis=1).reset_index().drop([\"index\"],axis=1)\n",
    "level1 = level1.drop([\"Count\"],axis=1).reset_index().drop([\"index\"],axis=1)"
   ]
  },
  {
   "cell_type": "code",
   "execution_count": 224,
   "metadata": {},
   "outputs": [],
   "source": [
    "dataframe = pd.DataFrame(selling_price).reset_index()\n",
    "dataframe2 = pd.DataFrame(basket).reset_index()\n",
    "dataframe3 = pd.DataFrame(favorite).reset_index()\n",
    "dataframe4 = pd.DataFrame(order).reset_index()\n",
    "dataframe5 = pd.DataFrame(search).reset_index()\n",
    "dataframe6 = pd.DataFrame(visit).reset_index()"
   ]
  },
  {
   "cell_type": "code",
   "execution_count": 229,
   "metadata": {},
   "outputs": [],
   "source": [
    "dataframe6 = dataframe6.rename(columns = {'time_stamp':'visit'})"
   ]
  },
  {
   "cell_type": "code",
   "execution_count": 282,
   "metadata": {},
   "outputs": [],
   "source": [
    "X_train_new = X_train_new.merge(product_gender,how=\"left\")"
   ]
  },
  {
   "cell_type": "code",
   "execution_count": 243,
   "metadata": {},
   "outputs": [],
   "source": [
    "X_train_new = dataframe.fillna(0)"
   ]
  },
  {
   "cell_type": "code",
   "execution_count": 244,
   "metadata": {},
   "outputs": [
    {
     "name": "stdout",
     "output_type": "stream",
     "text": [
      "Index(['unique_id', 'sellingprice', 'basket', 'favorite', 'order', 'search',\n",
      "       'visit', 'gender', 'Count', 'product_gender', 'Level3_Category_Name',\n",
      "       'Level2_Category_Name', 'Level1_Category_Name'],\n",
      "      dtype='object')\n",
      "(5618, 13)\n"
     ]
    }
   ],
   "source": [
    "print(X_train_new.columns)\n",
    "print(X_train_new.shape)"
   ]
  },
  {
   "cell_type": "code",
   "execution_count": 245,
   "metadata": {},
   "outputs": [
    {
     "data": {
      "text/plain": [
       "unique_id               0\n",
       "sellingprice            0\n",
       "basket                  0\n",
       "favorite                0\n",
       "order                   0\n",
       "search                  0\n",
       "visit                   0\n",
       "gender                  0\n",
       "Count                   0\n",
       "product_gender          0\n",
       "Level3_Category_Name    0\n",
       "Level2_Category_Name    0\n",
       "Level1_Category_Name    0\n",
       "dtype: int64"
      ]
     },
     "execution_count": 245,
     "metadata": {},
     "output_type": "execute_result"
    }
   ],
   "source": [
    "X_train_new.isnull().sum()"
   ]
  },
  {
   "cell_type": "code",
   "execution_count": 15,
   "metadata": {},
   "outputs": [],
   "source": [
    "df_train, X_tr = train_test_split(X_train, test_size=0.00728164000008738, stratify=X_train[[\"gender\", \"user_action\"]])"
   ]
  },
  {
   "cell_type": "code",
   "execution_count": 246,
   "metadata": {},
   "outputs": [],
   "source": [
    "selling_price_test = X_test.groupby(\"unique_id\").mean()[\"sellingprice\"]\n",
    "basket_test=X_test.loc[X_test[\"user_action\"]==\"basket\"].groupby([\"unique_id\"]).count()[\"time_stamp\"]\n",
    "favorite_test=X_test.loc[X_test[\"user_action\"]==\"favorite\"].groupby([\"unique_id\"]).count()[\"time_stamp\"]\n",
    "order_test=X_test.loc[X_test[\"user_action\"]==\"order\"].groupby([\"unique_id\"]).count()[\"time_stamp\"]\n",
    "search_test=X_test.loc[X_test[\"user_action\"]==\"search\"].groupby([\"unique_id\"]).count()[\"time_stamp\"]\n",
    "visit_test=X_test.loc[X_test[\"user_action\"]==\"visit\"].groupby([\"unique_id\"]).count()[\"time_stamp\"]\n",
    "level1_test = X_test.groupby(['unique_id','Level1_Category_Name']).size().reset_index(name='Count').sort_values(['unique_id','Count'],ascending=[1,0]).groupby('unique_id').head(1)\n",
    "level2_test = X_test.groupby(['unique_id','Level2_Category_Name']).size().reset_index(name='Count').sort_values(['unique_id','Count'],ascending=[1,0]).groupby('unique_id').head(1)\n",
    "level3_test = X_test.groupby(['unique_id','Level3_Category_Name']).size().reset_index(name='Count').sort_values(['unique_id','Count'],ascending=[1,0]).groupby('unique_id').head(1)\n",
    "product_gender_test = X_test.groupby(['unique_id','product_gender']).size().reset_index(name='Count').sort_values(['unique_id','Count'],ascending=[1,0]).groupby('unique_id').head(1)\n",
    "y_test = X_test.groupby(['unique_id','gender']).size().reset_index(name='Count').sort_values(['unique_id','Count'],ascending=[1,0]).groupby('unique_id').head(1)"
   ]
  },
  {
   "cell_type": "code",
   "execution_count": 247,
   "metadata": {},
   "outputs": [],
   "source": [
    "product_gender_test = product_gender_test.drop([\"Count\"],axis=1).reset_index().drop([\"index\"],axis=1)\n",
    "level3_test = level3_test.drop([\"Count\"],axis=1).reset_index().drop([\"index\"],axis=1)\n",
    "level2_test = level2_test.drop([\"Count\"],axis=1).reset_index().drop([\"index\"],axis=1)\n",
    "level1_test = level1_test.drop([\"Count\"],axis=1).reset_index().drop([\"index\"],axis=1)\n",
    "y_test = y_test.drop([\"Count\"],axis=1).reset_index().drop([\"index\"],axis=1)"
   ]
  },
  {
   "cell_type": "code",
   "execution_count": 248,
   "metadata": {},
   "outputs": [],
   "source": [
    "dataframe_test = pd.DataFrame(selling_price_test).reset_index()\n",
    "dataframe2_test = pd.DataFrame(basket_test).reset_index()\n",
    "dataframe3_test = pd.DataFrame(favorite_test).reset_index()\n",
    "dataframe4_test = pd.DataFrame(order_test).reset_index()\n",
    "dataframe5_test = pd.DataFrame(search_test).reset_index()\n",
    "dataframe6_test = pd.DataFrame(visit_test).reset_index()"
   ]
  },
  {
   "cell_type": "code",
   "execution_count": 253,
   "metadata": {},
   "outputs": [],
   "source": [
    "dataframe6_test = dataframe6_test.rename(columns = {'time_stamp':'visit'})"
   ]
  },
  {
   "cell_type": "code",
   "execution_count": 255,
   "metadata": {},
   "outputs": [],
   "source": [
    "dataframe_test = dataframe_test.drop_duplicates(\"unique_id\")"
   ]
  },
  {
   "cell_type": "code",
   "execution_count": 277,
   "metadata": {},
   "outputs": [],
   "source": [
    "dataframe_test = dataframe_test.merge(product_gender_test,how=\"left\")"
   ]
  },
  {
   "cell_type": "code",
   "execution_count": 276,
   "metadata": {},
   "outputs": [],
   "source": [
    "dataframe_test.drop([\"product_gender\"],axis=1,inplace=True)"
   ]
  },
  {
   "cell_type": "code",
   "execution_count": 270,
   "metadata": {},
   "outputs": [],
   "source": [
    "dataframe_test.drop([\"gender\"],axis=1,inplace=True)"
   ]
  },
  {
   "cell_type": "code",
   "execution_count": 279,
   "metadata": {},
   "outputs": [
    {
     "data": {
      "text/html": [
       "<div>\n",
       "<style scoped>\n",
       "    .dataframe tbody tr th:only-of-type {\n",
       "        vertical-align: middle;\n",
       "    }\n",
       "\n",
       "    .dataframe tbody tr th {\n",
       "        vertical-align: top;\n",
       "    }\n",
       "\n",
       "    .dataframe thead th {\n",
       "        text-align: right;\n",
       "    }\n",
       "</style>\n",
       "<table border=\"1\" class=\"dataframe\">\n",
       "  <thead>\n",
       "    <tr style=\"text-align: right;\">\n",
       "      <th></th>\n",
       "      <th>unique_id</th>\n",
       "      <th>sellingprice</th>\n",
       "      <th>basket</th>\n",
       "      <th>favorite</th>\n",
       "      <th>order</th>\n",
       "      <th>search</th>\n",
       "      <th>visit</th>\n",
       "      <th>Level3_Category_Name</th>\n",
       "      <th>Level2_Category_Name</th>\n",
       "      <th>Level1_Category_Name</th>\n",
       "      <th>product_gender</th>\n",
       "    </tr>\n",
       "  </thead>\n",
       "  <tbody>\n",
       "    <tr>\n",
       "      <th>0</th>\n",
       "      <td>9</td>\n",
       "      <td>225.640314</td>\n",
       "      <td>122.0</td>\n",
       "      <td>92.0</td>\n",
       "      <td>22.0</td>\n",
       "      <td>1674.0</td>\n",
       "      <td>1392.0</td>\n",
       "      <td>Kaban &amp; Mont</td>\n",
       "      <td>Dış Giyim</td>\n",
       "      <td>Giyim</td>\n",
       "      <td>Kadın</td>\n",
       "    </tr>\n",
       "    <tr>\n",
       "      <th>1</th>\n",
       "      <td>18</td>\n",
       "      <td>110.093421</td>\n",
       "      <td>2611.0</td>\n",
       "      <td>2996.0</td>\n",
       "      <td>1141.0</td>\n",
       "      <td>20321.0</td>\n",
       "      <td>44261.0</td>\n",
       "      <td>Kazak &amp; Hırka</td>\n",
       "      <td>Üst Giyim</td>\n",
       "      <td>Giyim</td>\n",
       "      <td>Kadın</td>\n",
       "    </tr>\n",
       "    <tr>\n",
       "      <th>2</th>\n",
       "      <td>21</td>\n",
       "      <td>302.462468</td>\n",
       "      <td>100.0</td>\n",
       "      <td>1088.0</td>\n",
       "      <td>32.0</td>\n",
       "      <td>2744.0</td>\n",
       "      <td>4700.0</td>\n",
       "      <td>Bot &amp; Bootie</td>\n",
       "      <td>Bot &amp; Çizme</td>\n",
       "      <td>Giyim</td>\n",
       "      <td>Kadın</td>\n",
       "    </tr>\n",
       "    <tr>\n",
       "      <th>3</th>\n",
       "      <td>25</td>\n",
       "      <td>229.201033</td>\n",
       "      <td>180.0</td>\n",
       "      <td>948.0</td>\n",
       "      <td>72.0</td>\n",
       "      <td>4068.0</td>\n",
       "      <td>7812.0</td>\n",
       "      <td>Elbise</td>\n",
       "      <td>Elbise</td>\n",
       "      <td>Giyim</td>\n",
       "      <td>Kadın</td>\n",
       "    </tr>\n",
       "    <tr>\n",
       "      <th>4</th>\n",
       "      <td>31</td>\n",
       "      <td>227.430711</td>\n",
       "      <td>2817.0</td>\n",
       "      <td>2043.0</td>\n",
       "      <td>171.0</td>\n",
       "      <td>20583.0</td>\n",
       "      <td>48672.0</td>\n",
       "      <td>Sofra</td>\n",
       "      <td>Sofra &amp; Mutfak</td>\n",
       "      <td>Giyim</td>\n",
       "      <td>Kadın</td>\n",
       "    </tr>\n",
       "    <tr>\n",
       "      <th>...</th>\n",
       "      <td>...</td>\n",
       "      <td>...</td>\n",
       "      <td>...</td>\n",
       "      <td>...</td>\n",
       "      <td>...</td>\n",
       "      <td>...</td>\n",
       "      <td>...</td>\n",
       "      <td>...</td>\n",
       "      <td>...</td>\n",
       "      <td>...</td>\n",
       "      <td>...</td>\n",
       "    </tr>\n",
       "    <tr>\n",
       "      <th>2375</th>\n",
       "      <td>7982</td>\n",
       "      <td>89.950000</td>\n",
       "      <td>0.0</td>\n",
       "      <td>0.0</td>\n",
       "      <td>0.0</td>\n",
       "      <td>1.0</td>\n",
       "      <td>0.0</td>\n",
       "      <td>Sweatshirt</td>\n",
       "      <td>Üst Giyim</td>\n",
       "      <td>Giyim</td>\n",
       "      <td>Kadın</td>\n",
       "    </tr>\n",
       "    <tr>\n",
       "      <th>2376</th>\n",
       "      <td>7990</td>\n",
       "      <td>729.000000</td>\n",
       "      <td>0.0</td>\n",
       "      <td>0.0</td>\n",
       "      <td>0.0</td>\n",
       "      <td>0.0</td>\n",
       "      <td>1.0</td>\n",
       "      <td>Koşu &amp; Antrenman Ayakkabısı</td>\n",
       "      <td>Spor Ayakkabı</td>\n",
       "      <td>Ayakkabı</td>\n",
       "      <td>Erkek</td>\n",
       "    </tr>\n",
       "    <tr>\n",
       "      <th>2377</th>\n",
       "      <td>7993</td>\n",
       "      <td>0.000000</td>\n",
       "      <td>0.0</td>\n",
       "      <td>0.0</td>\n",
       "      <td>0.0</td>\n",
       "      <td>0.0</td>\n",
       "      <td>1.0</td>\n",
       "      <td>Sırt Çantası</td>\n",
       "      <td>Çanta</td>\n",
       "      <td>Aksesuar</td>\n",
       "      <td>Unisex</td>\n",
       "    </tr>\n",
       "    <tr>\n",
       "      <th>2378</th>\n",
       "      <td>7994</td>\n",
       "      <td>49.950000</td>\n",
       "      <td>0.0</td>\n",
       "      <td>0.0</td>\n",
       "      <td>1.0</td>\n",
       "      <td>0.0</td>\n",
       "      <td>0.0</td>\n",
       "      <td>Webcam</td>\n",
       "      <td>Bilgisayar Tablet</td>\n",
       "      <td>Elektronik</td>\n",
       "      <td>Unisex</td>\n",
       "    </tr>\n",
       "    <tr>\n",
       "      <th>2379</th>\n",
       "      <td>7998</td>\n",
       "      <td>69.900000</td>\n",
       "      <td>0.0</td>\n",
       "      <td>0.0</td>\n",
       "      <td>0.0</td>\n",
       "      <td>1.0</td>\n",
       "      <td>0.0</td>\n",
       "      <td>Çalışma Odası</td>\n",
       "      <td>Mobilya</td>\n",
       "      <td>Ev &amp; Mobilya</td>\n",
       "      <td>Unisex</td>\n",
       "    </tr>\n",
       "  </tbody>\n",
       "</table>\n",
       "<p>2380 rows × 11 columns</p>\n",
       "</div>"
      ],
      "text/plain": [
       "      unique_id  sellingprice  basket  favorite   order   search    visit  \\\n",
       "0             9    225.640314   122.0      92.0    22.0   1674.0   1392.0   \n",
       "1            18    110.093421  2611.0    2996.0  1141.0  20321.0  44261.0   \n",
       "2            21    302.462468   100.0    1088.0    32.0   2744.0   4700.0   \n",
       "3            25    229.201033   180.0     948.0    72.0   4068.0   7812.0   \n",
       "4            31    227.430711  2817.0    2043.0   171.0  20583.0  48672.0   \n",
       "...         ...           ...     ...       ...     ...      ...      ...   \n",
       "2375       7982     89.950000     0.0       0.0     0.0      1.0      0.0   \n",
       "2376       7990    729.000000     0.0       0.0     0.0      0.0      1.0   \n",
       "2377       7993      0.000000     0.0       0.0     0.0      0.0      1.0   \n",
       "2378       7994     49.950000     0.0       0.0     1.0      0.0      0.0   \n",
       "2379       7998     69.900000     0.0       0.0     0.0      1.0      0.0   \n",
       "\n",
       "             Level3_Category_Name Level2_Category_Name Level1_Category_Name  \\\n",
       "0                    Kaban & Mont            Dış Giyim                Giyim   \n",
       "1                   Kazak & Hırka            Üst Giyim                Giyim   \n",
       "2                    Bot & Bootie          Bot & Çizme                Giyim   \n",
       "3                          Elbise               Elbise                Giyim   \n",
       "4                           Sofra       Sofra & Mutfak                Giyim   \n",
       "...                           ...                  ...                  ...   \n",
       "2375                   Sweatshirt            Üst Giyim                Giyim   \n",
       "2376  Koşu & Antrenman Ayakkabısı        Spor Ayakkabı             Ayakkabı   \n",
       "2377                 Sırt Çantası                Çanta             Aksesuar   \n",
       "2378                       Webcam    Bilgisayar Tablet           Elektronik   \n",
       "2379                Çalışma Odası              Mobilya         Ev & Mobilya   \n",
       "\n",
       "     product_gender  \n",
       "0             Kadın  \n",
       "1             Kadın  \n",
       "2             Kadın  \n",
       "3             Kadın  \n",
       "4             Kadın  \n",
       "...             ...  \n",
       "2375          Kadın  \n",
       "2376          Erkek  \n",
       "2377         Unisex  \n",
       "2378         Unisex  \n",
       "2379         Unisex  \n",
       "\n",
       "[2380 rows x 11 columns]"
      ]
     },
     "execution_count": 279,
     "metadata": {},
     "output_type": "execute_result"
    }
   ],
   "source": [
    "dataframe_test"
   ]
  },
  {
   "cell_type": "code",
   "execution_count": 278,
   "metadata": {},
   "outputs": [],
   "source": [
    "dataframe_test = dataframe_test.fillna(\"Unisex\")"
   ]
  },
  {
   "cell_type": "code",
   "execution_count": 183,
   "metadata": {},
   "outputs": [],
   "source": [
    "X_test_new = dataframe_test.drop([\"gender\"],axis=1)"
   ]
  },
  {
   "cell_type": "code",
   "execution_count": 184,
   "metadata": {},
   "outputs": [
    {
     "name": "stdout",
     "output_type": "stream",
     "text": [
      "Index(['unique_id', 'sellingprice', 'basket', 'favorite', 'order', 'search',\n",
      "       'visit', 'Level3_Category_Name', 'Level2_Category_Name',\n",
      "       'Level1_Category_Name', 'product_gender'],\n",
      "      dtype='object')\n",
      "(2380, 11)\n"
     ]
    }
   ],
   "source": [
    "print(X_test_new.columns)\n",
    "print(X_test_new.shape)"
   ]
  },
  {
   "cell_type": "code",
   "execution_count": 284,
   "metadata": {},
   "outputs": [],
   "source": [
    "X_train_new = X_train_new.fillna(\"Unisex\")"
   ]
  },
  {
   "cell_type": "code",
   "execution_count": 186,
   "metadata": {},
   "outputs": [
    {
     "data": {
      "text/html": [
       "<div>\n",
       "<style scoped>\n",
       "    .dataframe tbody tr th:only-of-type {\n",
       "        vertical-align: middle;\n",
       "    }\n",
       "\n",
       "    .dataframe tbody tr th {\n",
       "        vertical-align: top;\n",
       "    }\n",
       "\n",
       "    .dataframe thead th {\n",
       "        text-align: right;\n",
       "    }\n",
       "</style>\n",
       "<table border=\"1\" class=\"dataframe\">\n",
       "  <thead>\n",
       "    <tr style=\"text-align: right;\">\n",
       "      <th></th>\n",
       "      <th>unique_id</th>\n",
       "      <th>sellingprice</th>\n",
       "      <th>basket</th>\n",
       "      <th>favorite</th>\n",
       "      <th>order</th>\n",
       "      <th>search</th>\n",
       "      <th>visit</th>\n",
       "      <th>Level3_Category_Name</th>\n",
       "      <th>Level2_Category_Name</th>\n",
       "      <th>Level1_Category_Name</th>\n",
       "      <th>product_gender</th>\n",
       "    </tr>\n",
       "  </thead>\n",
       "  <tbody>\n",
       "    <tr>\n",
       "      <th>0</th>\n",
       "      <td>9</td>\n",
       "      <td>225.640314</td>\n",
       "      <td>122.0</td>\n",
       "      <td>92.0</td>\n",
       "      <td>22.0</td>\n",
       "      <td>1674.0</td>\n",
       "      <td>1392.0</td>\n",
       "      <td>Kaban &amp; Mont</td>\n",
       "      <td>Dış Giyim</td>\n",
       "      <td>Giyim</td>\n",
       "      <td>Kadın</td>\n",
       "    </tr>\n",
       "    <tr>\n",
       "      <th>1</th>\n",
       "      <td>18</td>\n",
       "      <td>110.093421</td>\n",
       "      <td>2611.0</td>\n",
       "      <td>2996.0</td>\n",
       "      <td>1141.0</td>\n",
       "      <td>20321.0</td>\n",
       "      <td>44261.0</td>\n",
       "      <td>Kazak &amp; Hırka</td>\n",
       "      <td>Üst Giyim</td>\n",
       "      <td>Giyim</td>\n",
       "      <td>Kadın</td>\n",
       "    </tr>\n",
       "    <tr>\n",
       "      <th>2</th>\n",
       "      <td>21</td>\n",
       "      <td>302.462468</td>\n",
       "      <td>100.0</td>\n",
       "      <td>1088.0</td>\n",
       "      <td>32.0</td>\n",
       "      <td>2744.0</td>\n",
       "      <td>4700.0</td>\n",
       "      <td>Bot &amp; Bootie</td>\n",
       "      <td>Bot &amp; Çizme</td>\n",
       "      <td>Giyim</td>\n",
       "      <td>Kadın</td>\n",
       "    </tr>\n",
       "    <tr>\n",
       "      <th>3</th>\n",
       "      <td>25</td>\n",
       "      <td>229.201033</td>\n",
       "      <td>180.0</td>\n",
       "      <td>948.0</td>\n",
       "      <td>72.0</td>\n",
       "      <td>4068.0</td>\n",
       "      <td>7812.0</td>\n",
       "      <td>Elbise</td>\n",
       "      <td>Elbise</td>\n",
       "      <td>Giyim</td>\n",
       "      <td>Kadın</td>\n",
       "    </tr>\n",
       "    <tr>\n",
       "      <th>4</th>\n",
       "      <td>31</td>\n",
       "      <td>227.430711</td>\n",
       "      <td>2817.0</td>\n",
       "      <td>2043.0</td>\n",
       "      <td>171.0</td>\n",
       "      <td>20583.0</td>\n",
       "      <td>48672.0</td>\n",
       "      <td>Sofra</td>\n",
       "      <td>Sofra &amp; Mutfak</td>\n",
       "      <td>Giyim</td>\n",
       "      <td>Kadın</td>\n",
       "    </tr>\n",
       "    <tr>\n",
       "      <th>...</th>\n",
       "      <td>...</td>\n",
       "      <td>...</td>\n",
       "      <td>...</td>\n",
       "      <td>...</td>\n",
       "      <td>...</td>\n",
       "      <td>...</td>\n",
       "      <td>...</td>\n",
       "      <td>...</td>\n",
       "      <td>...</td>\n",
       "      <td>...</td>\n",
       "      <td>...</td>\n",
       "    </tr>\n",
       "    <tr>\n",
       "      <th>2375</th>\n",
       "      <td>7982</td>\n",
       "      <td>89.950000</td>\n",
       "      <td>0.0</td>\n",
       "      <td>0.0</td>\n",
       "      <td>0.0</td>\n",
       "      <td>1.0</td>\n",
       "      <td>0.0</td>\n",
       "      <td>Sweatshirt</td>\n",
       "      <td>Üst Giyim</td>\n",
       "      <td>Giyim</td>\n",
       "      <td>Kadın</td>\n",
       "    </tr>\n",
       "    <tr>\n",
       "      <th>2376</th>\n",
       "      <td>7990</td>\n",
       "      <td>729.000000</td>\n",
       "      <td>0.0</td>\n",
       "      <td>0.0</td>\n",
       "      <td>0.0</td>\n",
       "      <td>0.0</td>\n",
       "      <td>1.0</td>\n",
       "      <td>Koşu &amp; Antrenman Ayakkabısı</td>\n",
       "      <td>Spor Ayakkabı</td>\n",
       "      <td>Ayakkabı</td>\n",
       "      <td>Erkek</td>\n",
       "    </tr>\n",
       "    <tr>\n",
       "      <th>2377</th>\n",
       "      <td>7993</td>\n",
       "      <td>0.000000</td>\n",
       "      <td>0.0</td>\n",
       "      <td>0.0</td>\n",
       "      <td>0.0</td>\n",
       "      <td>0.0</td>\n",
       "      <td>1.0</td>\n",
       "      <td>Sırt Çantası</td>\n",
       "      <td>Çanta</td>\n",
       "      <td>Aksesuar</td>\n",
       "      <td>Unisex</td>\n",
       "    </tr>\n",
       "    <tr>\n",
       "      <th>2378</th>\n",
       "      <td>7994</td>\n",
       "      <td>49.950000</td>\n",
       "      <td>0.0</td>\n",
       "      <td>0.0</td>\n",
       "      <td>1.0</td>\n",
       "      <td>0.0</td>\n",
       "      <td>0.0</td>\n",
       "      <td>Webcam</td>\n",
       "      <td>Bilgisayar Tablet</td>\n",
       "      <td>Elektronik</td>\n",
       "      <td>Unisex</td>\n",
       "    </tr>\n",
       "    <tr>\n",
       "      <th>2379</th>\n",
       "      <td>7998</td>\n",
       "      <td>69.900000</td>\n",
       "      <td>0.0</td>\n",
       "      <td>0.0</td>\n",
       "      <td>0.0</td>\n",
       "      <td>1.0</td>\n",
       "      <td>0.0</td>\n",
       "      <td>Çalışma Odası</td>\n",
       "      <td>Mobilya</td>\n",
       "      <td>Ev &amp; Mobilya</td>\n",
       "      <td>Unisex</td>\n",
       "    </tr>\n",
       "  </tbody>\n",
       "</table>\n",
       "<p>2380 rows × 11 columns</p>\n",
       "</div>"
      ],
      "text/plain": [
       "      unique_id  sellingprice  basket  favorite   order   search    visit  \\\n",
       "0             9    225.640314   122.0      92.0    22.0   1674.0   1392.0   \n",
       "1            18    110.093421  2611.0    2996.0  1141.0  20321.0  44261.0   \n",
       "2            21    302.462468   100.0    1088.0    32.0   2744.0   4700.0   \n",
       "3            25    229.201033   180.0     948.0    72.0   4068.0   7812.0   \n",
       "4            31    227.430711  2817.0    2043.0   171.0  20583.0  48672.0   \n",
       "...         ...           ...     ...       ...     ...      ...      ...   \n",
       "2375       7982     89.950000     0.0       0.0     0.0      1.0      0.0   \n",
       "2376       7990    729.000000     0.0       0.0     0.0      0.0      1.0   \n",
       "2377       7993      0.000000     0.0       0.0     0.0      0.0      1.0   \n",
       "2378       7994     49.950000     0.0       0.0     1.0      0.0      0.0   \n",
       "2379       7998     69.900000     0.0       0.0     0.0      1.0      0.0   \n",
       "\n",
       "             Level3_Category_Name Level2_Category_Name Level1_Category_Name  \\\n",
       "0                    Kaban & Mont            Dış Giyim                Giyim   \n",
       "1                   Kazak & Hırka            Üst Giyim                Giyim   \n",
       "2                    Bot & Bootie          Bot & Çizme                Giyim   \n",
       "3                          Elbise               Elbise                Giyim   \n",
       "4                           Sofra       Sofra & Mutfak                Giyim   \n",
       "...                           ...                  ...                  ...   \n",
       "2375                   Sweatshirt            Üst Giyim                Giyim   \n",
       "2376  Koşu & Antrenman Ayakkabısı        Spor Ayakkabı             Ayakkabı   \n",
       "2377                 Sırt Çantası                Çanta             Aksesuar   \n",
       "2378                       Webcam    Bilgisayar Tablet           Elektronik   \n",
       "2379                Çalışma Odası              Mobilya         Ev & Mobilya   \n",
       "\n",
       "     product_gender  \n",
       "0             Kadın  \n",
       "1             Kadın  \n",
       "2             Kadın  \n",
       "3             Kadın  \n",
       "4             Kadın  \n",
       "...             ...  \n",
       "2375          Kadın  \n",
       "2376          Erkek  \n",
       "2377         Unisex  \n",
       "2378         Unisex  \n",
       "2379         Unisex  \n",
       "\n",
       "[2380 rows x 11 columns]"
      ]
     },
     "execution_count": 186,
     "metadata": {},
     "output_type": "execute_result"
    }
   ],
   "source": [
    "X_test_new"
   ]
  },
  {
   "cell_type": "code",
   "execution_count": 189,
   "metadata": {},
   "outputs": [],
   "source": [
    "X_train_new.to_excel(\"X_train_IE582.xlsx\")"
   ]
  },
  {
   "cell_type": "code",
   "execution_count": 190,
   "metadata": {},
   "outputs": [],
   "source": [
    "X_test_new.to_excel(\"X_test_IE582.xlsx\")"
   ]
  },
  {
   "cell_type": "code",
   "execution_count": 285,
   "metadata": {},
   "outputs": [],
   "source": [
    "X_train_last = pd.read_excel(\"X_train_IE582.xlsx\")\n",
    "X_test_last = pd.read_excel(\"X_test_IE582.xlsx\")"
   ]
  },
  {
   "cell_type": "code",
   "execution_count": 287,
   "metadata": {},
   "outputs": [],
   "source": [
    "X_train_last = X_train_last.loc[:, ~X_train_last.columns.str.contains('^Unnamed')]\n",
    "X_test_last = X_test_last.loc[:, ~X_test_last.columns.str.contains('^Unnamed')]"
   ]
  },
  {
   "cell_type": "code",
   "execution_count": 288,
   "metadata": {},
   "outputs": [],
   "source": [
    "X_train_last = X_train_last.set_index(\"unique_id\")"
   ]
  },
  {
   "cell_type": "code",
   "execution_count": 289,
   "metadata": {},
   "outputs": [],
   "source": [
    "X_test_last = X_test_last.set_index(\"unique_id\")"
   ]
  },
  {
   "cell_type": "code",
   "execution_count": 290,
   "metadata": {},
   "outputs": [
    {
     "data": {
      "text/html": [
       "<div>\n",
       "<style scoped>\n",
       "    .dataframe tbody tr th:only-of-type {\n",
       "        vertical-align: middle;\n",
       "    }\n",
       "\n",
       "    .dataframe tbody tr th {\n",
       "        vertical-align: top;\n",
       "    }\n",
       "\n",
       "    .dataframe thead th {\n",
       "        text-align: right;\n",
       "    }\n",
       "</style>\n",
       "<table border=\"1\" class=\"dataframe\">\n",
       "  <thead>\n",
       "    <tr style=\"text-align: right;\">\n",
       "      <th></th>\n",
       "      <th>sellingprice</th>\n",
       "      <th>basket</th>\n",
       "      <th>favorite</th>\n",
       "      <th>order</th>\n",
       "      <th>search</th>\n",
       "      <th>visit</th>\n",
       "      <th>Level1_Category_Name</th>\n",
       "      <th>Level2_Category_Name</th>\n",
       "      <th>Level3_Category_Name</th>\n",
       "      <th>product_gender</th>\n",
       "      <th>gender</th>\n",
       "    </tr>\n",
       "    <tr>\n",
       "      <th>unique_id</th>\n",
       "      <th></th>\n",
       "      <th></th>\n",
       "      <th></th>\n",
       "      <th></th>\n",
       "      <th></th>\n",
       "      <th></th>\n",
       "      <th></th>\n",
       "      <th></th>\n",
       "      <th></th>\n",
       "      <th></th>\n",
       "      <th></th>\n",
       "    </tr>\n",
       "  </thead>\n",
       "  <tbody>\n",
       "    <tr>\n",
       "      <th>1</th>\n",
       "      <td>166.306861</td>\n",
       "      <td>218</td>\n",
       "      <td>184</td>\n",
       "      <td>6</td>\n",
       "      <td>1342</td>\n",
       "      <td>1490</td>\n",
       "      <td>Ev &amp; Mobilya</td>\n",
       "      <td>Ev Tekstili</td>\n",
       "      <td>Halı &amp; Kilim &amp; Paspas</td>\n",
       "      <td>Unisex</td>\n",
       "      <td>F</td>\n",
       "    </tr>\n",
       "    <tr>\n",
       "      <th>2</th>\n",
       "      <td>154.142955</td>\n",
       "      <td>52</td>\n",
       "      <td>1784</td>\n",
       "      <td>4</td>\n",
       "      <td>1834</td>\n",
       "      <td>1562</td>\n",
       "      <td>Giyim</td>\n",
       "      <td>Sofra &amp; Mutfak</td>\n",
       "      <td>Yatak Odası Tekstili</td>\n",
       "      <td>Kadın</td>\n",
       "      <td>F</td>\n",
       "    </tr>\n",
       "    <tr>\n",
       "      <th>3</th>\n",
       "      <td>271.316497</td>\n",
       "      <td>128</td>\n",
       "      <td>0</td>\n",
       "      <td>44</td>\n",
       "      <td>864</td>\n",
       "      <td>540</td>\n",
       "      <td>Giyim</td>\n",
       "      <td>Elbise</td>\n",
       "      <td>Elbise</td>\n",
       "      <td>Kadın</td>\n",
       "      <td>F</td>\n",
       "    </tr>\n",
       "    <tr>\n",
       "      <th>4</th>\n",
       "      <td>289.891374</td>\n",
       "      <td>1800</td>\n",
       "      <td>780</td>\n",
       "      <td>336</td>\n",
       "      <td>12756</td>\n",
       "      <td>17268</td>\n",
       "      <td>Giyim</td>\n",
       "      <td>Üst Giyim</td>\n",
       "      <td>Kazak &amp; Hırka</td>\n",
       "      <td>Kadın</td>\n",
       "      <td>F</td>\n",
       "    </tr>\n",
       "    <tr>\n",
       "      <th>5</th>\n",
       "      <td>137.397251</td>\n",
       "      <td>1025</td>\n",
       "      <td>5</td>\n",
       "      <td>50</td>\n",
       "      <td>2990</td>\n",
       "      <td>16505</td>\n",
       "      <td>Kozmetik &amp; Kişisel Bakım</td>\n",
       "      <td>Makyaj</td>\n",
       "      <td>Dudak Makyajı</td>\n",
       "      <td>Kadın</td>\n",
       "      <td>F</td>\n",
       "    </tr>\n",
       "    <tr>\n",
       "      <th>...</th>\n",
       "      <td>...</td>\n",
       "      <td>...</td>\n",
       "      <td>...</td>\n",
       "      <td>...</td>\n",
       "      <td>...</td>\n",
       "      <td>...</td>\n",
       "      <td>...</td>\n",
       "      <td>...</td>\n",
       "      <td>...</td>\n",
       "      <td>...</td>\n",
       "      <td>...</td>\n",
       "    </tr>\n",
       "    <tr>\n",
       "      <th>7991</th>\n",
       "      <td>925.000000</td>\n",
       "      <td>0</td>\n",
       "      <td>0</td>\n",
       "      <td>1</td>\n",
       "      <td>0</td>\n",
       "      <td>0</td>\n",
       "      <td>Yaşam</td>\n",
       "      <td>Bahçe ve Yapı Market</td>\n",
       "      <td>Bahçe</td>\n",
       "      <td>Unisex</td>\n",
       "      <td>F</td>\n",
       "    </tr>\n",
       "    <tr>\n",
       "      <th>7992</th>\n",
       "      <td>87.000000</td>\n",
       "      <td>0</td>\n",
       "      <td>0</td>\n",
       "      <td>0</td>\n",
       "      <td>0</td>\n",
       "      <td>1</td>\n",
       "      <td>Yaşam</td>\n",
       "      <td>Kitap</td>\n",
       "      <td>Eğitim</td>\n",
       "      <td>Unisex</td>\n",
       "      <td>F</td>\n",
       "    </tr>\n",
       "    <tr>\n",
       "      <th>7995</th>\n",
       "      <td>4699.000000</td>\n",
       "      <td>0</td>\n",
       "      <td>0</td>\n",
       "      <td>0</td>\n",
       "      <td>0</td>\n",
       "      <td>1</td>\n",
       "      <td>Elektronik</td>\n",
       "      <td>Bilgisayar Tablet</td>\n",
       "      <td>Oyuncu Bilgisayarları</td>\n",
       "      <td>Unisex</td>\n",
       "      <td>M</td>\n",
       "    </tr>\n",
       "    <tr>\n",
       "      <th>7996</th>\n",
       "      <td>107.670000</td>\n",
       "      <td>1</td>\n",
       "      <td>0</td>\n",
       "      <td>0</td>\n",
       "      <td>0</td>\n",
       "      <td>1</td>\n",
       "      <td>Ev &amp; Mobilya</td>\n",
       "      <td>Ev Dekorasyon</td>\n",
       "      <td>Duvar Saati</td>\n",
       "      <td>Unisex</td>\n",
       "      <td>F</td>\n",
       "    </tr>\n",
       "    <tr>\n",
       "      <th>7997</th>\n",
       "      <td>179.000000</td>\n",
       "      <td>0</td>\n",
       "      <td>0</td>\n",
       "      <td>0</td>\n",
       "      <td>0</td>\n",
       "      <td>1</td>\n",
       "      <td>Ev &amp; Mobilya</td>\n",
       "      <td>Ev Tekstili</td>\n",
       "      <td>Yatak Odası Tekstili</td>\n",
       "      <td>Unisex</td>\n",
       "      <td>F</td>\n",
       "    </tr>\n",
       "  </tbody>\n",
       "</table>\n",
       "<p>5616 rows × 11 columns</p>\n",
       "</div>"
      ],
      "text/plain": [
       "           sellingprice  basket  favorite  order  search  visit  \\\n",
       "unique_id                                                         \n",
       "1            166.306861     218       184      6    1342   1490   \n",
       "2            154.142955      52      1784      4    1834   1562   \n",
       "3            271.316497     128         0     44     864    540   \n",
       "4            289.891374    1800       780    336   12756  17268   \n",
       "5            137.397251    1025         5     50    2990  16505   \n",
       "...                 ...     ...       ...    ...     ...    ...   \n",
       "7991         925.000000       0         0      1       0      0   \n",
       "7992          87.000000       0         0      0       0      1   \n",
       "7995        4699.000000       0         0      0       0      1   \n",
       "7996         107.670000       1         0      0       0      1   \n",
       "7997         179.000000       0         0      0       0      1   \n",
       "\n",
       "               Level1_Category_Name  Level2_Category_Name  \\\n",
       "unique_id                                                   \n",
       "1                      Ev & Mobilya           Ev Tekstili   \n",
       "2                             Giyim        Sofra & Mutfak   \n",
       "3                             Giyim                Elbise   \n",
       "4                             Giyim             Üst Giyim   \n",
       "5          Kozmetik & Kişisel Bakım                Makyaj   \n",
       "...                             ...                   ...   \n",
       "7991                          Yaşam  Bahçe ve Yapı Market   \n",
       "7992                          Yaşam                 Kitap   \n",
       "7995                     Elektronik     Bilgisayar Tablet   \n",
       "7996                   Ev & Mobilya         Ev Dekorasyon   \n",
       "7997                   Ev & Mobilya           Ev Tekstili   \n",
       "\n",
       "            Level3_Category_Name product_gender gender  \n",
       "unique_id                                               \n",
       "1          Halı & Kilim & Paspas         Unisex      F  \n",
       "2           Yatak Odası Tekstili          Kadın      F  \n",
       "3                         Elbise          Kadın      F  \n",
       "4                  Kazak & Hırka          Kadın      F  \n",
       "5                  Dudak Makyajı          Kadın      F  \n",
       "...                          ...            ...    ...  \n",
       "7991                       Bahçe         Unisex      F  \n",
       "7992                      Eğitim         Unisex      F  \n",
       "7995       Oyuncu Bilgisayarları         Unisex      M  \n",
       "7996                 Duvar Saati         Unisex      F  \n",
       "7997        Yatak Odası Tekstili         Unisex      F  \n",
       "\n",
       "[5616 rows x 11 columns]"
      ]
     },
     "execution_count": 290,
     "metadata": {},
     "output_type": "execute_result"
    }
   ],
   "source": [
    "X_train_last"
   ]
  },
  {
   "cell_type": "code",
   "execution_count": 291,
   "metadata": {},
   "outputs": [
    {
     "data": {
      "text/html": [
       "<div>\n",
       "<style scoped>\n",
       "    .dataframe tbody tr th:only-of-type {\n",
       "        vertical-align: middle;\n",
       "    }\n",
       "\n",
       "    .dataframe tbody tr th {\n",
       "        vertical-align: top;\n",
       "    }\n",
       "\n",
       "    .dataframe thead th {\n",
       "        text-align: right;\n",
       "    }\n",
       "</style>\n",
       "<table border=\"1\" class=\"dataframe\">\n",
       "  <thead>\n",
       "    <tr style=\"text-align: right;\">\n",
       "      <th></th>\n",
       "      <th>sellingprice</th>\n",
       "      <th>basket</th>\n",
       "      <th>favorite</th>\n",
       "      <th>order</th>\n",
       "      <th>search</th>\n",
       "      <th>visit</th>\n",
       "      <th>Level3_Category_Name</th>\n",
       "      <th>Level2_Category_Name</th>\n",
       "      <th>Level1_Category_Name</th>\n",
       "      <th>product_gender</th>\n",
       "    </tr>\n",
       "    <tr>\n",
       "      <th>unique_id</th>\n",
       "      <th></th>\n",
       "      <th></th>\n",
       "      <th></th>\n",
       "      <th></th>\n",
       "      <th></th>\n",
       "      <th></th>\n",
       "      <th></th>\n",
       "      <th></th>\n",
       "      <th></th>\n",
       "      <th></th>\n",
       "    </tr>\n",
       "  </thead>\n",
       "  <tbody>\n",
       "    <tr>\n",
       "      <th>9</th>\n",
       "      <td>225.640314</td>\n",
       "      <td>122</td>\n",
       "      <td>92</td>\n",
       "      <td>22</td>\n",
       "      <td>1674</td>\n",
       "      <td>1392</td>\n",
       "      <td>Kaban &amp; Mont</td>\n",
       "      <td>Dış Giyim</td>\n",
       "      <td>Giyim</td>\n",
       "      <td>Kadın</td>\n",
       "    </tr>\n",
       "    <tr>\n",
       "      <th>18</th>\n",
       "      <td>110.093421</td>\n",
       "      <td>2611</td>\n",
       "      <td>2996</td>\n",
       "      <td>1141</td>\n",
       "      <td>20321</td>\n",
       "      <td>44261</td>\n",
       "      <td>Kazak &amp; Hırka</td>\n",
       "      <td>Üst Giyim</td>\n",
       "      <td>Giyim</td>\n",
       "      <td>Kadın</td>\n",
       "    </tr>\n",
       "    <tr>\n",
       "      <th>21</th>\n",
       "      <td>302.462468</td>\n",
       "      <td>100</td>\n",
       "      <td>1088</td>\n",
       "      <td>32</td>\n",
       "      <td>2744</td>\n",
       "      <td>4700</td>\n",
       "      <td>Bot &amp; Bootie</td>\n",
       "      <td>Bot &amp; Çizme</td>\n",
       "      <td>Giyim</td>\n",
       "      <td>Kadın</td>\n",
       "    </tr>\n",
       "    <tr>\n",
       "      <th>25</th>\n",
       "      <td>229.201033</td>\n",
       "      <td>180</td>\n",
       "      <td>948</td>\n",
       "      <td>72</td>\n",
       "      <td>4068</td>\n",
       "      <td>7812</td>\n",
       "      <td>Elbise</td>\n",
       "      <td>Elbise</td>\n",
       "      <td>Giyim</td>\n",
       "      <td>Kadın</td>\n",
       "    </tr>\n",
       "    <tr>\n",
       "      <th>31</th>\n",
       "      <td>227.430711</td>\n",
       "      <td>2817</td>\n",
       "      <td>2043</td>\n",
       "      <td>171</td>\n",
       "      <td>20583</td>\n",
       "      <td>48672</td>\n",
       "      <td>Sofra</td>\n",
       "      <td>Sofra &amp; Mutfak</td>\n",
       "      <td>Giyim</td>\n",
       "      <td>Kadın</td>\n",
       "    </tr>\n",
       "    <tr>\n",
       "      <th>...</th>\n",
       "      <td>...</td>\n",
       "      <td>...</td>\n",
       "      <td>...</td>\n",
       "      <td>...</td>\n",
       "      <td>...</td>\n",
       "      <td>...</td>\n",
       "      <td>...</td>\n",
       "      <td>...</td>\n",
       "      <td>...</td>\n",
       "      <td>...</td>\n",
       "    </tr>\n",
       "    <tr>\n",
       "      <th>7982</th>\n",
       "      <td>89.950000</td>\n",
       "      <td>0</td>\n",
       "      <td>0</td>\n",
       "      <td>0</td>\n",
       "      <td>1</td>\n",
       "      <td>0</td>\n",
       "      <td>Sweatshirt</td>\n",
       "      <td>Üst Giyim</td>\n",
       "      <td>Giyim</td>\n",
       "      <td>Kadın</td>\n",
       "    </tr>\n",
       "    <tr>\n",
       "      <th>7990</th>\n",
       "      <td>729.000000</td>\n",
       "      <td>0</td>\n",
       "      <td>0</td>\n",
       "      <td>0</td>\n",
       "      <td>0</td>\n",
       "      <td>1</td>\n",
       "      <td>Koşu &amp; Antrenman Ayakkabısı</td>\n",
       "      <td>Spor Ayakkabı</td>\n",
       "      <td>Ayakkabı</td>\n",
       "      <td>Erkek</td>\n",
       "    </tr>\n",
       "    <tr>\n",
       "      <th>7993</th>\n",
       "      <td>0.000000</td>\n",
       "      <td>0</td>\n",
       "      <td>0</td>\n",
       "      <td>0</td>\n",
       "      <td>0</td>\n",
       "      <td>1</td>\n",
       "      <td>Sırt Çantası</td>\n",
       "      <td>Çanta</td>\n",
       "      <td>Aksesuar</td>\n",
       "      <td>Unisex</td>\n",
       "    </tr>\n",
       "    <tr>\n",
       "      <th>7994</th>\n",
       "      <td>49.950000</td>\n",
       "      <td>0</td>\n",
       "      <td>0</td>\n",
       "      <td>1</td>\n",
       "      <td>0</td>\n",
       "      <td>0</td>\n",
       "      <td>Webcam</td>\n",
       "      <td>Bilgisayar Tablet</td>\n",
       "      <td>Elektronik</td>\n",
       "      <td>Unisex</td>\n",
       "    </tr>\n",
       "    <tr>\n",
       "      <th>7998</th>\n",
       "      <td>69.900000</td>\n",
       "      <td>0</td>\n",
       "      <td>0</td>\n",
       "      <td>0</td>\n",
       "      <td>1</td>\n",
       "      <td>0</td>\n",
       "      <td>Çalışma Odası</td>\n",
       "      <td>Mobilya</td>\n",
       "      <td>Ev &amp; Mobilya</td>\n",
       "      <td>Unisex</td>\n",
       "    </tr>\n",
       "  </tbody>\n",
       "</table>\n",
       "<p>2380 rows × 10 columns</p>\n",
       "</div>"
      ],
      "text/plain": [
       "           sellingprice  basket  favorite  order  search  visit  \\\n",
       "unique_id                                                         \n",
       "9            225.640314     122        92     22    1674   1392   \n",
       "18           110.093421    2611      2996   1141   20321  44261   \n",
       "21           302.462468     100      1088     32    2744   4700   \n",
       "25           229.201033     180       948     72    4068   7812   \n",
       "31           227.430711    2817      2043    171   20583  48672   \n",
       "...                 ...     ...       ...    ...     ...    ...   \n",
       "7982          89.950000       0         0      0       1      0   \n",
       "7990         729.000000       0         0      0       0      1   \n",
       "7993           0.000000       0         0      0       0      1   \n",
       "7994          49.950000       0         0      1       0      0   \n",
       "7998          69.900000       0         0      0       1      0   \n",
       "\n",
       "                  Level3_Category_Name Level2_Category_Name  \\\n",
       "unique_id                                                     \n",
       "9                         Kaban & Mont            Dış Giyim   \n",
       "18                       Kazak & Hırka            Üst Giyim   \n",
       "21                        Bot & Bootie          Bot & Çizme   \n",
       "25                              Elbise               Elbise   \n",
       "31                               Sofra       Sofra & Mutfak   \n",
       "...                                ...                  ...   \n",
       "7982                        Sweatshirt            Üst Giyim   \n",
       "7990       Koşu & Antrenman Ayakkabısı        Spor Ayakkabı   \n",
       "7993                      Sırt Çantası                Çanta   \n",
       "7994                            Webcam    Bilgisayar Tablet   \n",
       "7998                     Çalışma Odası              Mobilya   \n",
       "\n",
       "          Level1_Category_Name product_gender  \n",
       "unique_id                                      \n",
       "9                        Giyim          Kadın  \n",
       "18                       Giyim          Kadın  \n",
       "21                       Giyim          Kadın  \n",
       "25                       Giyim          Kadın  \n",
       "31                       Giyim          Kadın  \n",
       "...                        ...            ...  \n",
       "7982                     Giyim          Kadın  \n",
       "7990                  Ayakkabı          Erkek  \n",
       "7993                  Aksesuar         Unisex  \n",
       "7994                Elektronik         Unisex  \n",
       "7998              Ev & Mobilya         Unisex  \n",
       "\n",
       "[2380 rows x 10 columns]"
      ]
     },
     "execution_count": 291,
     "metadata": {},
     "output_type": "execute_result"
    }
   ],
   "source": [
    "X_test_last"
   ]
  },
  {
   "cell_type": "code",
   "execution_count": 292,
   "metadata": {},
   "outputs": [],
   "source": [
    "from sklearn.preprocessing import LabelEncoder\n",
    "from sklearn.preprocessing import OneHotEncoder"
   ]
  },
  {
   "cell_type": "code",
   "execution_count": 293,
   "metadata": {},
   "outputs": [],
   "source": [
    "le = LabelEncoder()"
   ]
  },
  {
   "cell_type": "code",
   "execution_count": 294,
   "metadata": {},
   "outputs": [],
   "source": [
    "encode = X_train_last[[\"Level3_Category_Name\",\"Level2_Category_Name\",\"Level1_Category_Name\"]]"
   ]
  },
  {
   "cell_type": "code",
   "execution_count": 295,
   "metadata": {},
   "outputs": [],
   "source": [
    "encode = encode.apply(le.fit_transform)"
   ]
  },
  {
   "cell_type": "code",
   "execution_count": 296,
   "metadata": {},
   "outputs": [
    {
     "data": {
      "text/html": [
       "<div>\n",
       "<style scoped>\n",
       "    .dataframe tbody tr th:only-of-type {\n",
       "        vertical-align: middle;\n",
       "    }\n",
       "\n",
       "    .dataframe tbody tr th {\n",
       "        vertical-align: top;\n",
       "    }\n",
       "\n",
       "    .dataframe thead th {\n",
       "        text-align: right;\n",
       "    }\n",
       "</style>\n",
       "<table border=\"1\" class=\"dataframe\">\n",
       "  <thead>\n",
       "    <tr style=\"text-align: right;\">\n",
       "      <th></th>\n",
       "      <th>Level3_Category_Name</th>\n",
       "      <th>Level2_Category_Name</th>\n",
       "      <th>Level1_Category_Name</th>\n",
       "    </tr>\n",
       "    <tr>\n",
       "      <th>unique_id</th>\n",
       "      <th></th>\n",
       "      <th></th>\n",
       "      <th></th>\n",
       "    </tr>\n",
       "  </thead>\n",
       "  <tbody>\n",
       "    <tr>\n",
       "      <th>1</th>\n",
       "      <td>165</td>\n",
       "      <td>29</td>\n",
       "      <td>4</td>\n",
       "    </tr>\n",
       "    <tr>\n",
       "      <th>2</th>\n",
       "      <td>368</td>\n",
       "      <td>61</td>\n",
       "      <td>5</td>\n",
       "    </tr>\n",
       "    <tr>\n",
       "      <th>3</th>\n",
       "      <td>124</td>\n",
       "      <td>22</td>\n",
       "      <td>5</td>\n",
       "    </tr>\n",
       "    <tr>\n",
       "      <th>4</th>\n",
       "      <td>187</td>\n",
       "      <td>76</td>\n",
       "      <td>5</td>\n",
       "    </tr>\n",
       "    <tr>\n",
       "      <th>5</th>\n",
       "      <td>115</td>\n",
       "      <td>46</td>\n",
       "      <td>6</td>\n",
       "    </tr>\n",
       "    <tr>\n",
       "      <th>...</th>\n",
       "      <td>...</td>\n",
       "      <td>...</td>\n",
       "      <td>...</td>\n",
       "    </tr>\n",
       "    <tr>\n",
       "      <th>7991</th>\n",
       "      <td>32</td>\n",
       "      <td>7</td>\n",
       "      <td>9</td>\n",
       "    </tr>\n",
       "    <tr>\n",
       "      <th>7992</th>\n",
       "      <td>136</td>\n",
       "      <td>41</td>\n",
       "      <td>9</td>\n",
       "    </tr>\n",
       "    <tr>\n",
       "      <th>7995</th>\n",
       "      <td>261</td>\n",
       "      <td>13</td>\n",
       "      <td>3</td>\n",
       "    </tr>\n",
       "    <tr>\n",
       "      <th>7996</th>\n",
       "      <td>118</td>\n",
       "      <td>26</td>\n",
       "      <td>4</td>\n",
       "    </tr>\n",
       "    <tr>\n",
       "      <th>7997</th>\n",
       "      <td>368</td>\n",
       "      <td>29</td>\n",
       "      <td>4</td>\n",
       "    </tr>\n",
       "  </tbody>\n",
       "</table>\n",
       "<p>5616 rows × 3 columns</p>\n",
       "</div>"
      ],
      "text/plain": [
       "           Level3_Category_Name  Level2_Category_Name  Level1_Category_Name\n",
       "unique_id                                                                  \n",
       "1                           165                    29                     4\n",
       "2                           368                    61                     5\n",
       "3                           124                    22                     5\n",
       "4                           187                    76                     5\n",
       "5                           115                    46                     6\n",
       "...                         ...                   ...                   ...\n",
       "7991                         32                     7                     9\n",
       "7992                        136                    41                     9\n",
       "7995                        261                    13                     3\n",
       "7996                        118                    26                     4\n",
       "7997                        368                    29                     4\n",
       "\n",
       "[5616 rows x 3 columns]"
      ]
     },
     "execution_count": 296,
     "metadata": {},
     "output_type": "execute_result"
    }
   ],
   "source": [
    "encode"
   ]
  },
  {
   "cell_type": "code",
   "execution_count": 297,
   "metadata": {},
   "outputs": [],
   "source": [
    "X_train_last.drop([\"Level3_Category_Name\",\"Level2_Category_Name\",\"Level1_Category_Name\"],axis=1,inplace=True)"
   ]
  },
  {
   "cell_type": "code",
   "execution_count": 298,
   "metadata": {},
   "outputs": [],
   "source": [
    "X_train_last = pd.concat([X_train_last,encode],axis=1)"
   ]
  },
  {
   "cell_type": "code",
   "execution_count": 299,
   "metadata": {},
   "outputs": [
    {
     "data": {
      "text/html": [
       "<div>\n",
       "<style scoped>\n",
       "    .dataframe tbody tr th:only-of-type {\n",
       "        vertical-align: middle;\n",
       "    }\n",
       "\n",
       "    .dataframe tbody tr th {\n",
       "        vertical-align: top;\n",
       "    }\n",
       "\n",
       "    .dataframe thead th {\n",
       "        text-align: right;\n",
       "    }\n",
       "</style>\n",
       "<table border=\"1\" class=\"dataframe\">\n",
       "  <thead>\n",
       "    <tr style=\"text-align: right;\">\n",
       "      <th></th>\n",
       "      <th>sellingprice</th>\n",
       "      <th>basket</th>\n",
       "      <th>favorite</th>\n",
       "      <th>order</th>\n",
       "      <th>search</th>\n",
       "      <th>visit</th>\n",
       "      <th>product_gender</th>\n",
       "      <th>gender</th>\n",
       "      <th>Level3_Category_Name</th>\n",
       "      <th>Level2_Category_Name</th>\n",
       "      <th>Level1_Category_Name</th>\n",
       "    </tr>\n",
       "    <tr>\n",
       "      <th>unique_id</th>\n",
       "      <th></th>\n",
       "      <th></th>\n",
       "      <th></th>\n",
       "      <th></th>\n",
       "      <th></th>\n",
       "      <th></th>\n",
       "      <th></th>\n",
       "      <th></th>\n",
       "      <th></th>\n",
       "      <th></th>\n",
       "      <th></th>\n",
       "    </tr>\n",
       "  </thead>\n",
       "  <tbody>\n",
       "    <tr>\n",
       "      <th>1</th>\n",
       "      <td>166.306861</td>\n",
       "      <td>218</td>\n",
       "      <td>184</td>\n",
       "      <td>6</td>\n",
       "      <td>1342</td>\n",
       "      <td>1490</td>\n",
       "      <td>Unisex</td>\n",
       "      <td>F</td>\n",
       "      <td>165</td>\n",
       "      <td>29</td>\n",
       "      <td>4</td>\n",
       "    </tr>\n",
       "    <tr>\n",
       "      <th>2</th>\n",
       "      <td>154.142955</td>\n",
       "      <td>52</td>\n",
       "      <td>1784</td>\n",
       "      <td>4</td>\n",
       "      <td>1834</td>\n",
       "      <td>1562</td>\n",
       "      <td>Kadın</td>\n",
       "      <td>F</td>\n",
       "      <td>368</td>\n",
       "      <td>61</td>\n",
       "      <td>5</td>\n",
       "    </tr>\n",
       "    <tr>\n",
       "      <th>3</th>\n",
       "      <td>271.316497</td>\n",
       "      <td>128</td>\n",
       "      <td>0</td>\n",
       "      <td>44</td>\n",
       "      <td>864</td>\n",
       "      <td>540</td>\n",
       "      <td>Kadın</td>\n",
       "      <td>F</td>\n",
       "      <td>124</td>\n",
       "      <td>22</td>\n",
       "      <td>5</td>\n",
       "    </tr>\n",
       "    <tr>\n",
       "      <th>4</th>\n",
       "      <td>289.891374</td>\n",
       "      <td>1800</td>\n",
       "      <td>780</td>\n",
       "      <td>336</td>\n",
       "      <td>12756</td>\n",
       "      <td>17268</td>\n",
       "      <td>Kadın</td>\n",
       "      <td>F</td>\n",
       "      <td>187</td>\n",
       "      <td>76</td>\n",
       "      <td>5</td>\n",
       "    </tr>\n",
       "    <tr>\n",
       "      <th>5</th>\n",
       "      <td>137.397251</td>\n",
       "      <td>1025</td>\n",
       "      <td>5</td>\n",
       "      <td>50</td>\n",
       "      <td>2990</td>\n",
       "      <td>16505</td>\n",
       "      <td>Kadın</td>\n",
       "      <td>F</td>\n",
       "      <td>115</td>\n",
       "      <td>46</td>\n",
       "      <td>6</td>\n",
       "    </tr>\n",
       "    <tr>\n",
       "      <th>...</th>\n",
       "      <td>...</td>\n",
       "      <td>...</td>\n",
       "      <td>...</td>\n",
       "      <td>...</td>\n",
       "      <td>...</td>\n",
       "      <td>...</td>\n",
       "      <td>...</td>\n",
       "      <td>...</td>\n",
       "      <td>...</td>\n",
       "      <td>...</td>\n",
       "      <td>...</td>\n",
       "    </tr>\n",
       "    <tr>\n",
       "      <th>7991</th>\n",
       "      <td>925.000000</td>\n",
       "      <td>0</td>\n",
       "      <td>0</td>\n",
       "      <td>1</td>\n",
       "      <td>0</td>\n",
       "      <td>0</td>\n",
       "      <td>Unisex</td>\n",
       "      <td>F</td>\n",
       "      <td>32</td>\n",
       "      <td>7</td>\n",
       "      <td>9</td>\n",
       "    </tr>\n",
       "    <tr>\n",
       "      <th>7992</th>\n",
       "      <td>87.000000</td>\n",
       "      <td>0</td>\n",
       "      <td>0</td>\n",
       "      <td>0</td>\n",
       "      <td>0</td>\n",
       "      <td>1</td>\n",
       "      <td>Unisex</td>\n",
       "      <td>F</td>\n",
       "      <td>136</td>\n",
       "      <td>41</td>\n",
       "      <td>9</td>\n",
       "    </tr>\n",
       "    <tr>\n",
       "      <th>7995</th>\n",
       "      <td>4699.000000</td>\n",
       "      <td>0</td>\n",
       "      <td>0</td>\n",
       "      <td>0</td>\n",
       "      <td>0</td>\n",
       "      <td>1</td>\n",
       "      <td>Unisex</td>\n",
       "      <td>M</td>\n",
       "      <td>261</td>\n",
       "      <td>13</td>\n",
       "      <td>3</td>\n",
       "    </tr>\n",
       "    <tr>\n",
       "      <th>7996</th>\n",
       "      <td>107.670000</td>\n",
       "      <td>1</td>\n",
       "      <td>0</td>\n",
       "      <td>0</td>\n",
       "      <td>0</td>\n",
       "      <td>1</td>\n",
       "      <td>Unisex</td>\n",
       "      <td>F</td>\n",
       "      <td>118</td>\n",
       "      <td>26</td>\n",
       "      <td>4</td>\n",
       "    </tr>\n",
       "    <tr>\n",
       "      <th>7997</th>\n",
       "      <td>179.000000</td>\n",
       "      <td>0</td>\n",
       "      <td>0</td>\n",
       "      <td>0</td>\n",
       "      <td>0</td>\n",
       "      <td>1</td>\n",
       "      <td>Unisex</td>\n",
       "      <td>F</td>\n",
       "      <td>368</td>\n",
       "      <td>29</td>\n",
       "      <td>4</td>\n",
       "    </tr>\n",
       "  </tbody>\n",
       "</table>\n",
       "<p>5616 rows × 11 columns</p>\n",
       "</div>"
      ],
      "text/plain": [
       "           sellingprice  basket  favorite  order  search  visit  \\\n",
       "unique_id                                                         \n",
       "1            166.306861     218       184      6    1342   1490   \n",
       "2            154.142955      52      1784      4    1834   1562   \n",
       "3            271.316497     128         0     44     864    540   \n",
       "4            289.891374    1800       780    336   12756  17268   \n",
       "5            137.397251    1025         5     50    2990  16505   \n",
       "...                 ...     ...       ...    ...     ...    ...   \n",
       "7991         925.000000       0         0      1       0      0   \n",
       "7992          87.000000       0         0      0       0      1   \n",
       "7995        4699.000000       0         0      0       0      1   \n",
       "7996         107.670000       1         0      0       0      1   \n",
       "7997         179.000000       0         0      0       0      1   \n",
       "\n",
       "          product_gender gender  Level3_Category_Name  Level2_Category_Name  \\\n",
       "unique_id                                                                     \n",
       "1                 Unisex      F                   165                    29   \n",
       "2                  Kadın      F                   368                    61   \n",
       "3                  Kadın      F                   124                    22   \n",
       "4                  Kadın      F                   187                    76   \n",
       "5                  Kadın      F                   115                    46   \n",
       "...                  ...    ...                   ...                   ...   \n",
       "7991              Unisex      F                    32                     7   \n",
       "7992              Unisex      F                   136                    41   \n",
       "7995              Unisex      M                   261                    13   \n",
       "7996              Unisex      F                   118                    26   \n",
       "7997              Unisex      F                   368                    29   \n",
       "\n",
       "           Level1_Category_Name  \n",
       "unique_id                        \n",
       "1                             4  \n",
       "2                             5  \n",
       "3                             5  \n",
       "4                             5  \n",
       "5                             6  \n",
       "...                         ...  \n",
       "7991                          9  \n",
       "7992                          9  \n",
       "7995                          3  \n",
       "7996                          4  \n",
       "7997                          4  \n",
       "\n",
       "[5616 rows x 11 columns]"
      ]
     },
     "execution_count": 299,
     "metadata": {},
     "output_type": "execute_result"
    }
   ],
   "source": [
    "X_train_last"
   ]
  },
  {
   "cell_type": "code",
   "execution_count": 300,
   "metadata": {},
   "outputs": [],
   "source": [
    "ohe = OneHotEncoder()"
   ]
  },
  {
   "cell_type": "code",
   "execution_count": 301,
   "metadata": {},
   "outputs": [],
   "source": [
    "encode_2 = pd.get_dummies(X_train_last[[\"product_gender\",\"gender\"]])"
   ]
  },
  {
   "cell_type": "code",
   "execution_count": 302,
   "metadata": {},
   "outputs": [],
   "source": [
    "encode_2.drop([\"product_gender_Unisex\",\"gender_M\"],axis=1,inplace=True)"
   ]
  },
  {
   "cell_type": "code",
   "execution_count": 303,
   "metadata": {},
   "outputs": [
    {
     "data": {
      "text/html": [
       "<div>\n",
       "<style scoped>\n",
       "    .dataframe tbody tr th:only-of-type {\n",
       "        vertical-align: middle;\n",
       "    }\n",
       "\n",
       "    .dataframe tbody tr th {\n",
       "        vertical-align: top;\n",
       "    }\n",
       "\n",
       "    .dataframe thead th {\n",
       "        text-align: right;\n",
       "    }\n",
       "</style>\n",
       "<table border=\"1\" class=\"dataframe\">\n",
       "  <thead>\n",
       "    <tr style=\"text-align: right;\">\n",
       "      <th></th>\n",
       "      <th>product_gender_Erkek</th>\n",
       "      <th>product_gender_Kadın</th>\n",
       "      <th>gender_F</th>\n",
       "    </tr>\n",
       "    <tr>\n",
       "      <th>unique_id</th>\n",
       "      <th></th>\n",
       "      <th></th>\n",
       "      <th></th>\n",
       "    </tr>\n",
       "  </thead>\n",
       "  <tbody>\n",
       "    <tr>\n",
       "      <th>1</th>\n",
       "      <td>0</td>\n",
       "      <td>0</td>\n",
       "      <td>1</td>\n",
       "    </tr>\n",
       "    <tr>\n",
       "      <th>2</th>\n",
       "      <td>0</td>\n",
       "      <td>1</td>\n",
       "      <td>1</td>\n",
       "    </tr>\n",
       "    <tr>\n",
       "      <th>3</th>\n",
       "      <td>0</td>\n",
       "      <td>1</td>\n",
       "      <td>1</td>\n",
       "    </tr>\n",
       "    <tr>\n",
       "      <th>4</th>\n",
       "      <td>0</td>\n",
       "      <td>1</td>\n",
       "      <td>1</td>\n",
       "    </tr>\n",
       "    <tr>\n",
       "      <th>5</th>\n",
       "      <td>0</td>\n",
       "      <td>1</td>\n",
       "      <td>1</td>\n",
       "    </tr>\n",
       "    <tr>\n",
       "      <th>...</th>\n",
       "      <td>...</td>\n",
       "      <td>...</td>\n",
       "      <td>...</td>\n",
       "    </tr>\n",
       "    <tr>\n",
       "      <th>7991</th>\n",
       "      <td>0</td>\n",
       "      <td>0</td>\n",
       "      <td>1</td>\n",
       "    </tr>\n",
       "    <tr>\n",
       "      <th>7992</th>\n",
       "      <td>0</td>\n",
       "      <td>0</td>\n",
       "      <td>1</td>\n",
       "    </tr>\n",
       "    <tr>\n",
       "      <th>7995</th>\n",
       "      <td>0</td>\n",
       "      <td>0</td>\n",
       "      <td>0</td>\n",
       "    </tr>\n",
       "    <tr>\n",
       "      <th>7996</th>\n",
       "      <td>0</td>\n",
       "      <td>0</td>\n",
       "      <td>1</td>\n",
       "    </tr>\n",
       "    <tr>\n",
       "      <th>7997</th>\n",
       "      <td>0</td>\n",
       "      <td>0</td>\n",
       "      <td>1</td>\n",
       "    </tr>\n",
       "  </tbody>\n",
       "</table>\n",
       "<p>5616 rows × 3 columns</p>\n",
       "</div>"
      ],
      "text/plain": [
       "           product_gender_Erkek  product_gender_Kadın  gender_F\n",
       "unique_id                                                      \n",
       "1                             0                     0         1\n",
       "2                             0                     1         1\n",
       "3                             0                     1         1\n",
       "4                             0                     1         1\n",
       "5                             0                     1         1\n",
       "...                         ...                   ...       ...\n",
       "7991                          0                     0         1\n",
       "7992                          0                     0         1\n",
       "7995                          0                     0         0\n",
       "7996                          0                     0         1\n",
       "7997                          0                     0         1\n",
       "\n",
       "[5616 rows x 3 columns]"
      ]
     },
     "execution_count": 303,
     "metadata": {},
     "output_type": "execute_result"
    }
   ],
   "source": [
    "encode_2"
   ]
  },
  {
   "cell_type": "code",
   "execution_count": 304,
   "metadata": {},
   "outputs": [],
   "source": [
    "X_train_last.drop([\"product_gender\",\"gender\"],axis=1,inplace=True)"
   ]
  },
  {
   "cell_type": "code",
   "execution_count": 305,
   "metadata": {},
   "outputs": [],
   "source": [
    "X_train_last = pd.concat([X_train_last,encode_2],axis=1)"
   ]
  },
  {
   "cell_type": "code",
   "execution_count": 306,
   "metadata": {},
   "outputs": [],
   "source": [
    "y_train_last = X_train_last[\"gender_F\"]"
   ]
  },
  {
   "cell_type": "code",
   "execution_count": 307,
   "metadata": {},
   "outputs": [],
   "source": [
    "encode = X_test_last[[\"Level3_Category_Name\",\"Level2_Category_Name\",\"Level1_Category_Name\"]]"
   ]
  },
  {
   "cell_type": "code",
   "execution_count": 308,
   "metadata": {},
   "outputs": [
    {
     "name": "stderr",
     "output_type": "stream",
     "text": [
      "C:\\Users\\mertg\\Anaconda3\\lib\\site-packages\\pandas\\core\\indexing.py:670: SettingWithCopyWarning: \n",
      "A value is trying to be set on a copy of a slice from a DataFrame\n",
      "\n",
      "See the caveats in the documentation: https://pandas.pydata.org/pandas-docs/stable/user_guide/indexing.html#returning-a-view-versus-a-copy\n",
      "  iloc._setitem_with_indexer(indexer, value)\n",
      "C:\\Users\\mertg\\Anaconda3\\lib\\site-packages\\ipykernel_launcher.py:1: SettingWithCopyWarning: \n",
      "A value is trying to be set on a copy of a slice from a DataFrame\n",
      "\n",
      "See the caveats in the documentation: https://pandas.pydata.org/pandas-docs/stable/user_guide/indexing.html#returning-a-view-versus-a-copy\n",
      "  \"\"\"Entry point for launching an IPython kernel.\n"
     ]
    }
   ],
   "source": [
    "encode.loc[encode[\"Level3_Category_Name\"]==0] = str(encode.loc[encode[\"Level3_Category_Name\"]==0])"
   ]
  },
  {
   "cell_type": "code",
   "execution_count": 309,
   "metadata": {},
   "outputs": [],
   "source": [
    "encode = encode.apply(le.fit_transform)"
   ]
  },
  {
   "cell_type": "code",
   "execution_count": 310,
   "metadata": {},
   "outputs": [],
   "source": [
    "X_test_last.drop([\"Level3_Category_Name\",\"Level2_Category_Name\",\"Level1_Category_Name\"],axis=1,inplace=True)"
   ]
  },
  {
   "cell_type": "code",
   "execution_count": 311,
   "metadata": {},
   "outputs": [],
   "source": [
    "X_test_last = pd.concat([X_test_last,encode],axis=1)"
   ]
  },
  {
   "cell_type": "code",
   "execution_count": 312,
   "metadata": {},
   "outputs": [],
   "source": [
    "encode_2 = pd.get_dummies(X_test_last[[\"product_gender\"]])"
   ]
  },
  {
   "cell_type": "code",
   "execution_count": 313,
   "metadata": {},
   "outputs": [],
   "source": [
    "encode_2.drop([\"product_gender_Unisex\"],axis=1,inplace=True)"
   ]
  },
  {
   "cell_type": "code",
   "execution_count": 314,
   "metadata": {},
   "outputs": [],
   "source": [
    "X_test_last.drop([\"product_gender\"],axis=1,inplace=True)"
   ]
  },
  {
   "cell_type": "code",
   "execution_count": 315,
   "metadata": {},
   "outputs": [],
   "source": [
    "X_test_last = pd.concat([X_test_last,encode_2],axis=1)"
   ]
  },
  {
   "cell_type": "code",
   "execution_count": 316,
   "metadata": {},
   "outputs": [],
   "source": [
    "y_test_last = X_train_last[\"gender_F\"]"
   ]
  },
  {
   "cell_type": "code",
   "execution_count": 320,
   "metadata": {},
   "outputs": [],
   "source": [
    "X_train_last.to_excel(\"X_train_18012022.xlsx\")\n",
    "X_test_last.to_excel(\"X_test_18012022.xlsx\")"
   ]
  },
  {
   "cell_type": "code",
   "execution_count": 158,
   "metadata": {},
   "outputs": [],
   "source": [
    "X_train_last = X_train_last.loc[:, ~X_train_last.columns.str.contains('^Unnamed')]\n",
    "X_test_last = X_test_last.loc[:, ~X_test_last.columns.str.contains('^Unnamed')]"
   ]
  },
  {
   "cell_type": "code",
   "execution_count": 141,
   "metadata": {},
   "outputs": [
    {
     "name": "stderr",
     "output_type": "stream",
     "text": [
      "C:\\Users\\mertg\\Anaconda3\\lib\\site-packages\\pandas\\core\\frame.py:4174: SettingWithCopyWarning: \n",
      "A value is trying to be set on a copy of a slice from a DataFrame\n",
      "\n",
      "See the caveats in the documentation: https://pandas.pydata.org/pandas-docs/stable/user_guide/indexing.html#returning-a-view-versus-a-copy\n",
      "  errors=errors,\n"
     ]
    }
   ],
   "source": [
    "X_train_last.drop([\"product_gender_Kadın\"],axis=1,inplace=True)"
   ]
  },
  {
   "cell_type": "code",
   "execution_count": 142,
   "metadata": {},
   "outputs": [],
   "source": [
    "X_test_last.drop([\"product_gender_Kadın\"],axis=1,inplace=True)"
   ]
  },
  {
   "cell_type": "code",
   "execution_count": 189,
   "metadata": {},
   "outputs": [
    {
     "data": {
      "text/html": [
       "<div>\n",
       "<style scoped>\n",
       "    .dataframe tbody tr th:only-of-type {\n",
       "        vertical-align: middle;\n",
       "    }\n",
       "\n",
       "    .dataframe tbody tr th {\n",
       "        vertical-align: top;\n",
       "    }\n",
       "\n",
       "    .dataframe thead th {\n",
       "        text-align: right;\n",
       "    }\n",
       "</style>\n",
       "<table border=\"1\" class=\"dataframe\">\n",
       "  <thead>\n",
       "    <tr style=\"text-align: right;\">\n",
       "      <th></th>\n",
       "      <th>sellingprice</th>\n",
       "      <th>basket</th>\n",
       "      <th>favorite</th>\n",
       "      <th>order</th>\n",
       "      <th>search</th>\n",
       "      <th>visit</th>\n",
       "      <th>Level3_Category_Name</th>\n",
       "      <th>Level2_Category_Name</th>\n",
       "      <th>Level1_Category_Name</th>\n",
       "      <th>product_gender_Erkek</th>\n",
       "    </tr>\n",
       "  </thead>\n",
       "  <tbody>\n",
       "    <tr>\n",
       "      <th>1.0</th>\n",
       "      <td>166.306861</td>\n",
       "      <td>218.0</td>\n",
       "      <td>184.0</td>\n",
       "      <td>6.0</td>\n",
       "      <td>1342.0</td>\n",
       "      <td>1490.0</td>\n",
       "      <td>165.0</td>\n",
       "      <td>29.0</td>\n",
       "      <td>4.0</td>\n",
       "      <td>0.0</td>\n",
       "    </tr>\n",
       "    <tr>\n",
       "      <th>3.0</th>\n",
       "      <td>271.316497</td>\n",
       "      <td>128.0</td>\n",
       "      <td>0.0</td>\n",
       "      <td>44.0</td>\n",
       "      <td>864.0</td>\n",
       "      <td>540.0</td>\n",
       "      <td>124.0</td>\n",
       "      <td>22.0</td>\n",
       "      <td>5.0</td>\n",
       "      <td>0.0</td>\n",
       "    </tr>\n",
       "    <tr>\n",
       "      <th>7.0</th>\n",
       "      <td>113.984134</td>\n",
       "      <td>14.0</td>\n",
       "      <td>232.0</td>\n",
       "      <td>0.0</td>\n",
       "      <td>295.0</td>\n",
       "      <td>411.0</td>\n",
       "      <td>213.0</td>\n",
       "      <td>65.0</td>\n",
       "      <td>5.0</td>\n",
       "      <td>0.0</td>\n",
       "    </tr>\n",
       "    <tr>\n",
       "      <th>11.0</th>\n",
       "      <td>593.560871</td>\n",
       "      <td>130.0</td>\n",
       "      <td>61.0</td>\n",
       "      <td>4.0</td>\n",
       "      <td>470.0</td>\n",
       "      <td>1097.0</td>\n",
       "      <td>227.0</td>\n",
       "      <td>60.0</td>\n",
       "      <td>6.0</td>\n",
       "      <td>0.0</td>\n",
       "    </tr>\n",
       "    <tr>\n",
       "      <th>26.0</th>\n",
       "      <td>81.968491</td>\n",
       "      <td>38.0</td>\n",
       "      <td>0.0</td>\n",
       "      <td>0.0</td>\n",
       "      <td>183.0</td>\n",
       "      <td>176.0</td>\n",
       "      <td>157.0</td>\n",
       "      <td>76.0</td>\n",
       "      <td>5.0</td>\n",
       "      <td>0.0</td>\n",
       "    </tr>\n",
       "    <tr>\n",
       "      <th>...</th>\n",
       "      <td>...</td>\n",
       "      <td>...</td>\n",
       "      <td>...</td>\n",
       "      <td>...</td>\n",
       "      <td>...</td>\n",
       "      <td>...</td>\n",
       "      <td>...</td>\n",
       "      <td>...</td>\n",
       "      <td>...</td>\n",
       "      <td>...</td>\n",
       "    </tr>\n",
       "    <tr>\n",
       "      <th>7989.0</th>\n",
       "      <td>79.000000</td>\n",
       "      <td>0.0</td>\n",
       "      <td>1.0</td>\n",
       "      <td>0.0</td>\n",
       "      <td>0.0</td>\n",
       "      <td>0.0</td>\n",
       "      <td>302.0</td>\n",
       "      <td>62.0</td>\n",
       "      <td>2.0</td>\n",
       "      <td>0.0</td>\n",
       "    </tr>\n",
       "    <tr>\n",
       "      <th>7991.0</th>\n",
       "      <td>925.000000</td>\n",
       "      <td>0.0</td>\n",
       "      <td>0.0</td>\n",
       "      <td>1.0</td>\n",
       "      <td>0.0</td>\n",
       "      <td>0.0</td>\n",
       "      <td>32.0</td>\n",
       "      <td>7.0</td>\n",
       "      <td>9.0</td>\n",
       "      <td>0.0</td>\n",
       "    </tr>\n",
       "    <tr>\n",
       "      <th>7992.0</th>\n",
       "      <td>87.000000</td>\n",
       "      <td>0.0</td>\n",
       "      <td>0.0</td>\n",
       "      <td>0.0</td>\n",
       "      <td>0.0</td>\n",
       "      <td>1.0</td>\n",
       "      <td>136.0</td>\n",
       "      <td>41.0</td>\n",
       "      <td>9.0</td>\n",
       "      <td>0.0</td>\n",
       "    </tr>\n",
       "    <tr>\n",
       "      <th>7996.0</th>\n",
       "      <td>107.670000</td>\n",
       "      <td>1.0</td>\n",
       "      <td>0.0</td>\n",
       "      <td>0.0</td>\n",
       "      <td>0.0</td>\n",
       "      <td>1.0</td>\n",
       "      <td>118.0</td>\n",
       "      <td>26.0</td>\n",
       "      <td>4.0</td>\n",
       "      <td>0.0</td>\n",
       "    </tr>\n",
       "    <tr>\n",
       "      <th>7997.0</th>\n",
       "      <td>179.000000</td>\n",
       "      <td>0.0</td>\n",
       "      <td>0.0</td>\n",
       "      <td>0.0</td>\n",
       "      <td>0.0</td>\n",
       "      <td>1.0</td>\n",
       "      <td>368.0</td>\n",
       "      <td>29.0</td>\n",
       "      <td>4.0</td>\n",
       "      <td>0.0</td>\n",
       "    </tr>\n",
       "  </tbody>\n",
       "</table>\n",
       "<p>5019 rows × 10 columns</p>\n",
       "</div>"
      ],
      "text/plain": [
       "        sellingprice  basket  favorite  order  search   visit  \\\n",
       "1.0       166.306861   218.0     184.0    6.0  1342.0  1490.0   \n",
       "3.0       271.316497   128.0       0.0   44.0   864.0   540.0   \n",
       "7.0       113.984134    14.0     232.0    0.0   295.0   411.0   \n",
       "11.0      593.560871   130.0      61.0    4.0   470.0  1097.0   \n",
       "26.0       81.968491    38.0       0.0    0.0   183.0   176.0   \n",
       "...              ...     ...       ...    ...     ...     ...   \n",
       "7989.0     79.000000     0.0       1.0    0.0     0.0     0.0   \n",
       "7991.0    925.000000     0.0       0.0    1.0     0.0     0.0   \n",
       "7992.0     87.000000     0.0       0.0    0.0     0.0     1.0   \n",
       "7996.0    107.670000     1.0       0.0    0.0     0.0     1.0   \n",
       "7997.0    179.000000     0.0       0.0    0.0     0.0     1.0   \n",
       "\n",
       "        Level3_Category_Name  Level2_Category_Name  Level1_Category_Name  \\\n",
       "1.0                    165.0                  29.0                   4.0   \n",
       "3.0                    124.0                  22.0                   5.0   \n",
       "7.0                    213.0                  65.0                   5.0   \n",
       "11.0                   227.0                  60.0                   6.0   \n",
       "26.0                   157.0                  76.0                   5.0   \n",
       "...                      ...                   ...                   ...   \n",
       "7989.0                 302.0                  62.0                   2.0   \n",
       "7991.0                  32.0                   7.0                   9.0   \n",
       "7992.0                 136.0                  41.0                   9.0   \n",
       "7996.0                 118.0                  26.0                   4.0   \n",
       "7997.0                 368.0                  29.0                   4.0   \n",
       "\n",
       "        product_gender_Erkek  \n",
       "1.0                      0.0  \n",
       "3.0                      0.0  \n",
       "7.0                      0.0  \n",
       "11.0                     0.0  \n",
       "26.0                     0.0  \n",
       "...                      ...  \n",
       "7989.0                   0.0  \n",
       "7991.0                   0.0  \n",
       "7992.0                   0.0  \n",
       "7996.0                   0.0  \n",
       "7997.0                   0.0  \n",
       "\n",
       "[5019 rows x 10 columns]"
      ]
     },
     "execution_count": 189,
     "metadata": {},
     "output_type": "execute_result"
    }
   ],
   "source": [
    "X_train_last"
   ]
  },
  {
   "cell_type": "code",
   "execution_count": 191,
   "metadata": {},
   "outputs": [],
   "source": [
    "y_train_last = pd.DataFrame(y_train_last)"
   ]
  },
  {
   "cell_type": "code",
   "execution_count": 192,
   "metadata": {},
   "outputs": [],
   "source": [
    "y_train_last = y_train_last.set_index(X_train_last.index)"
   ]
  },
  {
   "cell_type": "code",
   "execution_count": 172,
   "metadata": {},
   "outputs": [],
   "source": [
    "X_test_last = X_test_last.set_index(\"unique_id\")\n",
    "X_train_last = X_train_last.set_index(\"unique_id\")"
   ]
  },
  {
   "cell_type": "code",
   "execution_count": 8,
   "metadata": {},
   "outputs": [],
   "source": [
    "X_train_last = pd.read_excel(\"X_train_18012022.xlsx\")\n",
    "X_test_last = pd.read_excel(\"X_test_18012022.xlsx\")"
   ]
  },
  {
   "cell_type": "code",
   "execution_count": 150,
   "metadata": {},
   "outputs": [],
   "source": [
    "y_train_last.to_excel(\"y_train.xlsx\")"
   ]
  },
  {
   "cell_type": "code",
   "execution_count": 10,
   "metadata": {},
   "outputs": [],
   "source": [
    "X_train_last.drop([\"gender_F\"],axis=1,inplace=True)"
   ]
  },
  {
   "cell_type": "code",
   "execution_count": 188,
   "metadata": {},
   "outputs": [],
   "source": [
    "X_train_last = X_train_last.dropna()"
   ]
  },
  {
   "cell_type": "code",
   "execution_count": 194,
   "metadata": {},
   "outputs": [],
   "source": [
    "X_train_last = pd.concat([X_train_last,y_train_last],axis=1)"
   ]
  },
  {
   "cell_type": "code",
   "execution_count": 174,
   "metadata": {},
   "outputs": [],
   "source": [
    "from sklearn.ensemble import IsolationForest"
   ]
  },
  {
   "cell_type": "markdown",
   "metadata": {},
   "source": [
    "## OUTLIER DETECTION"
   ]
  },
  {
   "cell_type": "code",
   "execution_count": 323,
   "metadata": {},
   "outputs": [
    {
     "name": "stderr",
     "output_type": "stream",
     "text": [
      "C:\\Users\\mertg\\Anaconda3\\lib\\site-packages\\pandas\\core\\frame.py:4174: SettingWithCopyWarning: \n",
      "A value is trying to be set on a copy of a slice from a DataFrame\n",
      "\n",
      "See the caveats in the documentation: https://pandas.pydata.org/pandas-docs/stable/user_guide/indexing.html#returning-a-view-versus-a-copy\n",
      "  errors=errors,\n"
     ]
    }
   ],
   "source": [
    "iso = IsolationForest()\n",
    "X_train_last[\"Anomaly\"] = iso.fit_predict(X_train_last)\n",
    "X_train_last = X_train_last.loc[X_train_last[\"Anomaly\"]==1]\n",
    "X_train_last.drop([\"Anomaly\"],axis=1,inplace=True)"
   ]
  },
  {
   "cell_type": "code",
   "execution_count": 9,
   "metadata": {},
   "outputs": [],
   "source": [
    "y_train_last = X_train_last[\"gender_F\"]"
   ]
  },
  {
   "cell_type": "code",
   "execution_count": 11,
   "metadata": {},
   "outputs": [],
   "source": [
    "X_train_last2 = X_train_last[:1000]\n",
    "X_train_last3 = X_train_last[1000:]\n",
    "y_train_last2 = y_train_last[:1000]\n",
    "y_train_last3 = y_train_last[1000:]"
   ]
  },
  {
   "cell_type": "code",
   "execution_count": 501,
   "metadata": {},
   "outputs": [],
   "source": [
    "X_train_last3,X_train_last2,y_train_last3,y_train_last2 = train_test_split(X_train_last,y_train_last,test_size=0.3,random_state=42,stratify=y_train_last)"
   ]
  },
  {
   "cell_type": "code",
   "execution_count": 362,
   "metadata": {
    "scrolled": true
   },
   "outputs": [
    {
     "ename": "KeyError",
     "evalue": "\"['gender_F'] not found in axis\"",
     "output_type": "error",
     "traceback": [
      "\u001b[1;31m---------------------------------------------------------------------------\u001b[0m",
      "\u001b[1;31mKeyError\u001b[0m                                  Traceback (most recent call last)",
      "\u001b[1;32m<ipython-input-362-71676095fbf6>\u001b[0m in \u001b[0;36m<module>\u001b[1;34m\u001b[0m\n\u001b[1;32m----> 1\u001b[1;33m \u001b[0mX_train_last\u001b[0m\u001b[1;33m.\u001b[0m\u001b[0mdrop\u001b[0m\u001b[1;33m(\u001b[0m\u001b[1;33m[\u001b[0m\u001b[1;34m\"gender_F\"\u001b[0m\u001b[1;33m]\u001b[0m\u001b[1;33m,\u001b[0m\u001b[0maxis\u001b[0m\u001b[1;33m=\u001b[0m\u001b[1;36m1\u001b[0m\u001b[1;33m,\u001b[0m\u001b[0minplace\u001b[0m\u001b[1;33m=\u001b[0m\u001b[1;32mTrue\u001b[0m\u001b[1;33m)\u001b[0m\u001b[1;33m\u001b[0m\u001b[1;33m\u001b[0m\u001b[0m\n\u001b[0m",
      "\u001b[1;32m~\\Anaconda3\\lib\\site-packages\\pandas\\core\\frame.py\u001b[0m in \u001b[0;36mdrop\u001b[1;34m(self, labels, axis, index, columns, level, inplace, errors)\u001b[0m\n\u001b[0;32m   4172\u001b[0m             \u001b[0mlevel\u001b[0m\u001b[1;33m=\u001b[0m\u001b[0mlevel\u001b[0m\u001b[1;33m,\u001b[0m\u001b[1;33m\u001b[0m\u001b[1;33m\u001b[0m\u001b[0m\n\u001b[0;32m   4173\u001b[0m             \u001b[0minplace\u001b[0m\u001b[1;33m=\u001b[0m\u001b[0minplace\u001b[0m\u001b[1;33m,\u001b[0m\u001b[1;33m\u001b[0m\u001b[1;33m\u001b[0m\u001b[0m\n\u001b[1;32m-> 4174\u001b[1;33m             \u001b[0merrors\u001b[0m\u001b[1;33m=\u001b[0m\u001b[0merrors\u001b[0m\u001b[1;33m,\u001b[0m\u001b[1;33m\u001b[0m\u001b[1;33m\u001b[0m\u001b[0m\n\u001b[0m\u001b[0;32m   4175\u001b[0m         )\n\u001b[0;32m   4176\u001b[0m \u001b[1;33m\u001b[0m\u001b[0m\n",
      "\u001b[1;32m~\\Anaconda3\\lib\\site-packages\\pandas\\core\\generic.py\u001b[0m in \u001b[0;36mdrop\u001b[1;34m(self, labels, axis, index, columns, level, inplace, errors)\u001b[0m\n\u001b[0;32m   3887\u001b[0m         \u001b[1;32mfor\u001b[0m \u001b[0maxis\u001b[0m\u001b[1;33m,\u001b[0m \u001b[0mlabels\u001b[0m \u001b[1;32min\u001b[0m \u001b[0maxes\u001b[0m\u001b[1;33m.\u001b[0m\u001b[0mitems\u001b[0m\u001b[1;33m(\u001b[0m\u001b[1;33m)\u001b[0m\u001b[1;33m:\u001b[0m\u001b[1;33m\u001b[0m\u001b[1;33m\u001b[0m\u001b[0m\n\u001b[0;32m   3888\u001b[0m             \u001b[1;32mif\u001b[0m \u001b[0mlabels\u001b[0m \u001b[1;32mis\u001b[0m \u001b[1;32mnot\u001b[0m \u001b[1;32mNone\u001b[0m\u001b[1;33m:\u001b[0m\u001b[1;33m\u001b[0m\u001b[1;33m\u001b[0m\u001b[0m\n\u001b[1;32m-> 3889\u001b[1;33m                 \u001b[0mobj\u001b[0m \u001b[1;33m=\u001b[0m \u001b[0mobj\u001b[0m\u001b[1;33m.\u001b[0m\u001b[0m_drop_axis\u001b[0m\u001b[1;33m(\u001b[0m\u001b[0mlabels\u001b[0m\u001b[1;33m,\u001b[0m \u001b[0maxis\u001b[0m\u001b[1;33m,\u001b[0m \u001b[0mlevel\u001b[0m\u001b[1;33m=\u001b[0m\u001b[0mlevel\u001b[0m\u001b[1;33m,\u001b[0m \u001b[0merrors\u001b[0m\u001b[1;33m=\u001b[0m\u001b[0merrors\u001b[0m\u001b[1;33m)\u001b[0m\u001b[1;33m\u001b[0m\u001b[1;33m\u001b[0m\u001b[0m\n\u001b[0m\u001b[0;32m   3890\u001b[0m \u001b[1;33m\u001b[0m\u001b[0m\n\u001b[0;32m   3891\u001b[0m         \u001b[1;32mif\u001b[0m \u001b[0minplace\u001b[0m\u001b[1;33m:\u001b[0m\u001b[1;33m\u001b[0m\u001b[1;33m\u001b[0m\u001b[0m\n",
      "\u001b[1;32m~\\Anaconda3\\lib\\site-packages\\pandas\\core\\generic.py\u001b[0m in \u001b[0;36m_drop_axis\u001b[1;34m(self, labels, axis, level, errors)\u001b[0m\n\u001b[0;32m   3921\u001b[0m                 \u001b[0mnew_axis\u001b[0m \u001b[1;33m=\u001b[0m \u001b[0maxis\u001b[0m\u001b[1;33m.\u001b[0m\u001b[0mdrop\u001b[0m\u001b[1;33m(\u001b[0m\u001b[0mlabels\u001b[0m\u001b[1;33m,\u001b[0m \u001b[0mlevel\u001b[0m\u001b[1;33m=\u001b[0m\u001b[0mlevel\u001b[0m\u001b[1;33m,\u001b[0m \u001b[0merrors\u001b[0m\u001b[1;33m=\u001b[0m\u001b[0merrors\u001b[0m\u001b[1;33m)\u001b[0m\u001b[1;33m\u001b[0m\u001b[1;33m\u001b[0m\u001b[0m\n\u001b[0;32m   3922\u001b[0m             \u001b[1;32melse\u001b[0m\u001b[1;33m:\u001b[0m\u001b[1;33m\u001b[0m\u001b[1;33m\u001b[0m\u001b[0m\n\u001b[1;32m-> 3923\u001b[1;33m                 \u001b[0mnew_axis\u001b[0m \u001b[1;33m=\u001b[0m \u001b[0maxis\u001b[0m\u001b[1;33m.\u001b[0m\u001b[0mdrop\u001b[0m\u001b[1;33m(\u001b[0m\u001b[0mlabels\u001b[0m\u001b[1;33m,\u001b[0m \u001b[0merrors\u001b[0m\u001b[1;33m=\u001b[0m\u001b[0merrors\u001b[0m\u001b[1;33m)\u001b[0m\u001b[1;33m\u001b[0m\u001b[1;33m\u001b[0m\u001b[0m\n\u001b[0m\u001b[0;32m   3924\u001b[0m             \u001b[0mresult\u001b[0m \u001b[1;33m=\u001b[0m \u001b[0mself\u001b[0m\u001b[1;33m.\u001b[0m\u001b[0mreindex\u001b[0m\u001b[1;33m(\u001b[0m\u001b[1;33m**\u001b[0m\u001b[1;33m{\u001b[0m\u001b[0maxis_name\u001b[0m\u001b[1;33m:\u001b[0m \u001b[0mnew_axis\u001b[0m\u001b[1;33m}\u001b[0m\u001b[1;33m)\u001b[0m\u001b[1;33m\u001b[0m\u001b[1;33m\u001b[0m\u001b[0m\n\u001b[0;32m   3925\u001b[0m \u001b[1;33m\u001b[0m\u001b[0m\n",
      "\u001b[1;32m~\\Anaconda3\\lib\\site-packages\\pandas\\core\\indexes\\base.py\u001b[0m in \u001b[0;36mdrop\u001b[1;34m(self, labels, errors)\u001b[0m\n\u001b[0;32m   5285\u001b[0m         \u001b[1;32mif\u001b[0m \u001b[0mmask\u001b[0m\u001b[1;33m.\u001b[0m\u001b[0many\u001b[0m\u001b[1;33m(\u001b[0m\u001b[1;33m)\u001b[0m\u001b[1;33m:\u001b[0m\u001b[1;33m\u001b[0m\u001b[1;33m\u001b[0m\u001b[0m\n\u001b[0;32m   5286\u001b[0m             \u001b[1;32mif\u001b[0m \u001b[0merrors\u001b[0m \u001b[1;33m!=\u001b[0m \u001b[1;34m\"ignore\"\u001b[0m\u001b[1;33m:\u001b[0m\u001b[1;33m\u001b[0m\u001b[1;33m\u001b[0m\u001b[0m\n\u001b[1;32m-> 5287\u001b[1;33m                 \u001b[1;32mraise\u001b[0m \u001b[0mKeyError\u001b[0m\u001b[1;33m(\u001b[0m\u001b[1;34mf\"{labels[mask]} not found in axis\"\u001b[0m\u001b[1;33m)\u001b[0m\u001b[1;33m\u001b[0m\u001b[1;33m\u001b[0m\u001b[0m\n\u001b[0m\u001b[0;32m   5288\u001b[0m             \u001b[0mindexer\u001b[0m \u001b[1;33m=\u001b[0m \u001b[0mindexer\u001b[0m\u001b[1;33m[\u001b[0m\u001b[1;33m~\u001b[0m\u001b[0mmask\u001b[0m\u001b[1;33m]\u001b[0m\u001b[1;33m\u001b[0m\u001b[1;33m\u001b[0m\u001b[0m\n\u001b[0;32m   5289\u001b[0m         \u001b[1;32mreturn\u001b[0m \u001b[0mself\u001b[0m\u001b[1;33m.\u001b[0m\u001b[0mdelete\u001b[0m\u001b[1;33m(\u001b[0m\u001b[0mindexer\u001b[0m\u001b[1;33m)\u001b[0m\u001b[1;33m\u001b[0m\u001b[1;33m\u001b[0m\u001b[0m\n",
      "\u001b[1;31mKeyError\u001b[0m: \"['gender_F'] not found in axis\""
     ]
    }
   ],
   "source": [
    "X_train_last.drop([\"gender_F\"],axis=1,inplace=True)"
   ]
  },
  {
   "cell_type": "markdown",
   "metadata": {},
   "source": [
    "## LOGISTIC REGRESSION"
   ]
  },
  {
   "cell_type": "code",
   "execution_count": 462,
   "metadata": {},
   "outputs": [
    {
     "data": {
      "text/plain": [
       "0.834"
      ]
     },
     "execution_count": 462,
     "metadata": {},
     "output_type": "execute_result"
    }
   ],
   "source": [
    "lr = LogisticRegression(max_iter=50000,random_state=42)\n",
    "lr.fit(X_train_last3,y_train_last3)\n",
    "predictions = lr.predict(X_train_last2)\n",
    "accuracy_score(y_train_last2,predictions)"
   ]
  },
  {
   "cell_type": "code",
   "execution_count": 463,
   "metadata": {},
   "outputs": [
    {
     "data": {
      "text/plain": [
       "gender_F\n",
       "0    1937\n",
       "1    3679\n",
       "Name: gender_F, dtype: int64"
      ]
     },
     "execution_count": 463,
     "metadata": {},
     "output_type": "execute_result"
    }
   ],
   "source": [
    "y_train_last.groupby(by=y_train_last).count()"
   ]
  },
  {
   "cell_type": "code",
   "execution_count": 464,
   "metadata": {},
   "outputs": [],
   "source": [
    "preds = np.where(lr.predict_proba(X_train_last2)[:,1] > 0.6, 1, 0)"
   ]
  },
  {
   "cell_type": "code",
   "execution_count": 465,
   "metadata": {},
   "outputs": [
    {
     "data": {
      "text/plain": [
       "0.824"
      ]
     },
     "execution_count": 465,
     "metadata": {},
     "output_type": "execute_result"
    }
   ],
   "source": [
    "accuracy_score(y_train_last2,preds)"
   ]
  },
  {
   "cell_type": "code",
   "execution_count": 466,
   "metadata": {
    "scrolled": true
   },
   "outputs": [
    {
     "data": {
      "text/plain": [
       "0.8006993006993007"
      ]
     },
     "execution_count": 466,
     "metadata": {},
     "output_type": "execute_result"
    }
   ],
   "source": [
    "roc_auc_score(y_train_last2,preds)"
   ]
  },
  {
   "cell_type": "code",
   "execution_count": 467,
   "metadata": {},
   "outputs": [
    {
     "data": {
      "text/plain": [
       "0.8006993006993006"
      ]
     },
     "execution_count": 467,
     "metadata": {},
     "output_type": "execute_result"
    }
   ],
   "source": [
    "balanced_accuracy_score(y_train_last2,preds)"
   ]
  },
  {
   "cell_type": "markdown",
   "metadata": {},
   "source": [
    "## RANDOM FORESTS"
   ]
  },
  {
   "cell_type": "code",
   "execution_count": 12,
   "metadata": {},
   "outputs": [
    {
     "name": "stdout",
     "output_type": "stream",
     "text": [
      "Fitting 5 folds for each of 9 candidates, totalling 45 fits\n",
      "{'max_features': 3, 'n_estimators': 200}\n"
     ]
    }
   ],
   "source": [
    "n_estimators = [50,100,200]\n",
    "max_features = [3,4,5]\n",
    "params = {\n",
    " 'n_estimators': n_estimators,\n",
    " 'max_features': max_features,\n",
    " }\n",
    "rf=RandomForestClassifier(random_state=42)\n",
    "rf_grid = GridSearchCV(estimator = rf, param_grid = params, cv = 5, verbose=2, scoring='accuracy',n_jobs = -1)\n",
    "rf_grid.fit(X_train_last3, y_train_last3)\n",
    "print(rf_grid.best_params_)"
   ]
  },
  {
   "cell_type": "code",
   "execution_count": 13,
   "metadata": {},
   "outputs": [
    {
     "data": {
      "text/plain": [
       "0.872"
      ]
     },
     "execution_count": 13,
     "metadata": {},
     "output_type": "execute_result"
    }
   ],
   "source": [
    "rf = RandomForestClassifier(n_estimators=200,max_features=3,random_state=42)\n",
    "rf.fit(X_train_last3,y_train_last3)\n",
    "predictions = rf.predict(X_train_last2)\n",
    "preds = np.where(rf.predict_proba(X_train_last2)[:,1] > 0.6, 1, 0)\n",
    "accuracy_score(y_train_last2,predictions)"
   ]
  },
  {
   "cell_type": "code",
   "execution_count": 17,
   "metadata": {},
   "outputs": [
    {
     "name": "stdout",
     "output_type": "stream",
     "text": [
      "[[146  74]\n",
      " [ 54 726]]\n"
     ]
    }
   ],
   "source": [
    "from sklearn.metrics import confusion_matrix\n",
    "conf_mat = confusion_matrix(y_train_last2, predictions)\n",
    "print(conf_mat)"
   ]
  },
  {
   "cell_type": "code",
   "execution_count": 29,
   "metadata": {},
   "outputs": [
    {
     "data": {
      "text/plain": [
       "Text(0.5, 15.0, 'Predicted label')"
      ]
     },
     "execution_count": 29,
     "metadata": {},
     "output_type": "execute_result"
    },
    {
     "data": {
      "image/png": "[encoded data removed]",
      "text/plain": [
       "<Figure size 432x288 with 2 Axes>"
      ]
     },
     "metadata": {
      "needs_background": "light"
     },
     "output_type": "display_data"
    }
   ],
   "source": [
    "confusion = confusion_matrix(y_train_last2, predictions)\n",
    "confusion_normalized = confusion.astype('float') / confusion.sum(axis=1)[:, np.newaxis]\n",
    "sns.heatmap(confusion_normalized,annot=True)\n",
    "plt.ylabel('True label')\n",
    "plt.xlabel('Predicted label')"
   ]
  },
  {
   "cell_type": "code",
   "execution_count": 470,
   "metadata": {},
   "outputs": [
    {
     "data": {
      "text/plain": [
       "0.837"
      ]
     },
     "execution_count": 470,
     "metadata": {},
     "output_type": "execute_result"
    }
   ],
   "source": [
    "accuracy_score(y_train_last2,preds)"
   ]
  },
  {
   "cell_type": "code",
   "execution_count": 512,
   "metadata": {},
   "outputs": [],
   "source": [
    "pred_proba = model.predict_proba(X_test_last)"
   ]
  },
  {
   "cell_type": "code",
   "execution_count": 513,
   "metadata": {},
   "outputs": [
    {
     "data": {
      "text/html": [
       "<div>\n",
       "<style scoped>\n",
       "    .dataframe tbody tr th:only-of-type {\n",
       "        vertical-align: middle;\n",
       "    }\n",
       "\n",
       "    .dataframe tbody tr th {\n",
       "        vertical-align: top;\n",
       "    }\n",
       "\n",
       "    .dataframe thead th {\n",
       "        text-align: right;\n",
       "    }\n",
       "</style>\n",
       "<table border=\"1\" class=\"dataframe\">\n",
       "  <thead>\n",
       "    <tr style=\"text-align: right;\">\n",
       "      <th></th>\n",
       "      <th>0</th>\n",
       "      <th>1</th>\n",
       "    </tr>\n",
       "  </thead>\n",
       "  <tbody>\n",
       "    <tr>\n",
       "      <th>0</th>\n",
       "      <td>0.085994</td>\n",
       "      <td>0.914006</td>\n",
       "    </tr>\n",
       "    <tr>\n",
       "      <th>1</th>\n",
       "      <td>0.080374</td>\n",
       "      <td>0.919626</td>\n",
       "    </tr>\n",
       "    <tr>\n",
       "      <th>2</th>\n",
       "      <td>0.097447</td>\n",
       "      <td>0.902553</td>\n",
       "    </tr>\n",
       "    <tr>\n",
       "      <th>3</th>\n",
       "      <td>0.085994</td>\n",
       "      <td>0.914006</td>\n",
       "    </tr>\n",
       "    <tr>\n",
       "      <th>4</th>\n",
       "      <td>0.085994</td>\n",
       "      <td>0.914006</td>\n",
       "    </tr>\n",
       "    <tr>\n",
       "      <th>...</th>\n",
       "      <td>...</td>\n",
       "      <td>...</td>\n",
       "    </tr>\n",
       "    <tr>\n",
       "      <th>2375</th>\n",
       "      <td>0.372082</td>\n",
       "      <td>0.627918</td>\n",
       "    </tr>\n",
       "    <tr>\n",
       "      <th>2376</th>\n",
       "      <td>0.557422</td>\n",
       "      <td>0.442578</td>\n",
       "    </tr>\n",
       "    <tr>\n",
       "      <th>2377</th>\n",
       "      <td>0.469919</td>\n",
       "      <td>0.530081</td>\n",
       "    </tr>\n",
       "    <tr>\n",
       "      <th>2378</th>\n",
       "      <td>0.399007</td>\n",
       "      <td>0.600993</td>\n",
       "    </tr>\n",
       "    <tr>\n",
       "      <th>2379</th>\n",
       "      <td>0.368891</td>\n",
       "      <td>0.631109</td>\n",
       "    </tr>\n",
       "  </tbody>\n",
       "</table>\n",
       "<p>2380 rows × 2 columns</p>\n",
       "</div>"
      ],
      "text/plain": [
       "             0         1\n",
       "0     0.085994  0.914006\n",
       "1     0.080374  0.919626\n",
       "2     0.097447  0.902553\n",
       "3     0.085994  0.914006\n",
       "4     0.085994  0.914006\n",
       "...        ...       ...\n",
       "2375  0.372082  0.627918\n",
       "2376  0.557422  0.442578\n",
       "2377  0.469919  0.530081\n",
       "2378  0.399007  0.600993\n",
       "2379  0.368891  0.631109\n",
       "\n",
       "[2380 rows x 2 columns]"
      ]
     },
     "execution_count": 513,
     "metadata": {},
     "output_type": "execute_result"
    }
   ],
   "source": [
    "probs2 = pd.DataFrame(pred_proba)\n",
    "probs2"
   ]
  },
  {
   "cell_type": "code",
   "execution_count": 514,
   "metadata": {},
   "outputs": [],
   "source": [
    "probs2.to_excel(\"probs_son.xlsx\")"
   ]
  },
  {
   "cell_type": "code",
   "execution_count": 41,
   "metadata": {},
   "outputs": [
    {
     "data": {
      "text/plain": [
       "array([[0.00714286, 0.99285714],\n",
       "       [0.00142857, 0.99857143],\n",
       "       [0.03714286, 0.96285714],\n",
       "       ...,\n",
       "       [0.27285714, 0.72714286],\n",
       "       [0.38142857, 0.61857143],\n",
       "       [0.30428571, 0.69571429]])"
      ]
     },
     "execution_count": 41,
     "metadata": {},
     "output_type": "execute_result"
    }
   ],
   "source": [
    "pred_proba"
   ]
  },
  {
   "cell_type": "code",
   "execution_count": 483,
   "metadata": {},
   "outputs": [
    {
     "data": {
      "text/plain": [
       "0.7972027972027972"
      ]
     },
     "execution_count": 483,
     "metadata": {},
     "output_type": "execute_result"
    }
   ],
   "source": [
    "roc_auc_score(y_train_last2,predictions)"
   ]
  },
  {
   "cell_type": "code",
   "execution_count": 484,
   "metadata": {},
   "outputs": [
    {
     "data": {
      "text/plain": [
       "0.7972027972027973"
      ]
     },
     "execution_count": 484,
     "metadata": {},
     "output_type": "execute_result"
    }
   ],
   "source": [
    "balanced_accuracy_score(y_train_last2,predictions)"
   ]
  },
  {
   "cell_type": "markdown",
   "metadata": {},
   "source": [
    "## XGBOOST"
   ]
  },
  {
   "cell_type": "code",
   "execution_count": 20,
   "metadata": {},
   "outputs": [
    {
     "ename": "NameError",
     "evalue": "name 'model' is not defined",
     "output_type": "error",
     "traceback": [
      "\u001b[1;31m---------------------------------------------------------------------------\u001b[0m",
      "\u001b[1;31mNameError\u001b[0m                                 Traceback (most recent call last)",
      "\u001b[1;32m<ipython-input-20-ca599f4192b3>\u001b[0m in \u001b[0;36m<module>\u001b[1;34m\u001b[0m\n\u001b[0;32m      8\u001b[0m  }\n\u001b[0;32m      9\u001b[0m \u001b[0mrf\u001b[0m\u001b[1;33m=\u001b[0m\u001b[0mxgb\u001b[0m\u001b[1;33m.\u001b[0m\u001b[0mXGBClassifier\u001b[0m\u001b[1;33m(\u001b[0m\u001b[0mmin_child_weight\u001b[0m\u001b[1;33m=\u001b[0m\u001b[1;36m10\u001b[0m\u001b[1;33m,\u001b[0m \u001b[0mreg_alpha\u001b[0m\u001b[1;33m=\u001b[0m\u001b[1;36m50\u001b[0m\u001b[1;33m,\u001b[0m \u001b[0mgamma\u001b[0m\u001b[1;33m=\u001b[0m\u001b[1;36m0.01\u001b[0m\u001b[1;33m,\u001b[0m\u001b[0mrandom_state\u001b[0m\u001b[1;33m=\u001b[0m\u001b[1;36m42\u001b[0m\u001b[1;33m)\u001b[0m\u001b[1;33m\u001b[0m\u001b[1;33m\u001b[0m\u001b[0m\n\u001b[1;32m---> 10\u001b[1;33m \u001b[0mrf_grid\u001b[0m \u001b[1;33m=\u001b[0m \u001b[0mGridSearchCV\u001b[0m\u001b[1;33m(\u001b[0m\u001b[0mestimator\u001b[0m \u001b[1;33m=\u001b[0m \u001b[0mmodel\u001b[0m\u001b[1;33m,\u001b[0m \u001b[0mparam_grid\u001b[0m \u001b[1;33m=\u001b[0m \u001b[0mparams\u001b[0m\u001b[1;33m,\u001b[0m \u001b[0mcv\u001b[0m \u001b[1;33m=\u001b[0m \u001b[1;36m5\u001b[0m\u001b[1;33m,\u001b[0m \u001b[0mverbose\u001b[0m\u001b[1;33m=\u001b[0m\u001b[1;36m2\u001b[0m\u001b[1;33m,\u001b[0m \u001b[0mscoring\u001b[0m\u001b[1;33m=\u001b[0m\u001b[1;34m'accuracy'\u001b[0m\u001b[1;33m,\u001b[0m\u001b[0mn_jobs\u001b[0m \u001b[1;33m=\u001b[0m \u001b[1;33m-\u001b[0m\u001b[1;36m1\u001b[0m\u001b[1;33m)\u001b[0m\u001b[1;33m\u001b[0m\u001b[1;33m\u001b[0m\u001b[0m\n\u001b[0m\u001b[0;32m     11\u001b[0m \u001b[0mrf_grid\u001b[0m\u001b[1;33m.\u001b[0m\u001b[0mfit\u001b[0m\u001b[1;33m(\u001b[0m\u001b[0mX_train_last3\u001b[0m\u001b[1;33m,\u001b[0m \u001b[0my_train_last3\u001b[0m\u001b[1;33m)\u001b[0m\u001b[1;33m\u001b[0m\u001b[1;33m\u001b[0m\u001b[0m\n\u001b[0;32m     12\u001b[0m \u001b[0mprint\u001b[0m\u001b[1;33m(\u001b[0m\u001b[0mrf_grid\u001b[0m\u001b[1;33m.\u001b[0m\u001b[0mbest_params_\u001b[0m\u001b[1;33m)\u001b[0m\u001b[1;33m\u001b[0m\u001b[1;33m\u001b[0m\u001b[0m\n",
      "\u001b[1;31mNameError\u001b[0m: name 'model' is not defined"
     ]
    }
   ],
   "source": [
    "learning_rate = [0.1,1]\n",
    "max_depth = [5,10,20]\n",
    "n_estimators = [50,100,200]\n",
    "params = {\n",
    " 'learning_rate': learning_rate,\n",
    " 'max_depth': max_depth,\n",
    " 'n_estimators' : n_estimators\n",
    " }\n",
    "rf=xgb.XGBClassifier(min_child_weight=10, reg_alpha=50, gamma=0.01,random_state=42)\n",
    "rf_grid = GridSearchCV(estimator = model, param_grid = params, cv = 5, verbose=2, scoring='accuracy',n_jobs = -1)\n",
    "rf_grid.fit(X_train_last3, y_train_last3)\n",
    "print(rf_grid.best_params_)"
   ]
  },
  {
   "cell_type": "code",
   "execution_count": 21,
   "metadata": {},
   "outputs": [
    {
     "name": "stderr",
     "output_type": "stream",
     "text": [
      "C:\\Users\\mertg\\Anaconda3\\lib\\site-packages\\xgboost\\sklearn.py:888: UserWarning: The use of label encoder in XGBClassifier is deprecated and will be removed in a future release. To remove this warning, do the following: 1) Pass option use_label_encoder=False when constructing XGBClassifier object; and 2) Encode your labels (y) as integers starting with 0, i.e. 0, 1, 2, ..., [num_class - 1].\n",
      "  warnings.warn(label_encoder_deprecation_msg, UserWarning)\n"
     ]
    },
    {
     "name": "stdout",
     "output_type": "stream",
     "text": [
      "[23:12:07] WARNING: C:/Users/Administrator/workspace/xgboost-win64_release_1.3.0/src/learner.cc:1061: Starting in XGBoost 1.3.0, the default evaluation metric used with the objective 'binary:logistic' was changed from 'error' to 'logloss'. Explicitly set eval_metric if you'd like to restore the old behavior.\n"
     ]
    },
    {
     "data": {
      "text/plain": [
       "0.851"
      ]
     },
     "execution_count": 21,
     "metadata": {},
     "output_type": "execute_result"
    }
   ],
   "source": [
    "model = xgb.XGBClassifier(learning_rate=0.1, n_estimators=50, max_depth=10, min_child_weight=10, reg_alpha=50, gamma=0.01)\n",
    "model.fit(X_train_last3,y_train_last3)\n",
    "predictions = model.predict(X_train_last2)\n",
    "accuracy_score(y_train_last2,predictions)"
   ]
  },
  {
   "cell_type": "code",
   "execution_count": 22,
   "metadata": {},
   "outputs": [],
   "source": [
    "preds = np.where(model.predict_proba(X_train_last2)[:,1] > 0.6, 1, 0)"
   ]
  },
  {
   "cell_type": "code",
   "execution_count": null,
   "metadata": {},
   "outputs": [],
   "source": [
    "model.predict_proba()"
   ]
  },
  {
   "cell_type": "code",
   "execution_count": 23,
   "metadata": {},
   "outputs": [
    {
     "data": {
      "text/plain": [
       "0.84"
      ]
     },
     "execution_count": 23,
     "metadata": {},
     "output_type": "execute_result"
    }
   ],
   "source": [
    "accuracy_score(y_train_last2,preds)"
   ]
  },
  {
   "cell_type": "code",
   "execution_count": 24,
   "metadata": {},
   "outputs": [
    {
     "data": {
      "text/plain": [
       "0.8093240093240093"
      ]
     },
     "execution_count": 24,
     "metadata": {},
     "output_type": "execute_result"
    }
   ],
   "source": [
    "roc_auc_score(y_train_last2,preds)\n",
    "balanced_accuracy_score(y_train_last2,preds)"
   ]
  },
  {
   "cell_type": "markdown",
   "metadata": {},
   "source": [
    "## SVM"
   ]
  },
  {
   "cell_type": "code",
   "execution_count": 451,
   "metadata": {},
   "outputs": [
    {
     "name": "stdout",
     "output_type": "stream",
     "text": [
      "Fitting 5 folds for each of 18 candidates, totalling 90 fits\n",
      "{'C': 1e-06, 'degree': 1}\n"
     ]
    }
   ],
   "source": [
    "C = [0.000001,0.00001,0.001,0.01,0.1,1]\n",
    "degree = [1,2,3]\n",
    "params = {\n",
    " 'C': C,'degree': degree,\n",
    "}\n",
    "SVCmdl=SVC(random_state=42)\n",
    "rf_grid = GridSearchCV(estimator = SVCmdl, param_grid = params, cv = 5, verbose=2, scoring='accuracy',n_jobs = -1)\n",
    "rf_grid.fit(X_train_last3, y_train_last3)\n",
    "print(rf_grid.best_params_)"
   ]
  },
  {
   "cell_type": "code",
   "execution_count": 452,
   "metadata": {},
   "outputs": [
    {
     "data": {
      "text/plain": [
       "0.6551928783382789"
      ]
     },
     "execution_count": 452,
     "metadata": {},
     "output_type": "execute_result"
    }
   ],
   "source": [
    "model = SVC(C=0.00001,degree=1)\n",
    "model.fit(X_train_last3, y_train_last3)\n",
    "predictions = model.predict(X_train_last2)\n",
    "accuracy_score(y_train_last2,predictions)"
   ]
  },
  {
   "cell_type": "code",
   "execution_count": 122,
   "metadata": {},
   "outputs": [
    {
     "data": {
      "text/plain": [
       "0.5"
      ]
     },
     "execution_count": 122,
     "metadata": {},
     "output_type": "execute_result"
    }
   ],
   "source": [
    "roc_auc_score(y_train_last2,predictions)\n",
    "balanced_accuracy_score(y_train_last2,predictions)"
   ]
  }
 ],
 "metadata": {
  "kernelspec": {
   "display_name": "Python 3",
   "language": "python",
   "name": "python3"
  },
  "language_info": {
   "codemirror_mode": {
    "name": "ipython",
    "version": 3
   },
   "file_extension": ".py",
   "mimetype": "text/x-python",
   "name": "python",
   "nbconvert_exporter": "python",
   "pygments_lexer": "ipython3",
   "version": "3.7.3"
  }
 },
 "nbformat": 4,
 "nbformat_minor": 4
}
