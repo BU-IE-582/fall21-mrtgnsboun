{
 "cells": [
  {
   "cell_type": "markdown",
   "id": "4f36210e",
   "metadata": {},
   "source": [
    "### MERT GÜNEŞ HOMEWORK 3\n",
    "### 2021702093\n",
    "### IE - 582"
   ]
  },
  {
   "cell_type": "code",
   "execution_count": 225,
   "id": "5f82aa4f",
   "metadata": {},
   "outputs": [],
   "source": [
    "import pandas as pd\n",
    "import numpy as np\n",
    "from sklearn.neighbors import KNeighborsClassifier\n",
    "from sklearn.model_selection import GridSearchCV\n",
    "import timeit\n",
    "from sklearn.metrics import accuracy_score\n",
    "from sklearn.metrics import confusion_matrix\n",
    "import seaborn as sns\n",
    "from sklearn.linear_model import LogisticRegression\n",
    "from sklearn.linear_model import LogisticRegressionCV\n",
    "from sklearn.metrics import pairwise_distances\n",
    "import matplotlib.pyplot as plt"
   ]
  },
  {
   "cell_type": "markdown",
   "id": "ccf4e2aa",
   "metadata": {},
   "source": [
    "### Data Preprocessing"
   ]
  },
  {
   "cell_type": "markdown",
   "id": "d43c9062",
   "metadata": {},
   "source": [
    "In this project, same data has been used with previous homework. Data has been splitted as test and train, labels also has been splitted as \"y_test\" and \"y_train\"."
   ]
  },
  {
   "cell_type": "code",
   "execution_count": 211,
   "id": "1ba37765",
   "metadata": {},
   "outputs": [],
   "source": [
    "X_train = pd.read_csv(\"uWaveGestureLibrary_X_TRAIN\",sep=\";\",header=None)\n",
    "Y_train = pd.read_csv(\"uWaveGestureLibrary_Y_TRAIN\",sep=\";\",header=None)\n",
    "Z_train = pd.read_csv(\"uWaveGestureLibrary_Z_TRAIN\",sep=\";\",header=None)\n",
    "X_test = pd.read_csv(\"uWaveGestureLibrary_X_TEST\",sep=\";\",header=None)\n",
    "Y_test = pd.read_csv(\"uWaveGestureLibrary_Y_TEST\",sep=\";\",header=None)\n",
    "Z_test = pd.read_csv(\"uWaveGestureLibrary_Z_TEST\",sep=\";\",header=None)"
   ]
  },
  {
   "cell_type": "code",
   "execution_count": 212,
   "id": "e7fc5758",
   "metadata": {},
   "outputs": [],
   "source": [
    "X_train.columns = ['Class']+['X_axis'+str(i) for i in range(1,316)]\n",
    "Y_train.columns = ['Class']+['Y_axis'+str(i) for i in range(1,316)]\n",
    "Z_train.columns = ['Class']+['Z_axis'+str(i) for i in range(1,316)]\n",
    "X_test.columns = ['Class']+['X_axis'+str(i) for i in range(1,316)]\n",
    "Y_test.columns = ['Class']+['Y_axis'+str(i) for i in range(1,316)]\n",
    "Z_test.columns = ['Class']+['Z_axis'+str(i) for i in range(1,316)]"
   ]
  },
  {
   "cell_type": "code",
   "execution_count": 213,
   "id": "430f4170",
   "metadata": {},
   "outputs": [],
   "source": [
    "Train = pd.merge(X_train,Y_train.drop([\"Class\"],axis=1),how=\"left\",left_index=True,right_index=True)\n",
    "Train = pd.merge(Train,Z_train.drop([\"Class\"],axis=1),how=\"left\",left_index=True,right_index=True)\n",
    "Test = pd.merge(X_test,Y_test.drop([\"Class\"],axis=1),how=\"left\",left_index=True,right_index=True)\n",
    "Test = pd.merge(Test,Z_test.drop([\"Class\"],axis=1),how=\"left\",left_index=True,right_index=True)"
   ]
  },
  {
   "cell_type": "code",
   "execution_count": 214,
   "id": "4b410027",
   "metadata": {},
   "outputs": [],
   "source": [
    "y_test = Test[\"Class\"]\n",
    "X_test = Test.drop([\"Class\"],axis=1)\n",
    "X_train = Train.drop([\"Class\"],axis=1)\n",
    "y_train = Train[\"Class\"]"
   ]
  },
  {
   "cell_type": "markdown",
   "id": "59a6e7d6",
   "metadata": {},
   "source": [
    "## TASK 1"
   ]
  },
  {
   "cell_type": "markdown",
   "id": "8d3e5e4c",
   "metadata": {},
   "source": [
    "Part A\n",
    "\n",
    "For Nearest Neighbors model, two different distance metrics has been used: Euclidean and Chebyshev. Best number of neighbors is same for each method: 3 for 10-Fold Cross Validation."
   ]
  },
  {
   "cell_type": "code",
   "execution_count": 218,
   "id": "7ccf184f",
   "metadata": {},
   "outputs": [
    {
     "data": {
      "text/plain": [
       "KNeighborsClassifier(metric='euclidean', n_neighbors=3)"
      ]
     },
     "execution_count": 218,
     "metadata": {},
     "output_type": "execute_result"
    }
   ],
   "source": [
    "model_euc = KNeighborsClassifier(metric=\"euclidean\")\n",
    "n = list(np.arange(2,55))\n",
    "KNN_Grid = GridSearchCV(model_euc,param_grid={'n_neighbors':n},cv=10,scoring='accuracy')\n",
    "KNN_Grid.fit(X_train,y_train)\n",
    "KNN_Grid.best_estimator_"
   ]
  },
  {
   "cell_type": "code",
   "execution_count": 219,
   "id": "c272f3d9",
   "metadata": {},
   "outputs": [
    {
     "data": {
      "text/plain": [
       "KNeighborsClassifier(metric='chebyshev', n_neighbors=3)"
      ]
     },
     "execution_count": 219,
     "metadata": {},
     "output_type": "execute_result"
    }
   ],
   "source": [
    "model_cheb = KNeighborsClassifier(metric=\"chebyshev\")\n",
    "n = list(np.arange(2,55))\n",
    "KNN_Grid = GridSearchCV(model_cheb,param_grid={'n_neighbors':n},cv=10,scoring='accuracy')\n",
    "KNN_Grid.fit(X_train,y_train)\n",
    "KNN_Grid.best_estimator_"
   ]
  },
  {
   "cell_type": "markdown",
   "id": "b83595be",
   "metadata": {},
   "source": [
    "Part B"
   ]
  },
  {
   "cell_type": "code",
   "execution_count": 227,
   "id": "72888b79",
   "metadata": {},
   "outputs": [
    {
     "name": "stdout",
     "output_type": "stream",
     "text": [
      "Train Accuracy Score:  0.9676339285714286\n",
      "Test Accuracy Score:  0.9438860971524288\n",
      "Run Time:  0.2580955419980455\n"
     ]
    },
    {
     "data": {
      "text/plain": [
       "Text(33.0, 0.5, 'True labels')"
      ]
     },
     "execution_count": 227,
     "metadata": {},
     "output_type": "execute_result"
    },
    {
     "data": {
      "image/png": "[encoded data removed]",
      "text/plain": [
       "<Figure size 432x288 with 2 Axes>"
      ]
     },
     "metadata": {
      "needs_background": "light"
     },
     "output_type": "display_data"
    }
   ],
   "source": [
    "start = timeit.default_timer()\n",
    "model_euc = KNeighborsClassifier(metric=\"euclidean\",n_neighbors=3)\n",
    "model_euc.fit(X_train,y_train)\n",
    "y_train_pred = model_euc.predict(X_train)\n",
    "y_test_pred = model_euc.predict(X_test)\n",
    "stop = timeit.default_timer()\n",
    "accuracy_train = accuracy_score(y_train,y_train_pred)\n",
    "accuracy_test = accuracy_score(y_test,y_test_pred)\n",
    "conf = confusion_matrix(y_test,y_test_pred)\n",
    "print(\"Train Accuracy Score: \", accuracy_train)\n",
    "print(\"Test Accuracy Score: \", accuracy_test)\n",
    "print(\"Run Time: \", stop-start)\n",
    "plot = plt.subplot()\n",
    "sns.heatmap(conf,annot=True,fmt='g',ax=plot)\n",
    "plot.set_xlabel('Predicted labels')\n",
    "plot.set_ylabel('True labels')"
   ]
  },
  {
   "cell_type": "markdown",
   "id": "7f47272f",
   "metadata": {},
   "source": [
    "In addition to accuracy scores, It can also be seen in the confusion matrix that the most false predictions are seen in the class 4."
   ]
  },
  {
   "cell_type": "code",
   "execution_count": 228,
   "id": "cc4cb05f",
   "metadata": {},
   "outputs": [
    {
     "name": "stdout",
     "output_type": "stream",
     "text": [
      "Train Accuracy Score:  0.90625\n",
      "Test Accuracy Score:  0.8587381351200447\n",
      "Run Time:  2.432734917005291\n"
     ]
    },
    {
     "data": {
      "text/plain": [
       "Text(33.0, 0.5, 'True labels')"
      ]
     },
     "execution_count": 228,
     "metadata": {},
     "output_type": "execute_result"
    },
    {
     "data": {
      "image/png": "[encoded data removed]",
      "text/plain": [
       "<Figure size 432x288 with 2 Axes>"
      ]
     },
     "metadata": {
      "needs_background": "light"
     },
     "output_type": "display_data"
    }
   ],
   "source": [
    "start = timeit.default_timer()\n",
    "model_cheb = KNeighborsClassifier(metric=\"chebyshev\",n_neighbors=3)\n",
    "model_cheb.fit(X_train,y_train)\n",
    "y_train_pred = model_cheb.predict(X_train)\n",
    "y_test_pred = model_cheb.predict(X_test)\n",
    "stop = timeit.default_timer()\n",
    "accuracy_train = accuracy_score(y_train,y_train_pred)\n",
    "accuracy_test = accuracy_score(y_test,y_test_pred)\n",
    "conf = confusion_matrix(y_test,y_test_pred)\n",
    "print(\"Train Accuracy Score: \", accuracy_train)\n",
    "print(\"Test Accuracy Score: \", accuracy_test)\n",
    "print(\"Run Time: \", stop-start)\n",
    "plot = plt.subplot()\n",
    "sns.heatmap(conf,annot=True,fmt='g',ax=plot)\n",
    "plot.set_xlabel('Predicted labels')\n",
    "plot.set_ylabel('True labels')"
   ]
  },
  {
   "cell_type": "markdown",
   "id": "1163b03c",
   "metadata": {},
   "source": [
    "In addition to accuracy scores, It can also be seen in the confusion matrix that the most false predictions are seen in the class 4 and 6."
   ]
  },
  {
   "cell_type": "markdown",
   "id": "56d77149",
   "metadata": {},
   "source": [
    "Also, euclidean is greatly better than chebyshev for this data because accuracy score is nearly 0.1 point greater than other."
   ]
  },
  {
   "cell_type": "markdown",
   "id": "e0ed3a9f",
   "metadata": {},
   "source": [
    "Part C\n",
    "\n",
    "Rather than giving the same weight to all axes, it may be more accurate to give different weights to the axes. For example, it is seen that class 4 is estimated incorrectly in the models. Considering that 4 is horizontal, more coefficients can be given to X."
   ]
  },
  {
   "cell_type": "markdown",
   "id": "1a97f2c6",
   "metadata": {},
   "source": [
    "## Task 2\n",
    "\n",
    "Labels are created for classification by using Numpy. Threshold were set as percent of Class 3 in all data."
   ]
  },
  {
   "cell_type": "code",
   "execution_count": 232,
   "id": "15af0dcd",
   "metadata": {},
   "outputs": [],
   "source": [
    "y_test = np.where(y_test == 3, 1, 0)"
   ]
  },
  {
   "cell_type": "code",
   "execution_count": 233,
   "id": "6fbb3354",
   "metadata": {},
   "outputs": [
    {
     "data": {
      "text/plain": [
       "(array([0, 1]), array([3128,  454]))"
      ]
     },
     "execution_count": 233,
     "metadata": {},
     "output_type": "execute_result"
    }
   ],
   "source": [
    "np.unique(y_test,return_counts=True)"
   ]
  },
  {
   "cell_type": "code",
   "execution_count": 234,
   "id": "04866091",
   "metadata": {},
   "outputs": [],
   "source": [
    "thr_test = 454/(3128+454)"
   ]
  },
  {
   "cell_type": "code",
   "execution_count": 235,
   "id": "32af7278",
   "metadata": {},
   "outputs": [],
   "source": [
    "y_train = np.where(y_train == 3, 1, 0)"
   ]
  },
  {
   "cell_type": "code",
   "execution_count": 236,
   "id": "e272dc31",
   "metadata": {},
   "outputs": [
    {
     "data": {
      "text/plain": [
       "(array([0, 1]), array([790, 106]))"
      ]
     },
     "execution_count": 236,
     "metadata": {},
     "output_type": "execute_result"
    }
   ],
   "source": [
    "np.unique(y_train,return_counts=True)"
   ]
  },
  {
   "cell_type": "code",
   "execution_count": 237,
   "id": "545a8fb3",
   "metadata": {},
   "outputs": [],
   "source": [
    "thr_train = 106/(790+106)"
   ]
  },
  {
   "cell_type": "markdown",
   "id": "3bdd0a3d",
   "metadata": {},
   "source": [
    "Part A"
   ]
  },
  {
   "cell_type": "code",
   "execution_count": 238,
   "id": "08a116d2",
   "metadata": {},
   "outputs": [
    {
     "name": "stdout",
     "output_type": "stream",
     "text": [
      "Train Accuracy Score:  0.9676339285714286\n",
      "Test Accuracy Score:  0.9179229480737019\n",
      "Run Time:  0.16500020799867343\n"
     ]
    },
    {
     "data": {
      "text/plain": [
       "Text(33.0, 0.5, 'True labels')"
      ]
     },
     "execution_count": 238,
     "metadata": {},
     "output_type": "execute_result"
    },
    {
     "data": {
      "image/png": "[encoded data removed]",
      "text/plain": [
       "<Figure size 432x288 with 2 Axes>"
      ]
     },
     "metadata": {
      "needs_background": "light"
     },
     "output_type": "display_data"
    }
   ],
   "source": [
    "start = timeit.default_timer()\n",
    "model_lr = LogisticRegression(max_iter=50000,random_state=42)\n",
    "model_lr.fit(X_train,y_train)\n",
    "y_train_pred = (model_lr.predict_proba(X_train)[:,1] >= thr_train).astype(int)\n",
    "y_test_pred = (model_lr.predict_proba(X_test)[:,1] >= thr_test).astype(int)\n",
    "stop = timeit.default_timer()\n",
    "accuracy_train = accuracy_score(y_train,y_train_pred)\n",
    "accuracy_test = accuracy_score(y_test,y_test_pred)\n",
    "conf = confusion_matrix(y_test,y_test_pred)\n",
    "print(\"Train Accuracy Score: \", accuracy_train)\n",
    "print(\"Test Accuracy Score: \", accuracy_test)\n",
    "print(\"Run Time: \", stop-start)\n",
    "plot = plt.subplot()\n",
    "sns.heatmap(conf,annot=True,fmt='g',ax=plot)\n",
    "plot.set_xlabel('Predicted labels')\n",
    "plot.set_ylabel('True labels')"
   ]
  },
  {
   "cell_type": "markdown",
   "id": "af080f0e",
   "metadata": {},
   "source": [
    "Logistic Regression model has been created and accuracy score for test data is 0.92 is enough to trust model. Also, most of negative has been predicted correctly but nearly %25 of positives has been predicted as 0."
   ]
  },
  {
   "cell_type": "markdown",
   "id": "06e8ae89",
   "metadata": {},
   "source": [
    "Part B"
   ]
  },
  {
   "cell_type": "code",
   "execution_count": 240,
   "id": "513b934d",
   "metadata": {
    "scrolled": true
   },
   "outputs": [
    {
     "data": {
      "text/plain": [
       "array([0.5])"
      ]
     },
     "execution_count": 240,
     "metadata": {},
     "output_type": "execute_result"
    }
   ],
   "source": [
    "lasso_grid = LogisticRegressionCV(Cs=[0.1,0.5,1,5,10,100],cv=10,penalty='l1',solver=\"liblinear\",\n",
    "                                  scoring='neg_log_loss',max_iter=50000,random_state=42)\n",
    "lasso_grid.fit(X_train,y_train)\n",
    "lasso_grid.C_"
   ]
  },
  {
   "cell_type": "markdown",
   "id": "1fb9b859",
   "metadata": {},
   "source": [
    "0.5 is best lambda for this data."
   ]
  },
  {
   "cell_type": "code",
   "execution_count": 241,
   "id": "9cc1b835",
   "metadata": {},
   "outputs": [
    {
     "name": "stdout",
     "output_type": "stream",
     "text": [
      "Train Accuracy Score:  0.9341517857142857\n",
      "Test Accuracy Score:  0.9204355108877722\n",
      "Run Time:  0.3548653750040103\n"
     ]
    },
    {
     "data": {
      "text/plain": [
       "Text(33.0, 0.5, 'True labels')"
      ]
     },
     "execution_count": 241,
     "metadata": {},
     "output_type": "execute_result"
    },
    {
     "data": {
      "image/png": "[encoded data removed]",
      "text/plain": [
       "<Figure size 432x288 with 2 Axes>"
      ]
     },
     "metadata": {
      "needs_background": "light"
     },
     "output_type": "display_data"
    }
   ],
   "source": [
    "start = timeit.default_timer()\n",
    "model_lasso = LogisticRegressionCV(Cs=[0.5],penalty='l1',solver=\"liblinear\",max_iter=50000,random_state=42)\n",
    "model_lasso.fit(X_train,y_train)\n",
    "y_train_pred = (model_lasso.predict_proba(X_train)[:,1] >= thr_train).astype(int)\n",
    "y_test_pred = (model_lasso.predict_proba(X_test)[:,1] >= thr_test).astype(int)\n",
    "stop = timeit.default_timer()\n",
    "accuracy_train = accuracy_score(y_train,y_train_pred)\n",
    "accuracy_test = accuracy_score(y_test,y_test_pred)\n",
    "conf = confusion_matrix(y_test,y_test_pred)\n",
    "print(\"Train Accuracy Score: \", accuracy_train)\n",
    "print(\"Test Accuracy Score: \", accuracy_test)\n",
    "print(\"Run Time: \", stop-start)\n",
    "plot = plt.subplot()\n",
    "sns.heatmap(conf,annot=True,fmt='g',ax=plot)\n",
    "plot.set_xlabel('Predicted labels')\n",
    "plot.set_ylabel('True labels')"
   ]
  },
  {
   "cell_type": "markdown",
   "id": "4e168d5a",
   "metadata": {},
   "source": [
    "Accuracy of model slightly increased when Lasso Regression has been used. Ratio of positives has been predicted correctly is greater than model without Lasso. "
   ]
  },
  {
   "cell_type": "code",
   "execution_count": 242,
   "id": "05229a77",
   "metadata": {},
   "outputs": [
    {
     "name": "stdout",
     "output_type": "stream",
     "text": [
      "Percent of zero features:  0.9248677248677248\n"
     ]
    }
   ],
   "source": [
    "a = 0\n",
    "for i in range(0,945):\n",
    "    if model_lasso.coef_[:,i] == 0:\n",
    "        a+=1\n",
    "    else:\n",
    "        pass\n",
    "print(\"Percent of zero features: \", a/945)"
   ]
  },
  {
   "cell_type": "markdown",
   "id": "eeba5b88",
   "metadata": {},
   "source": [
    "Also, Lasso model has just used 0.075 of features to build model and this was enough for better predictions."
   ]
  },
  {
   "cell_type": "markdown",
   "id": "42581956",
   "metadata": {},
   "source": [
    "Part C"
   ]
  },
  {
   "cell_type": "code",
   "execution_count": 243,
   "id": "fa1c3390",
   "metadata": {},
   "outputs": [],
   "source": [
    "X_train_dist = pd.DataFrame(pairwise_distances(X_train,metric=\"euclidean\"),columns=X_train.index,index=X_train.index)"
   ]
  },
  {
   "cell_type": "code",
   "execution_count": 244,
   "id": "a86b36d1",
   "metadata": {},
   "outputs": [],
   "source": [
    "X_test_dist = pd.DataFrame(pairwise_distances(X_test,X_train,metric=\"euclidean\"),columns=X_train.index,index=X_test.index)"
   ]
  },
  {
   "cell_type": "code",
   "execution_count": 245,
   "id": "6eecfb4a",
   "metadata": {},
   "outputs": [
    {
     "data": {
      "text/plain": [
       "array([5.])"
      ]
     },
     "execution_count": 245,
     "metadata": {},
     "output_type": "execute_result"
    }
   ],
   "source": [
    "lasso_grid = LogisticRegressionCV(Cs=[0.1,0.5,1,5,10,100],cv=10,penalty='l1',solver=\"liblinear\",\n",
    "                                  scoring='neg_log_loss',max_iter=50000,random_state=42)\n",
    "lasso_grid.fit(X_train_dist,y_train)\n",
    "lasso_grid.C_"
   ]
  },
  {
   "cell_type": "markdown",
   "id": "6a9905b0",
   "metadata": {},
   "source": [
    "Best lambda is 5 for distance data."
   ]
  },
  {
   "cell_type": "code",
   "execution_count": 247,
   "id": "7d0eb04c",
   "metadata": {},
   "outputs": [
    {
     "name": "stdout",
     "output_type": "stream",
     "text": [
      "Train Accuracy Score:  0.9977678571428571\n",
      "Test Accuracy Score:  0.9852037967615858\n",
      "Run Time:  1.6614355000056094\n"
     ]
    },
    {
     "data": {
      "text/plain": [
       "Text(33.0, 0.5, 'True labels')"
      ]
     },
     "execution_count": 247,
     "metadata": {},
     "output_type": "execute_result"
    },
    {
     "data": {
      "image/png": "[encoded data removed]",
      "text/plain": [
       "<Figure size 432x288 with 2 Axes>"
      ]
     },
     "metadata": {
      "needs_background": "light"
     },
     "output_type": "display_data"
    }
   ],
   "source": [
    "start = timeit.default_timer()\n",
    "model_lasso = LogisticRegressionCV(Cs=[5],penalty='l1',solver=\"liblinear\",max_iter=50000,random_state=42)\n",
    "model_lasso.fit(X_train_dist,y_train)\n",
    "y_train_pred = (model_lasso.predict_proba(X_train_dist)[:,1] >= thr_train).astype(int)\n",
    "y_test_pred = (model_lasso.predict_proba(X_test_dist)[:,1] >= thr_test).astype(int)\n",
    "stop = timeit.default_timer()\n",
    "accuracy_train = accuracy_score(y_train,y_train_pred)\n",
    "accuracy_test = accuracy_score(y_test,y_test_pred)\n",
    "conf = confusion_matrix(y_test,y_test_pred)\n",
    "print(\"Train Accuracy Score: \", accuracy_train)\n",
    "print(\"Test Accuracy Score: \", accuracy_test)\n",
    "print(\"Run Time: \", stop-start)\n",
    "sns.heatmap(conf,annot=True,fmt=\"g\")\n",
    "plot = plt.subplot()\n",
    "sns.heatmap(conf,annot=True,fmt='g',ax=plot)\n",
    "plot.set_xlabel('Predicted labels')\n",
    "plot.set_ylabel('True labels')"
   ]
  },
  {
   "cell_type": "markdown",
   "id": "7b6251bb",
   "metadata": {},
   "source": [
    "0.985 accuracy score is best, usage of distance matrix is a better way than previous data models. In addition, true positive and negative rates are best among all models."
   ]
  },
  {
   "cell_type": "code",
   "execution_count": 203,
   "id": "c0e68785",
   "metadata": {},
   "outputs": [
    {
     "name": "stdout",
     "output_type": "stream",
     "text": [
      "Percent of zero features:  0.14955357142857142\n"
     ]
    }
   ],
   "source": [
    "a = 0\n",
    "for i in range(0,896):\n",
    "    if model_lasso.coef_[:,i] == 0:\n",
    "        a+=1\n",
    "    else:\n",
    "        pass\n",
    "print(\"Percent of zero features: \", a/896)"
   ]
  },
  {
   "cell_type": "markdown",
   "id": "447f972b",
   "metadata": {},
   "source": [
    "Models are using most of features now rather than previous Lasso model."
   ]
  },
  {
   "cell_type": "markdown",
   "id": "1088b9a4",
   "metadata": {},
   "source": [
    "Part D"
   ]
  },
  {
   "cell_type": "markdown",
   "id": "6383b12f",
   "metadata": {},
   "source": [
    "KNN Classifier Euclidean Test Accuracy: 0.9438860971524288\n",
    "KNN Classifier Chebyshev Test Accuracy: 0.8587381351200447\n",
    "Logistic Regression Test Accuracy: 0.9179229480737019\n",
    "Logistic Regression Lasso Test Accuracy: 0.9204355108877722\n",
    "Logistic Regression Lasso Distance Matrix: 0.9852037967615858\n",
    "    \n",
    "As can be seen, lasso and distance matrix preference gives the best results for this data. If KNN is to be used, euclidean will be a more accurate metric."
   ]
  }
 ],
 "metadata": {
  "kernelspec": {
   "display_name": "Python 3 (ipykernel)",
   "language": "python",
   "name": "python3"
  },
  "language_info": {
   "codemirror_mode": {
    "name": "ipython",
    "version": 3
   },
   "file_extension": ".py",
   "mimetype": "text/x-python",
   "name": "python",
   "nbconvert_exporter": "python",
   "pygments_lexer": "ipython3",
   "version": "3.9.7"
  }
 },
 "nbformat": 4,
 "nbformat_minor": 5
}
